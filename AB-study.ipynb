{
 "cells": [
  {
   "cell_type": "markdown",
   "metadata": {},
   "source": [
    "# Проект: изучение поведения пользователей мобильного приложения"
   ]
  },
  {
   "cell_type": "markdown",
   "metadata": {},
   "source": [
    "## Вводная часть"
   ]
  },
  {
   "cell_type": "markdown",
   "metadata": {},
   "source": [
    "Объект анализа - поведение пользователей мобильного приложения, принадлежащего стартапу, который продаёт продукты питания. \n",
    "На первом этапе мы изучим воронку продаж. Узнаем, как пользователи доходят до покупки. Сколько пользователей доходит до покупки, а сколько — «застревает» на предыдущих шагах и на каких именно.\n",
    "На втором этапе мы исследуем результаты A/A/B-эксперимента. Дизайнеры захотели поменять шрифты во всём приложении, однако возникло опасение, что пользователям будет непривычно. Было принято решение провести A/A/B-тест. Пользователей разбили на 3 группы: 2 контрольные со старыми шрифтами и одну экспериментальную — с новыми. Контрольные мы используем для проведения А/A теста. А затем проведем А/B тест, подключив экспериментальную группу. Таким образом, мы сможем выяснить, повлиял ли и как повлиял новый шрифт. "
   ]
  },
  {
   "cell_type": "markdown",
   "metadata": {},
   "source": [
    "## Общая информация о датасете и предварительная подготовка"
   ]
  },
  {
   "cell_type": "markdown",
   "metadata": {},
   "source": [
    "### Общая информация о датасете"
   ]
  },
  {
   "cell_type": "markdown",
   "metadata": {},
   "source": [
    "Имеется датасет /datasets/logs_exp.csv со следующей информацией:\n",
    "EventName -  название события;\n",
    "DeviceIDHash — уникальный идентификатор пользователя;\n",
    "EventTimestamp — время события;\n",
    "ExpId — номер эксперимента: 246 и 247 — контрольные группы, а 248 — экспериментальная."
   ]
  },
  {
   "cell_type": "markdown",
   "metadata": {},
   "source": [
    "### Предварительная подготовка данных"
   ]
  },
  {
   "cell_type": "markdown",
   "metadata": {},
   "source": [
    "#### Импорт библиотек и настройка pandas"
   ]
  },
  {
   "cell_type": "markdown",
   "metadata": {},
   "source": [
    "Для начала загрузим необходимые библиотеки и настроим Pandas для работы"
   ]
  },
  {
   "cell_type": "code",
   "execution_count": 3,
   "metadata": {},
   "outputs": [],
   "source": [
    "#Импортируем стандартные библиотеки\n",
    "import pandas as pd\n",
    "import numpy as np\n",
    "import matplotlib.pyplot as plt\n",
    "import datetime as dt\n",
    "from datetime import datetime, date, timedelta\n",
    "import scipy.stats as st\n",
    "import plotly.express as px\n",
    "from matplotlib.pyplot import figure\n",
    "from plotly import graph_objects as go\n",
    "from itertools import combinations"
   ]
  },
  {
   "cell_type": "code",
   "execution_count": 4,
   "metadata": {},
   "outputs": [],
   "source": [
    "# зададим настройки pandas, регулирующие \n",
    "# формат вывода \n",
    "pd.set_option('display.notebook_repr_html', False) \n",
    "pd.set_option('display.max_columns', 10) \n",
    "pd.set_option('display.max_rows', 12) \n",
    "pd.set_option('display.width', 80) \n",
    "pd.options.display.max_colwidth = 130\n",
    "pd.set_option('display.notebook_repr_html', True)"
   ]
  },
  {
   "cell_type": "code",
   "execution_count": 16,
   "metadata": {},
   "outputs": [
    {
     "name": "stdout",
     "output_type": "stream",
     "text": [
      "File not found.\n"
     ]
    }
   ],
   "source": [
    "#Загрузим датафрейм\n",
    "try:\n",
    "    full_logs = pd.read_csv('/datasets/logs_exp.csv', sep=\"\\s+\")\n",
    "    \n",
    "except FileNotFoundError:\n",
    "    print(\"File not found.\")\n",
    "except pd.errors.EmptyDataError:\n",
    "    print(\"No data\")\n",
    "except pd.errors.ParserError:\n",
    "    print(\"Parse error\")\n",
    "except Exception:\n",
    "    print(\"Other exceptions\")\n"
   ]
  },
  {
   "cell_type": "markdown",
   "metadata": {},
   "source": [
    "#### Составление общего представления о датасете, проверка на пропуски и дубликаты"
   ]
  },
  {
   "cell_type": "markdown",
   "metadata": {},
   "source": [
    "Составим общее представление о датасетах"
   ]
  },
  {
   "cell_type": "code",
   "execution_count": 6,
   "metadata": {},
   "outputs": [
    {
     "ename": "NameError",
     "evalue": "name 'full_logs' is not defined",
     "output_type": "error",
     "traceback": [
      "\u001b[1;31m---------------------------------------------------------------------------\u001b[0m",
      "\u001b[1;31mNameError\u001b[0m                                 Traceback (most recent call last)",
      "\u001b[1;32m~\\AppData\\Local\\Temp\\ipykernel_15336\\1876680565.py\u001b[0m in \u001b[0;36m<module>\u001b[1;34m\u001b[0m\n\u001b[1;32m----> 1\u001b[1;33m \u001b[0mdisplay\u001b[0m\u001b[1;33m(\u001b[0m\u001b[0mfull_logs\u001b[0m\u001b[1;33m.\u001b[0m\u001b[0mhead\u001b[0m\u001b[1;33m(\u001b[0m\u001b[1;36m10\u001b[0m\u001b[1;33m)\u001b[0m\u001b[1;33m)\u001b[0m\u001b[1;33m\u001b[0m\u001b[1;33m\u001b[0m\u001b[0m\n\u001b[0m",
      "\u001b[1;31mNameError\u001b[0m: name 'full_logs' is not defined"
     ]
    }
   ],
   "source": [
    "display(full_logs.head(10))"
   ]
  },
  {
   "cell_type": "code",
   "execution_count": null,
   "metadata": {},
   "outputs": [],
   "source": [
    "print(full_logs.info())"
   ]
  },
  {
   "cell_type": "markdown",
   "metadata": {},
   "source": [
    "Пропусков не наблюдается. Столбец с датой явно требует приведения в более приемлемый вид. "
   ]
  },
  {
   "cell_type": "code",
   "execution_count": null,
   "metadata": {},
   "outputs": [],
   "source": [
    "print(full_logs.duplicated().sum())"
   ]
  },
  {
   "cell_type": "markdown",
   "metadata": {},
   "source": [
    "Есть дубликаты. Удалим."
   ]
  },
  {
   "cell_type": "code",
   "execution_count": null,
   "metadata": {},
   "outputs": [],
   "source": [
    "df = full_logs.drop_duplicates().reset_index(drop = True)"
   ]
  },
  {
   "cell_type": "code",
   "execution_count": null,
   "metadata": {},
   "outputs": [],
   "source": [
    "print(full_logs.duplicated().sum())"
   ]
  },
  {
   "cell_type": "markdown",
   "metadata": {},
   "source": [
    "Сделано."
   ]
  },
  {
   "cell_type": "markdown",
   "metadata": {},
   "source": [
    "#### Стандартизация названий в таблицах"
   ]
  },
  {
   "cell_type": "markdown",
   "metadata": {},
   "source": [
    "Cтандартизируем вид названий таблиц"
   ]
  },
  {
   "cell_type": "code",
   "execution_count": 15,
   "metadata": {},
   "outputs": [
    {
     "ename": "NameError",
     "evalue": "name 'full_logs' is not defined",
     "output_type": "error",
     "traceback": [
      "\u001b[1;31m---------------------------------------------------------------------------\u001b[0m",
      "\u001b[1;31mNameError\u001b[0m                                 Traceback (most recent call last)",
      "\u001b[1;32m~\\AppData\\Local\\Temp\\ipykernel_15336\\1881879314.py\u001b[0m in \u001b[0;36m<module>\u001b[1;34m\u001b[0m\n\u001b[1;32m----> 1\u001b[1;33m full_logs = full_logs.rename(columns = \n\u001b[0m\u001b[0;32m      2\u001b[0m                         {'EventName': 'event_name', 'DeviceIDHash': 'device_id_hash', \\\n\u001b[0;32m      3\u001b[0m                          'EventTimestamp': 'event_time_stamp', 'ExpId':'exp_id'})\n\u001b[0;32m      4\u001b[0m \u001b[0mfull_logs\u001b[0m\u001b[1;33m.\u001b[0m\u001b[0mcolumns\u001b[0m \u001b[1;33m=\u001b[0m \u001b[0mfull_logs\u001b[0m\u001b[1;33m.\u001b[0m\u001b[0mcolumns\u001b[0m\u001b[1;33m.\u001b[0m\u001b[0mstr\u001b[0m\u001b[1;33m.\u001b[0m\u001b[0mlower\u001b[0m\u001b[1;33m(\u001b[0m\u001b[1;33m)\u001b[0m\u001b[1;33m.\u001b[0m\u001b[0mstr\u001b[0m\u001b[1;33m.\u001b[0m\u001b[0mreplace\u001b[0m\u001b[1;33m(\u001b[0m\u001b[1;34m' '\u001b[0m\u001b[1;33m,\u001b[0m \u001b[1;34m'_'\u001b[0m\u001b[1;33m)\u001b[0m\u001b[1;33m\u001b[0m\u001b[1;33m\u001b[0m\u001b[0m\n",
      "\u001b[1;31mNameError\u001b[0m: name 'full_logs' is not defined"
     ]
    }
   ],
   "source": [
    "full_logs = full_logs.rename(columns = \n",
    "                        {'EventName': 'event_name', 'DeviceIDHash': 'device_id_hash', \\\n",
    "                         'EventTimestamp': 'event_time_stamp', 'ExpId':'exp_id'})\n",
    "full_logs.columns = full_logs.columns.str.lower().str.replace(' ', '_')"
   ]
  },
  {
   "cell_type": "markdown",
   "metadata": {},
   "source": [
    "#### Изменение формата данных и добавление дополнительных столбцов"
   ]
  },
  {
   "cell_type": "code",
   "execution_count": null,
   "metadata": {},
   "outputs": [],
   "source": [
    "full_logs['event_full_time'] = pd.to_datetime(full_logs['event_time_stamp'],\n",
    "                                  unit='s')"
   ]
  },
  {
   "cell_type": "code",
   "execution_count": null,
   "metadata": {},
   "outputs": [],
   "source": [
    "full_logs['date'] = full_logs.event_full_time.dt.date"
   ]
  },
  {
   "cell_type": "code",
   "execution_count": null,
   "metadata": {},
   "outputs": [],
   "source": [
    "## print(full_logs.head())"
   ]
  },
  {
   "cell_type": "code",
   "execution_count": null,
   "metadata": {},
   "outputs": [],
   "source": [
    "## print(full_logs.info())"
   ]
  },
  {
   "cell_type": "markdown",
   "metadata": {},
   "source": [
    "### Общий вывод в отношении датасета:"
   ]
  },
  {
   "cell_type": "markdown",
   "metadata": {},
   "source": [
    "Относительно крупный датасет (244 126 строк). Пропуски не обнаружены. Небольшое количество дубликатов (удалено). О достаточности информации для проведения анализа выводы делать пока рано."
   ]
  },
  {
   "cell_type": "markdown",
   "metadata": {},
   "source": [
    "## Изучение данных"
   ]
  },
  {
   "cell_type": "markdown",
   "metadata": {},
   "source": [
    "Посмотрим, какие типы событий содержатся в логе."
   ]
  },
  {
   "cell_type": "code",
   "execution_count": null,
   "metadata": {},
   "outputs": [],
   "source": [
    "event_categories = full_logs.groupby('event_name').agg('count')"
   ]
  },
  {
   "cell_type": "code",
   "execution_count": null,
   "metadata": {},
   "outputs": [],
   "source": [
    "print(event_categories.index);"
   ]
  },
  {
   "cell_type": "markdown",
   "metadata": {},
   "source": [
    "Итак, пять типов событий. \n",
    "MainScreenAppear - попадание на главную страницу\n",
    "OffersScreenAppear - попадание на страницу с предложениями\n",
    "CartScreenAppear - переход к продуктовой корзине\n",
    "PaymentScreenSuccessful  - сообщение об успешной покупке\n",
    "Tutorial - гид "
   ]
  },
  {
   "cell_type": "code",
   "execution_count": null,
   "metadata": {},
   "outputs": [],
   "source": [
    "total_events = full_logs['event_name'].count()\n",
    "print('Общее количество событий в логе: ', total_events)"
   ]
  },
  {
   "cell_type": "code",
   "execution_count": 14,
   "metadata": {},
   "outputs": [
    {
     "ename": "NameError",
     "evalue": "name 'full_logs' is not defined",
     "output_type": "error",
     "traceback": [
      "\u001b[1;31m---------------------------------------------------------------------------\u001b[0m",
      "\u001b[1;31mNameError\u001b[0m                                 Traceback (most recent call last)",
      "\u001b[1;32m~\\AppData\\Local\\Temp\\ipykernel_15336\\3221724113.py\u001b[0m in \u001b[0;36m<module>\u001b[1;34m\u001b[0m\n\u001b[1;32m----> 1\u001b[1;33m \u001b[0mgrouped_users\u001b[0m \u001b[1;33m=\u001b[0m \u001b[0mfull_logs\u001b[0m\u001b[1;33m.\u001b[0m\u001b[0mgroupby\u001b[0m\u001b[1;33m(\u001b[0m\u001b[1;34m'device_id_hash'\u001b[0m\u001b[1;33m)\u001b[0m\u001b[1;33m.\u001b[0m\u001b[0magg\u001b[0m\u001b[1;33m(\u001b[0m\u001b[1;34m'count'\u001b[0m\u001b[1;33m)\u001b[0m\u001b[1;33m.\u001b[0m\u001b[0;31m\\\u001b[0m\u001b[1;33m\u001b[0m\u001b[1;33m\u001b[0m\u001b[0m\n\u001b[0m\u001b[0;32m      2\u001b[0m \u001b[0msort_values\u001b[0m\u001b[1;33m(\u001b[0m\u001b[0mby\u001b[0m \u001b[1;33m=\u001b[0m \u001b[1;34m'event_full_time'\u001b[0m\u001b[1;33m,\u001b[0m \u001b[0mascending\u001b[0m \u001b[1;33m=\u001b[0m \u001b[1;32mFalse\u001b[0m\u001b[1;33m)\u001b[0m\u001b[1;33m\u001b[0m\u001b[1;33m\u001b[0m\u001b[0m\n",
      "\u001b[1;31mNameError\u001b[0m: name 'full_logs' is not defined"
     ]
    }
   ],
   "source": [
    "grouped_users = full_logs.groupby('device_id_hash').agg('count').\\\n",
    "sort_values(by = 'event_full_time', ascending = False)"
   ]
  },
  {
   "cell_type": "code",
   "execution_count": null,
   "metadata": {},
   "outputs": [],
   "source": [
    "print(grouped_users)"
   ]
  },
  {
   "cell_type": "code",
   "execution_count": 7,
   "metadata": {},
   "outputs": [
    {
     "ename": "NameError",
     "evalue": "name 'full_logs' is not defined",
     "output_type": "error",
     "traceback": [
      "\u001b[1;31m---------------------------------------------------------------------------\u001b[0m",
      "\u001b[1;31mNameError\u001b[0m                                 Traceback (most recent call last)",
      "\u001b[1;32m~\\AppData\\Local\\Temp\\ipykernel_15336\\201460606.py\u001b[0m in \u001b[0;36m<module>\u001b[1;34m\u001b[0m\n\u001b[1;32m----> 1\u001b[1;33m \u001b[0mfull_unique_users\u001b[0m \u001b[1;33m=\u001b[0m \u001b[0mfull_logs\u001b[0m\u001b[1;33m.\u001b[0m\u001b[0mdevice_id_hash\u001b[0m\u001b[1;33m.\u001b[0m\u001b[0mnunique\u001b[0m\u001b[1;33m(\u001b[0m\u001b[1;33m)\u001b[0m\u001b[1;33m\u001b[0m\u001b[1;33m\u001b[0m\u001b[0m\n\u001b[0m\u001b[0;32m      2\u001b[0m \u001b[0mprint\u001b[0m\u001b[1;33m(\u001b[0m\u001b[1;34m\"Количество уникальных пользователей в логе: \"\u001b[0m\u001b[1;33m,\u001b[0m \u001b[0mfull_unique_users\u001b[0m\u001b[1;33m)\u001b[0m\u001b[1;33m\u001b[0m\u001b[1;33m\u001b[0m\u001b[0m\n",
      "\u001b[1;31mNameError\u001b[0m: name 'full_logs' is not defined"
     ]
    }
   ],
   "source": [
    "full_unique_users = full_logs.device_id_hash.nunique()\n",
    "print(\"Количество уникальных пользователей в логе: \", full_unique_users)"
   ]
  },
  {
   "cell_type": "code",
   "execution_count": 8,
   "metadata": {},
   "outputs": [
    {
     "ename": "NameError",
     "evalue": "name 'total_events' is not defined",
     "output_type": "error",
     "traceback": [
      "\u001b[1;31m---------------------------------------------------------------------------\u001b[0m",
      "\u001b[1;31mNameError\u001b[0m                                 Traceback (most recent call last)",
      "\u001b[1;32m~\\AppData\\Local\\Temp\\ipykernel_15336\\1668421060.py\u001b[0m in \u001b[0;36m<module>\u001b[1;34m\u001b[0m\n\u001b[1;32m----> 1\u001b[1;33m \u001b[0mprint\u001b[0m\u001b[1;33m(\u001b[0m\u001b[1;34m'Событий на пользователя в среднем: {:.0f}'\u001b[0m\u001b[1;33m.\u001b[0m\u001b[0mformat\u001b[0m\u001b[1;33m(\u001b[0m \u001b[0mtotal_events\u001b[0m\u001b[1;33m/\u001b[0m\u001b[0mfull_unique_users\u001b[0m\u001b[1;33m)\u001b[0m\u001b[1;33m)\u001b[0m\u001b[1;33m\u001b[0m\u001b[1;33m\u001b[0m\u001b[0m\n\u001b[0m",
      "\u001b[1;31mNameError\u001b[0m: name 'total_events' is not defined"
     ]
    }
   ],
   "source": [
    "print('Событий на пользователя в среднем: {:.0f}'.format( total_events/full_unique_users))"
   ]
  },
  {
   "cell_type": "markdown",
   "metadata": {},
   "source": [
    "Однако посмотрим на распределение событий в расчёте на пользователя более внимательно."
   ]
  },
  {
   "cell_type": "code",
   "execution_count": null,
   "metadata": {},
   "outputs": [],
   "source": [
    "grouped_users['event_name'].describe()"
   ]
  },
  {
   "cell_type": "markdown",
   "metadata": {},
   "source": [
    "Как мы видим, медиана заметно отличается от среднего. Посмотрим на гистограмме."
   ]
  },
  {
   "cell_type": "markdown",
   "metadata": {},
   "source": [
    "Отсечем чрезмерно большие значения для наглядности."
   ]
  },
  {
   "cell_type": "code",
   "execution_count": 9,
   "metadata": {},
   "outputs": [
    {
     "ename": "NameError",
     "evalue": "name 'grouped_users' is not defined",
     "output_type": "error",
     "traceback": [
      "\u001b[1;31m---------------------------------------------------------------------------\u001b[0m",
      "\u001b[1;31mNameError\u001b[0m                                 Traceback (most recent call last)",
      "\u001b[1;32m~\\AppData\\Local\\Temp\\ipykernel_15336\\975326401.py\u001b[0m in \u001b[0;36m<module>\u001b[1;34m\u001b[0m\n\u001b[1;32m----> 1\u001b[1;33m \u001b[0mgu_cut\u001b[0m \u001b[1;33m=\u001b[0m \u001b[0mgrouped_users\u001b[0m\u001b[1;33m[\u001b[0m\u001b[0mgrouped_users\u001b[0m\u001b[1;33m[\u001b[0m\u001b[1;34m'event_name'\u001b[0m\u001b[1;33m]\u001b[0m\u001b[1;33m<\u001b[0m\u001b[1;36m100\u001b[0m\u001b[1;33m]\u001b[0m\u001b[1;33m\u001b[0m\u001b[1;33m\u001b[0m\u001b[0m\n\u001b[0m",
      "\u001b[1;31mNameError\u001b[0m: name 'grouped_users' is not defined"
     ]
    }
   ],
   "source": [
    "gu_cut = grouped_users[grouped_users['event_name']<100]"
   ]
  },
  {
   "cell_type": "code",
   "execution_count": 10,
   "metadata": {},
   "outputs": [
    {
     "ename": "NameError",
     "evalue": "name 'gu_cut' is not defined",
     "output_type": "error",
     "traceback": [
      "\u001b[1;31m---------------------------------------------------------------------------\u001b[0m",
      "\u001b[1;31mNameError\u001b[0m                                 Traceback (most recent call last)",
      "\u001b[1;32m~\\AppData\\Local\\Temp\\ipykernel_15336\\647167337.py\u001b[0m in \u001b[0;36m<module>\u001b[1;34m\u001b[0m\n\u001b[1;32m----> 1\u001b[1;33m \u001b[0mgu_cut\u001b[0m\u001b[1;33m[\u001b[0m\u001b[1;34m'event_name'\u001b[0m\u001b[1;33m]\u001b[0m\u001b[1;33m.\u001b[0m\u001b[0mhist\u001b[0m\u001b[1;33m(\u001b[0m\u001b[0mbins\u001b[0m\u001b[1;33m=\u001b[0m\u001b[1;36m50\u001b[0m\u001b[1;33m)\u001b[0m\u001b[1;33m\u001b[0m\u001b[1;33m\u001b[0m\u001b[0m\n\u001b[0m\u001b[0;32m      2\u001b[0m \u001b[0mplt\u001b[0m\u001b[1;33m.\u001b[0m\u001b[0mtitle\u001b[0m\u001b[1;33m(\u001b[0m\u001b[1;34m'Распределение кол-ва событий совершаемых пользователями'\u001b[0m\u001b[1;33m)\u001b[0m\u001b[1;33m\u001b[0m\u001b[1;33m\u001b[0m\u001b[0m\n\u001b[0;32m      3\u001b[0m \u001b[0mplt\u001b[0m\u001b[1;33m.\u001b[0m\u001b[0mxlabel\u001b[0m\u001b[1;33m(\u001b[0m\u001b[1;34m'Кол-во событий'\u001b[0m\u001b[1;33m)\u001b[0m\u001b[1;33m\u001b[0m\u001b[1;33m\u001b[0m\u001b[0m\n\u001b[0;32m      4\u001b[0m \u001b[0mplt\u001b[0m\u001b[1;33m.\u001b[0m\u001b[0mylabel\u001b[0m\u001b[1;33m(\u001b[0m\u001b[1;34m'Кол-во пользователей'\u001b[0m\u001b[1;33m)\u001b[0m\u001b[1;33m;\u001b[0m\u001b[1;33m\u001b[0m\u001b[1;33m\u001b[0m\u001b[0m\n",
      "\u001b[1;31mNameError\u001b[0m: name 'gu_cut' is not defined"
     ]
    }
   ],
   "source": [
    "gu_cut['event_name'].hist(bins=50)\n",
    "plt.title('Распределение кол-ва событий совершаемых пользователями')\n",
    "plt.xlabel('Кол-во событий')\n",
    "plt.ylabel('Кол-во пользователей');"
   ]
  },
  {
   "cell_type": "markdown",
   "metadata": {},
   "source": [
    "Как мы видим, даже при условии отсечения очень больших значений распределение скошено вправо и далеко от нормального. "
   ]
  },
  {
   "cell_type": "code",
   "execution_count": 11,
   "metadata": {},
   "outputs": [
    {
     "ename": "NameError",
     "evalue": "name 'grouped_users' is not defined",
     "output_type": "error",
     "traceback": [
      "\u001b[1;31m---------------------------------------------------------------------------\u001b[0m",
      "\u001b[1;31mNameError\u001b[0m                                 Traceback (most recent call last)",
      "\u001b[1;32m~\\AppData\\Local\\Temp\\ipykernel_15336\\1357339388.py\u001b[0m in \u001b[0;36m<module>\u001b[1;34m\u001b[0m\n\u001b[0;32m      1\u001b[0m print(\"Имеет смысл использовать вместо среднего медиану ({0}), моду ({1}) или какого-либо рода усечённое среднее.\".\\\n\u001b[1;32m----> 2\u001b[1;33m       format(grouped_users['event_name'].median(),grouped_users['event_name'].mode()[0]) )\n\u001b[0m",
      "\u001b[1;31mNameError\u001b[0m: name 'grouped_users' is not defined"
     ]
    }
   ],
   "source": [
    "print(\"Имеет смысл использовать вместо среднего медиану ({0}), моду ({1}) или какого-либо рода усечённое среднее.\".\\\n",
    "      format(grouped_users['event_name'].median(),grouped_users['event_name'].mode()[0]) )"
   ]
  },
  {
   "cell_type": "markdown",
   "metadata": {},
   "source": [
    "Найдем временные границы нашего датафрейма:"
   ]
  },
  {
   "cell_type": "code",
   "execution_count": 12,
   "metadata": {},
   "outputs": [
    {
     "ename": "NameError",
     "evalue": "name 'full_logs' is not defined",
     "output_type": "error",
     "traceback": [
      "\u001b[1;31m---------------------------------------------------------------------------\u001b[0m",
      "\u001b[1;31mNameError\u001b[0m                                 Traceback (most recent call last)",
      "\u001b[1;32m~\\AppData\\Local\\Temp\\ipykernel_15336\\582266411.py\u001b[0m in \u001b[0;36m<module>\u001b[1;34m\u001b[0m\n\u001b[1;32m----> 1\u001b[1;33m \u001b[0mprint\u001b[0m\u001b[1;33m(\u001b[0m\u001b[1;34m'Самое раннее событие: '\u001b[0m\u001b[1;33m,\u001b[0m \u001b[0mmin\u001b[0m\u001b[1;33m(\u001b[0m\u001b[0mfull_logs\u001b[0m\u001b[1;33m.\u001b[0m\u001b[0mevent_full_time\u001b[0m\u001b[1;33m)\u001b[0m\u001b[1;33m)\u001b[0m\u001b[1;33m\u001b[0m\u001b[1;33m\u001b[0m\u001b[0m\n\u001b[0m",
      "\u001b[1;31mNameError\u001b[0m: name 'full_logs' is not defined"
     ]
    }
   ],
   "source": [
    "print('Самое раннее событие: ', min(full_logs.event_full_time))"
   ]
  },
  {
   "cell_type": "code",
   "execution_count": 13,
   "metadata": {},
   "outputs": [
    {
     "ename": "NameError",
     "evalue": "name 'full_logs' is not defined",
     "output_type": "error",
     "traceback": [
      "\u001b[1;31m---------------------------------------------------------------------------\u001b[0m",
      "\u001b[1;31mNameError\u001b[0m                                 Traceback (most recent call last)",
      "\u001b[1;32m~\\AppData\\Local\\Temp\\ipykernel_15336\\2594655222.py\u001b[0m in \u001b[0;36m<module>\u001b[1;34m\u001b[0m\n\u001b[1;32m----> 1\u001b[1;33m \u001b[0mprint\u001b[0m\u001b[1;33m(\u001b[0m\u001b[1;34m'Самое позднее событие: '\u001b[0m\u001b[1;33m,\u001b[0m \u001b[0mmax\u001b[0m\u001b[1;33m(\u001b[0m\u001b[0mfull_logs\u001b[0m\u001b[1;33m.\u001b[0m\u001b[0mevent_full_time\u001b[0m\u001b[1;33m)\u001b[0m\u001b[1;33m)\u001b[0m\u001b[1;33m\u001b[0m\u001b[1;33m\u001b[0m\u001b[0m\n\u001b[0m",
      "\u001b[1;31mNameError\u001b[0m: name 'full_logs' is not defined"
     ]
    }
   ],
   "source": [
    "print('Самое позднее событие: ', max(full_logs.event_full_time))"
   ]
  },
  {
   "cell_type": "code",
   "execution_count": 27,
   "metadata": {},
   "outputs": [
    {
     "data": {
      "text/plain": [
       "date\n",
       "2019-07-25        9\n",
       "2019-07-26       31\n",
       "2019-07-27       55\n",
       "2019-07-28      105\n",
       "2019-07-29      184\n",
       "              ...  \n",
       "2019-08-03    33351\n",
       "2019-08-04    33033\n",
       "2019-08-05    36113\n",
       "2019-08-06    35822\n",
       "2019-08-07    31144\n",
       "Name: event_full_time, Length: 14, dtype: int64"
      ]
     },
     "metadata": {},
     "output_type": "display_data"
    }
   ],
   "source": [
    "user_dist_hist = full_logs.groupby('date')['event_full_time'].count()\n",
    "display(user_dist_hist)"
   ]
  },
  {
   "cell_type": "code",
   "execution_count": 28,
   "metadata": {},
   "outputs": [
    {
     "data": {
      "image/png": "[encoded data removed]",
      "text/plain": [
       "<Figure size 432x288 with 1 Axes>"
      ]
     },
     "metadata": {
      "needs_background": "light"
     },
     "output_type": "display_data"
    }
   ],
   "source": [
    "user_dist_hist.plot(kind=\"bar\")\n",
    "plt.title(\"User count per dates\")\n",
    "plt.xlabel(\"Dates\")\n",
    "plt.ylabel(\"User Count\");\n"
   ]
  },
  {
   "cell_type": "markdown",
   "metadata": {},
   "source": [
    "Сделаем срез, удалив период с небольшим количеством данных"
   ]
  },
  {
   "cell_type": "code",
   "execution_count": 29,
   "metadata": {},
   "outputs": [],
   "source": [
    "cleaned_logs = full_logs.query(\"event_full_time > '2019-07-31'\").reset_index(drop=True)"
   ]
  },
  {
   "cell_type": "code",
   "execution_count": 30,
   "metadata": {},
   "outputs": [
    {
     "data": {
      "text/html": [
       "<div>\n",
       "<style scoped>\n",
       "    .dataframe tbody tr th:only-of-type {\n",
       "        vertical-align: middle;\n",
       "    }\n",
       "\n",
       "    .dataframe tbody tr th {\n",
       "        vertical-align: top;\n",
       "    }\n",
       "\n",
       "    .dataframe thead th {\n",
       "        text-align: right;\n",
       "    }\n",
       "</style>\n",
       "<table border=\"1\" class=\"dataframe\">\n",
       "  <thead>\n",
       "    <tr style=\"text-align: right;\">\n",
       "      <th></th>\n",
       "      <th>event_name</th>\n",
       "      <th>device_id_hash</th>\n",
       "      <th>event_time_stamp</th>\n",
       "      <th>exp_id</th>\n",
       "      <th>event_full_time</th>\n",
       "      <th>date</th>\n",
       "    </tr>\n",
       "  </thead>\n",
       "  <tbody>\n",
       "    <tr>\n",
       "      <th>0</th>\n",
       "      <td>MainScreenAppear</td>\n",
       "      <td>3670880358399219515</td>\n",
       "      <td>1564535506</td>\n",
       "      <td>247</td>\n",
       "      <td>2019-07-31 01:11:46</td>\n",
       "      <td>2019-07-31</td>\n",
       "    </tr>\n",
       "    <tr>\n",
       "      <th>1</th>\n",
       "      <td>OffersScreenAppear</td>\n",
       "      <td>3799109751993694887</td>\n",
       "      <td>1564536064</td>\n",
       "      <td>248</td>\n",
       "      <td>2019-07-31 01:21:04</td>\n",
       "      <td>2019-07-31</td>\n",
       "    </tr>\n",
       "    <tr>\n",
       "      <th>2</th>\n",
       "      <td>Tutorial</td>\n",
       "      <td>1126021718529336913</td>\n",
       "      <td>1564536731</td>\n",
       "      <td>247</td>\n",
       "      <td>2019-07-31 01:32:11</td>\n",
       "      <td>2019-07-31</td>\n",
       "    </tr>\n",
       "    <tr>\n",
       "      <th>3</th>\n",
       "      <td>MainScreenAppear</td>\n",
       "      <td>4293428370257583636</td>\n",
       "      <td>1564539558</td>\n",
       "      <td>248</td>\n",
       "      <td>2019-07-31 02:19:18</td>\n",
       "      <td>2019-07-31</td>\n",
       "    </tr>\n",
       "    <tr>\n",
       "      <th>4</th>\n",
       "      <td>MainScreenAppear</td>\n",
       "      <td>4567464647598975872</td>\n",
       "      <td>1564540410</td>\n",
       "      <td>247</td>\n",
       "      <td>2019-07-31 02:33:30</td>\n",
       "      <td>2019-07-31</td>\n",
       "    </tr>\n",
       "  </tbody>\n",
       "</table>\n",
       "</div>"
      ],
      "text/plain": [
       "           event_name       device_id_hash  event_time_stamp  exp_id  \\\n",
       "0    MainScreenAppear  3670880358399219515        1564535506     247   \n",
       "1  OffersScreenAppear  3799109751993694887        1564536064     248   \n",
       "2            Tutorial  1126021718529336913        1564536731     247   \n",
       "3    MainScreenAppear  4293428370257583636        1564539558     248   \n",
       "4    MainScreenAppear  4567464647598975872        1564540410     247   \n",
       "\n",
       "      event_full_time        date  \n",
       "0 2019-07-31 01:11:46  2019-07-31  \n",
       "1 2019-07-31 01:21:04  2019-07-31  \n",
       "2 2019-07-31 01:32:11  2019-07-31  \n",
       "3 2019-07-31 02:19:18  2019-07-31  \n",
       "4 2019-07-31 02:33:30  2019-07-31  "
      ]
     },
     "execution_count": 30,
     "metadata": {},
     "output_type": "execute_result"
    }
   ],
   "source": [
    "cleaned_logs.head()"
   ]
  },
  {
   "cell_type": "markdown",
   "metadata": {},
   "source": [
    "Для удобства зафиксируем в отдельных переменных, сколько пользователей и событий включены в очищенный лог. "
   ]
  },
  {
   "cell_type": "code",
   "execution_count": 31,
   "metadata": {},
   "outputs": [],
   "source": [
    "# Количество уникальных пользователей в очищенном логе\n",
    "users_in_cleaned_logs = cleaned_logs['device_id_hash'].nunique()\n",
    "# Количество событий в очищенном логе\n",
    "events_in_cleaned_logs = cleaned_logs['event_name'].count()\n"
   ]
  },
  {
   "cell_type": "markdown",
   "metadata": {},
   "source": [
    "Посмотрим, насколько удаление части данных повлияло на репрезентативность оставшейся части данных."
   ]
  },
  {
   "cell_type": "code",
   "execution_count": 32,
   "metadata": {},
   "outputs": [
    {
     "name": "stdout",
     "output_type": "stream",
     "text": [
      "Доля отсеянных событий: 0.33% (797 событий)\n",
      "Доля отсеянных пользователей: 0.12% (9 пользователей)\n"
     ]
    }
   ],
   "source": [
    "\n",
    "print('Доля отсеянных событий: {:.2%} ({} событий)'.format(\n",
    "    (total_events - events_in_cleaned_logs) / total_events,\n",
    "    total_events - events_in_cleaned_logs)\n",
    ")\n",
    "print('Доля отсеянных пользователей: {:.2%} ({} пользователей)'.format(\n",
    "    (full_unique_users - users_in_cleaned_logs) / full_unique_users,\n",
    "    full_unique_users - users_in_cleaned_logs\n",
    "))"
   ]
  },
  {
   "cell_type": "markdown",
   "metadata": {},
   "source": [
    "Посмотрим на то, как это повлияет на репрезентативность тех или иных групп пользователей, посмотрев на численнось каждой группы."
   ]
  },
  {
   "cell_type": "code",
   "execution_count": 33,
   "metadata": {},
   "outputs": [],
   "source": [
    "groups_distr = cleaned_logs.groupby('exp_id')['device_id_hash'].agg('nunique')"
   ]
  },
  {
   "cell_type": "code",
   "execution_count": 34,
   "metadata": {},
   "outputs": [
    {
     "data": {
      "text/plain": [
       "exp_id\n",
       "246    2485\n",
       "247    2517\n",
       "248    2540\n",
       "Name: device_id_hash, dtype: int64"
      ]
     },
     "execution_count": 34,
     "metadata": {},
     "output_type": "execute_result"
    }
   ],
   "source": [
    "groups_distr"
   ]
  },
  {
   "cell_type": "markdown",
   "metadata": {},
   "source": [
    "Удаление 9 пользователей никак не повлияет на уровень \"представленности\" экспериментальных групп в совокупности. "
   ]
  },
  {
   "cell_type": "markdown",
   "metadata": {},
   "source": [
    "## Анализ воронки событий"
   ]
  },
  {
   "cell_type": "markdown",
   "metadata": {},
   "source": [
    "Посмотрим подробнее на типы событий и их частоту"
   ]
  },
  {
   "cell_type": "code",
   "execution_count": 35,
   "metadata": {},
   "outputs": [],
   "source": [
    "event_categories_distribution = cleaned_logs.groupby('event_name').\\\n",
    "agg({'event_time_stamp':'count', 'device_id_hash':'nunique'}).\\\n",
    "sort_values(by = 'event_time_stamp', ascending = False)\n",
    "event_categories_distribution.columns = ['events_count', 'users_count']\n",
    "event_categories_distribution['events_per_user'] = \\\n",
    "event_categories_distribution['events_count']/event_categories_distribution['users_count']"
   ]
  },
  {
   "cell_type": "code",
   "execution_count": 36,
   "metadata": {},
   "outputs": [
    {
     "data": {
      "text/html": [
       "<div>\n",
       "<style scoped>\n",
       "    .dataframe tbody tr th:only-of-type {\n",
       "        vertical-align: middle;\n",
       "    }\n",
       "\n",
       "    .dataframe tbody tr th {\n",
       "        vertical-align: top;\n",
       "    }\n",
       "\n",
       "    .dataframe thead th {\n",
       "        text-align: right;\n",
       "    }\n",
       "</style>\n",
       "<table border=\"1\" class=\"dataframe\">\n",
       "  <thead>\n",
       "    <tr style=\"text-align: right;\">\n",
       "      <th></th>\n",
       "      <th>events_count</th>\n",
       "      <th>users_count</th>\n",
       "      <th>events_per_user</th>\n",
       "    </tr>\n",
       "    <tr>\n",
       "      <th>event_name</th>\n",
       "      <th></th>\n",
       "      <th></th>\n",
       "      <th></th>\n",
       "    </tr>\n",
       "  </thead>\n",
       "  <tbody>\n",
       "    <tr>\n",
       "      <th>MainScreenAppear</th>\n",
       "      <td>118681</td>\n",
       "      <td>7429</td>\n",
       "      <td>15.975367</td>\n",
       "    </tr>\n",
       "    <tr>\n",
       "      <th>OffersScreenAppear</th>\n",
       "      <td>46724</td>\n",
       "      <td>4606</td>\n",
       "      <td>10.144160</td>\n",
       "    </tr>\n",
       "    <tr>\n",
       "      <th>CartScreenAppear</th>\n",
       "      <td>42623</td>\n",
       "      <td>3742</td>\n",
       "      <td>11.390433</td>\n",
       "    </tr>\n",
       "    <tr>\n",
       "      <th>PaymentScreenSuccessful</th>\n",
       "      <td>34253</td>\n",
       "      <td>3542</td>\n",
       "      <td>9.670525</td>\n",
       "    </tr>\n",
       "    <tr>\n",
       "      <th>Tutorial</th>\n",
       "      <td>1048</td>\n",
       "      <td>845</td>\n",
       "      <td>1.240237</td>\n",
       "    </tr>\n",
       "  </tbody>\n",
       "</table>\n",
       "</div>"
      ],
      "text/plain": [
       "                         events_count  users_count  events_per_user\n",
       "event_name                                                         \n",
       "MainScreenAppear               118681         7429        15.975367\n",
       "OffersScreenAppear              46724         4606        10.144160\n",
       "CartScreenAppear                42623         3742        11.390433\n",
       "PaymentScreenSuccessful         34253         3542         9.670525\n",
       "Tutorial                         1048          845         1.240237"
      ]
     },
     "execution_count": 36,
     "metadata": {},
     "output_type": "execute_result"
    }
   ],
   "source": [
    "event_categories_distribution"
   ]
  },
  {
   "cell_type": "markdown",
   "metadata": {},
   "source": [
    "Чаще всего люди появляются на главной странице. Дальше резкое падение как по количеству событий, так и по количеству уникальных пользователей. При этом на одного пользователя уже приходится заметно меньшее количество событий (видимо, попав на страницу предложений и далее пользователи уже \"знают\", что делают). Посещение гида является в большинстве случаев явно единократным событием. "
   ]
  },
  {
   "cell_type": "markdown",
   "metadata": {},
   "source": [
    "По-видимому, этот сужающающийся по частоте ряд событий представляет собой в том числе и временную последовательность. За исключением, вероятно, обращения к страничке с руководством, которое пользователи могут выполнить на любом этапе.     "
   ]
  },
  {
   "cell_type": "markdown",
   "metadata": {},
   "source": [
    "Добавим столбцы, отображающие долю пользователей, хотя раз совершивших то или иное событие,  в общем количестве, а также отношение количества пользователей на каждом этапе к количеству на предудущем этапе. "
   ]
  },
  {
   "cell_type": "code",
   "execution_count": 37,
   "metadata": {},
   "outputs": [],
   "source": [
    "event_categories_distribution['share_in_total_users'] = \\\n",
    "(event_categories_distribution['users_count']/users_in_cleaned_logs)*100.0\n"
   ]
  },
  {
   "cell_type": "code",
   "execution_count": 38,
   "metadata": {},
   "outputs": [],
   "source": [
    "event_categories_distribution['share_to_previous_stage'] = \\\n",
    "(event_categories_distribution['users_count'].\\\n",
    "div(event_categories_distribution['users_count'].shift(1)))*100\n",
    "event_categories_distribution = event_categories_distribution.fillna(100)"
   ]
  },
  {
   "cell_type": "code",
   "execution_count": 39,
   "metadata": {},
   "outputs": [
    {
     "data": {
      "text/html": [
       "<div>\n",
       "<style scoped>\n",
       "    .dataframe tbody tr th:only-of-type {\n",
       "        vertical-align: middle;\n",
       "    }\n",
       "\n",
       "    .dataframe tbody tr th {\n",
       "        vertical-align: top;\n",
       "    }\n",
       "\n",
       "    .dataframe thead th {\n",
       "        text-align: right;\n",
       "    }\n",
       "</style>\n",
       "<table border=\"1\" class=\"dataframe\">\n",
       "  <thead>\n",
       "    <tr style=\"text-align: right;\">\n",
       "      <th></th>\n",
       "      <th>events_count</th>\n",
       "      <th>users_count</th>\n",
       "      <th>events_per_user</th>\n",
       "      <th>share_in_total_users</th>\n",
       "      <th>share_to_previous_stage</th>\n",
       "    </tr>\n",
       "    <tr>\n",
       "      <th>event_name</th>\n",
       "      <th></th>\n",
       "      <th></th>\n",
       "      <th></th>\n",
       "      <th></th>\n",
       "      <th></th>\n",
       "    </tr>\n",
       "  </thead>\n",
       "  <tbody>\n",
       "    <tr>\n",
       "      <th>MainScreenAppear</th>\n",
       "      <td>118681</td>\n",
       "      <td>7429</td>\n",
       "      <td>15.975367</td>\n",
       "      <td>98.501724</td>\n",
       "      <td>100.000000</td>\n",
       "    </tr>\n",
       "    <tr>\n",
       "      <th>OffersScreenAppear</th>\n",
       "      <td>46724</td>\n",
       "      <td>4606</td>\n",
       "      <td>10.144160</td>\n",
       "      <td>61.071334</td>\n",
       "      <td>62.000269</td>\n",
       "    </tr>\n",
       "    <tr>\n",
       "      <th>CartScreenAppear</th>\n",
       "      <td>42623</td>\n",
       "      <td>3742</td>\n",
       "      <td>11.390433</td>\n",
       "      <td>49.615487</td>\n",
       "      <td>81.241858</td>\n",
       "    </tr>\n",
       "    <tr>\n",
       "      <th>PaymentScreenSuccessful</th>\n",
       "      <td>34253</td>\n",
       "      <td>3542</td>\n",
       "      <td>9.670525</td>\n",
       "      <td>46.963670</td>\n",
       "      <td>94.655265</td>\n",
       "    </tr>\n",
       "    <tr>\n",
       "      <th>Tutorial</th>\n",
       "      <td>1048</td>\n",
       "      <td>845</td>\n",
       "      <td>1.240237</td>\n",
       "      <td>11.203925</td>\n",
       "      <td>23.856578</td>\n",
       "    </tr>\n",
       "  </tbody>\n",
       "</table>\n",
       "</div>"
      ],
      "text/plain": [
       "                         events_count  users_count  events_per_user  \\\n",
       "event_name                                                            \n",
       "MainScreenAppear               118681         7429        15.975367   \n",
       "OffersScreenAppear              46724         4606        10.144160   \n",
       "CartScreenAppear                42623         3742        11.390433   \n",
       "PaymentScreenSuccessful         34253         3542         9.670525   \n",
       "Tutorial                         1048          845         1.240237   \n",
       "\n",
       "                         share_in_total_users  share_to_previous_stage  \n",
       "event_name                                                              \n",
       "MainScreenAppear                    98.501724               100.000000  \n",
       "OffersScreenAppear                  61.071334                62.000269  \n",
       "CartScreenAppear                    49.615487                81.241858  \n",
       "PaymentScreenSuccessful             46.963670                94.655265  \n",
       "Tutorial                            11.203925                23.856578  "
      ]
     },
     "execution_count": 39,
     "metadata": {},
     "output_type": "execute_result"
    }
   ],
   "source": [
    "event_categories_distribution"
   ]
  },
  {
   "cell_type": "markdown",
   "metadata": {},
   "source": [
    "Представим воронку событий несколько более наглядно, исключив обращение к руководству, поскольку оно не является частью естественной временной последовательности. "
   ]
  },
  {
   "cell_type": "code",
   "execution_count": 2,
   "metadata": {},
   "outputs": [
    {
     "ename": "NameError",
     "evalue": "name 'go' is not defined",
     "output_type": "error",
     "traceback": [
      "\u001b[1;31m---------------------------------------------------------------------------\u001b[0m",
      "\u001b[1;31mNameError\u001b[0m                                 Traceback (most recent call last)",
      "\u001b[1;32m~\\AppData\\Local\\Temp\\ipykernel_15336\\886985089.py\u001b[0m in \u001b[0;36m<module>\u001b[1;34m\u001b[0m\n\u001b[1;32m----> 1\u001b[1;33m fig = go.Figure(go.Funnel(\n\u001b[0m\u001b[0;32m      2\u001b[0m     y = [\"Переход на главную страницу\", \\\n\u001b[0;32m      3\u001b[0m            \u001b[1;34m\"Переход на страницу предложений\"\u001b[0m\u001b[1;33m,\u001b[0m\u001b[0;31m \u001b[0m\u001b[0;31m\\\u001b[0m\u001b[1;33m\u001b[0m\u001b[1;33m\u001b[0m\u001b[0m\n\u001b[0;32m      4\u001b[0m            \u001b[1;34m\"Переход на страницу с корзиной\"\u001b[0m\u001b[1;33m,\u001b[0m\u001b[0;31m \u001b[0m\u001b[0;31m\\\u001b[0m\u001b[1;33m\u001b[0m\u001b[1;33m\u001b[0m\u001b[0m\n\u001b[0;32m      5\u001b[0m            \"Сообщение об успешной покупке \"],\n",
      "\u001b[1;31mNameError\u001b[0m: name 'go' is not defined"
     ]
    }
   ],
   "source": [
    "\n",
    "fig = go.Figure(go.Funnel(\n",
    "    y = [\"Переход на главную страницу\", \\\n",
    "           \"Переход на страницу предложений\", \\\n",
    "           \"Переход на страницу с корзиной\", \\\n",
    "           \"Сообщение об успешной покупке \"],\n",
    "    x = [7429, 4606, 3742, 3542],\n",
    "    textposition = \"inside\",\n",
    "    textinfo = \"value+percent initial\",\n",
    "    opacity = 0.65, marker = {\"color\": [\"deepskyblue\", \"lightsalmon\", \"tan\", \"teal\", \"silver\"],\n",
    "    \"line\": {\"width\": [4, 2, 2, 3, 1, 1], \"color\": [\"wheat\", \"wheat\", \"blue\", \"wheat\", \"wheat\"]}},\n",
    "    connector = {\"line\": {\"color\": \"royalblue\", \"dash\": \"dot\", \"width\": 3}})\n",
    "    )\n",
    "\n",
    "fig.show()"
   ]
  },
  {
   "cell_type": "markdown",
   "metadata": {},
   "source": [
    "Итак, больше всего пользователей теряется на этапе перехода от главной странице к странице предложений (38%). А вот доля людей, пожелавших совершить покупку после ознакомления с предложениями, выглядит достаточно внушительно (81%). Можно сделать предположение, что, возможно, стоит внести некие усовершенствования на главной странице, чтобы больше людей переходило с главной страницы на страницу предложений. "
   ]
  },
  {
   "cell_type": "code",
   "execution_count": 1,
   "metadata": {},
   "outputs": [
    {
     "ename": "NameError",
     "evalue": "name 'go' is not defined",
     "output_type": "error",
     "traceback": [
      "\u001b[1;31m---------------------------------------------------------------------------\u001b[0m",
      "\u001b[1;31mNameError\u001b[0m                                 Traceback (most recent call last)",
      "\u001b[1;32m~\\AppData\\Local\\Temp\\ipykernel_15336\\3795363435.py\u001b[0m in \u001b[0;36m<module>\u001b[1;34m\u001b[0m\n\u001b[1;32m----> 1\u001b[1;33m \u001b[0mfig\u001b[0m \u001b[1;33m=\u001b[0m \u001b[0mgo\u001b[0m\u001b[1;33m.\u001b[0m\u001b[0mFigure\u001b[0m\u001b[1;33m(\u001b[0m\u001b[1;33m)\u001b[0m\u001b[1;33m\u001b[0m\u001b[1;33m\u001b[0m\u001b[0m\n\u001b[0m\u001b[0;32m      2\u001b[0m \u001b[1;33m\u001b[0m\u001b[0m\n\u001b[0;32m      3\u001b[0m fig.add_trace(go.Funnel(\n\u001b[0;32m      4\u001b[0m     \u001b[0mname\u001b[0m \u001b[1;33m=\u001b[0m \u001b[1;34m'Группа 246'\u001b[0m\u001b[1;33m,\u001b[0m\u001b[1;33m\u001b[0m\u001b[1;33m\u001b[0m\u001b[0m\n\u001b[0;32m      5\u001b[0m     y = [\"Переход на главную страницу\", \\\n",
      "\u001b[1;31mNameError\u001b[0m: name 'go' is not defined"
     ]
    }
   ],
   "source": [
    "fig = go.Figure()\n",
    "\n",
    "fig.add_trace(go.Funnel(\n",
    "    name = 'Группа 246',\n",
    "    y = [\"Переход на главную страницу\", \\\n",
    "           \"Переход на страницу предложений\", \\\n",
    "           \"Переход на страницу с корзиной\", \\\n",
    "           \"Сообщение об успешной покупке \"],\n",
    "    x = [2452, 1544, 1267, 1200],\n",
    "    textinfo = \"value+percent initial\"))\n",
    "\n",
    "fig.add_trace(go.Funnel(\n",
    "    name = 'Группа 247',\n",
    "    orientation = \"h\",\n",
    "    y = [\"Переход на главную страницу\", \\\n",
    "           \"Переход на страницу предложений\", \\\n",
    "           \"Переход на страницу с корзиной\", \\\n",
    "           \"Сообщение об успешной покупке \"],\n",
    "    x = [2479, 1526, 1239, 1159],\n",
    "    textposition = \"inside\",\n",
    "    textinfo = \"value+percent previous\"))\n",
    "\n",
    "fig.add_trace(go.Funnel(\n",
    "    name = 'Группа 248',\n",
    "    orientation = \"h\",\n",
    "    y = [\"Переход на главную страницу\", \\\n",
    "           \"Переход на страницу предложений\", \\\n",
    "           \"Переход на страницу с корзиной\", \\\n",
    "           \"Сообщение об успешной покупке \"],\n",
    "    x = [2498, 1536, 1236, 1183],\n",
    "    textposition = \"outside\",\n",
    "    textinfo = \"value+percent total\"))\n",
    "\n",
    "fig.show()"
   ]
  },
  {
   "cell_type": "code",
   "execution_count": 42,
   "metadata": {},
   "outputs": [
    {
     "name": "stdout",
     "output_type": "stream",
     "text": [
      "Доля пользователей, дошедших от главной страницы до оплаты:  48.0 %\n"
     ]
    }
   ],
   "source": [
    "print('Доля пользователей, дошедших от главной страницы до оплаты: ', (round(3542/7429, 2))*100.0, '%')"
   ]
  },
  {
   "cell_type": "markdown",
   "metadata": {},
   "source": [
    "**Выводы**"
   ]
  },
  {
   "cell_type": "markdown",
   "metadata": {},
   "source": [
    "Итак, мы обнаружили довольно типичную воронку событий. Общая конверсия пользователей - почти 50%, что является весьма неплохим показателем. Однако стоит отметить очевидную проблему на этапе перехода от главной странице к странице предложения, на которой теряется солидная доля пользователей - почти 40%. Посмотрим, в следующем разделе, в какой степени нам может помочь изменение шрифта. "
   ]
  },
  {
   "cell_type": "markdown",
   "metadata": {},
   "source": [
    "## Анализ результатов эксперимента"
   ]
  },
  {
   "cell_type": "markdown",
   "metadata": {},
   "source": [
    "### A/A тест"
   ]
  },
  {
   "cell_type": "markdown",
   "metadata": {},
   "source": [
    "Как известно, для того, чтобы оценить степень подготовленности а А/В тесту сначала проводится  А/А тест. Он похож на A/B-тест, только группам показывают не разные, а одинаковые версии страниц. Именно для этого нам и нужны группы 246 и 247. "
   ]
  },
  {
   "cell_type": "markdown",
   "metadata": {},
   "source": [
    "Для начала определим, насколько различаются группы по количеству."
   ]
  },
  {
   "cell_type": "markdown",
   "metadata": {},
   "source": [
    "Посмотрим на количество пользователей в каждой группе:"
   ]
  },
  {
   "cell_type": "code",
   "execution_count": 43,
   "metadata": {},
   "outputs": [
    {
     "data": {
      "text/plain": [
       "exp_id\n",
       "246    2485\n",
       "247    2517\n",
       "248    2540\n",
       "Name: device_id_hash, dtype: int64"
      ]
     },
     "execution_count": 43,
     "metadata": {},
     "output_type": "execute_result"
    }
   ],
   "source": [
    "groups_distr"
   ]
  },
  {
   "cell_type": "code",
   "execution_count": 44,
   "metadata": {},
   "outputs": [
    {
     "name": "stdout",
     "output_type": "stream",
     "text": [
      "Мы видим, что группа 246 отличается от группы 247 примерно на 1.29 %, что в принципе является близким к допустимому отклонению в 1%\n"
     ]
    }
   ],
   "source": [
    "print ('Мы видим, что группа 246 отличается от группы 247 примерно на', \\\n",
    "       round (((2517/2485)*100.0 - 100), 2), '%, что в принципе является близким к допустимому отклонению в 1%')  "
   ]
  },
  {
   "cell_type": "markdown",
   "metadata": {},
   "source": [
    "Посмотрим, есть ли \"перекрестные\" пользователи в различных группах. "
   ]
  },
  {
   "cell_type": "code",
   "execution_count": 45,
   "metadata": {},
   "outputs": [],
   "source": [
    "def intersection(df, column, group1, group2):\n",
    "    list1 = df[df[column] == group1] [column].values.tolist()\n",
    "    list2 = df[df[column] == group2] [column].values.tolist()\n",
    "    return list(set(list1) & set(list2))"
   ]
  },
  {
   "cell_type": "code",
   "execution_count": 46,
   "metadata": {},
   "outputs": [],
   "source": [
    "def comparison (group1, group2):\n",
    "    if intersection(cleaned_logs, 'exp_id', group1, group2) == []:\n",
    "        print('Нет пересечений')\n",
    "    else:\n",
    "        print ('Пересечения обнаружены: ', intersection(cleaned_logs, 'exp_id', group1, group2))"
   ]
  },
  {
   "cell_type": "code",
   "execution_count": 47,
   "metadata": {},
   "outputs": [
    {
     "name": "stdout",
     "output_type": "stream",
     "text": [
      "Нет пересечений\n"
     ]
    }
   ],
   "source": [
    "comparison (246, 247)"
   ]
  },
  {
   "cell_type": "code",
   "execution_count": 48,
   "metadata": {},
   "outputs": [
    {
     "name": "stdout",
     "output_type": "stream",
     "text": [
      "Нет пересечений\n"
     ]
    }
   ],
   "source": [
    "comparison (246, 248)"
   ]
  },
  {
   "cell_type": "code",
   "execution_count": 49,
   "metadata": {},
   "outputs": [
    {
     "name": "stdout",
     "output_type": "stream",
     "text": [
      "Нет пересечений\n"
     ]
    }
   ],
   "source": [
    "comparison (248, 247)"
   ]
  },
  {
   "cell_type": "markdown",
   "metadata": {},
   "source": [
    "Пересечений между группами не обнаружено"
   ]
  },
  {
   "cell_type": "markdown",
   "metadata": {},
   "source": [
    "Оценим теперь насколько статистически различаются группы 246 и 247 "
   ]
  },
  {
   "cell_type": "markdown",
   "metadata": {},
   "source": [
    "Для начала произведем разбивку по событиям между группами."
   ]
  },
  {
   "cell_type": "code",
   "execution_count": 50,
   "metadata": {
    "scrolled": true
   },
   "outputs": [
    {
     "data": {
      "text/html": [
       "<div>\n",
       "<style scoped>\n",
       "    .dataframe tbody tr th:only-of-type {\n",
       "        vertical-align: middle;\n",
       "    }\n",
       "\n",
       "    .dataframe tbody tr th {\n",
       "        vertical-align: top;\n",
       "    }\n",
       "\n",
       "    .dataframe thead th {\n",
       "        text-align: right;\n",
       "    }\n",
       "</style>\n",
       "<table border=\"1\" class=\"dataframe\">\n",
       "  <thead>\n",
       "    <tr style=\"text-align: right;\">\n",
       "      <th></th>\n",
       "      <th>event_name</th>\n",
       "      <th>device_id_hash</th>\n",
       "      <th>event_time_stamp</th>\n",
       "      <th>exp_id</th>\n",
       "      <th>event_full_time</th>\n",
       "      <th>date</th>\n",
       "    </tr>\n",
       "  </thead>\n",
       "  <tbody>\n",
       "    <tr>\n",
       "      <th>0</th>\n",
       "      <td>MainScreenAppear</td>\n",
       "      <td>3670880358399219515</td>\n",
       "      <td>1564535506</td>\n",
       "      <td>247</td>\n",
       "      <td>2019-07-31 01:11:46</td>\n",
       "      <td>2019-07-31</td>\n",
       "    </tr>\n",
       "    <tr>\n",
       "      <th>1</th>\n",
       "      <td>OffersScreenAppear</td>\n",
       "      <td>3799109751993694887</td>\n",
       "      <td>1564536064</td>\n",
       "      <td>248</td>\n",
       "      <td>2019-07-31 01:21:04</td>\n",
       "      <td>2019-07-31</td>\n",
       "    </tr>\n",
       "    <tr>\n",
       "      <th>2</th>\n",
       "      <td>Tutorial</td>\n",
       "      <td>1126021718529336913</td>\n",
       "      <td>1564536731</td>\n",
       "      <td>247</td>\n",
       "      <td>2019-07-31 01:32:11</td>\n",
       "      <td>2019-07-31</td>\n",
       "    </tr>\n",
       "    <tr>\n",
       "      <th>3</th>\n",
       "      <td>MainScreenAppear</td>\n",
       "      <td>4293428370257583636</td>\n",
       "      <td>1564539558</td>\n",
       "      <td>248</td>\n",
       "      <td>2019-07-31 02:19:18</td>\n",
       "      <td>2019-07-31</td>\n",
       "    </tr>\n",
       "    <tr>\n",
       "      <th>4</th>\n",
       "      <td>MainScreenAppear</td>\n",
       "      <td>4567464647598975872</td>\n",
       "      <td>1564540410</td>\n",
       "      <td>247</td>\n",
       "      <td>2019-07-31 02:33:30</td>\n",
       "      <td>2019-07-31</td>\n",
       "    </tr>\n",
       "    <tr>\n",
       "      <th>...</th>\n",
       "      <td>...</td>\n",
       "      <td>...</td>\n",
       "      <td>...</td>\n",
       "      <td>...</td>\n",
       "      <td>...</td>\n",
       "      <td>...</td>\n",
       "    </tr>\n",
       "    <tr>\n",
       "      <th>243324</th>\n",
       "      <td>MainScreenAppear</td>\n",
       "      <td>4599628364049201812</td>\n",
       "      <td>1565212345</td>\n",
       "      <td>247</td>\n",
       "      <td>2019-08-07 21:12:25</td>\n",
       "      <td>2019-08-07</td>\n",
       "    </tr>\n",
       "    <tr>\n",
       "      <th>243325</th>\n",
       "      <td>MainScreenAppear</td>\n",
       "      <td>5849806612437486590</td>\n",
       "      <td>1565212439</td>\n",
       "      <td>246</td>\n",
       "      <td>2019-08-07 21:13:59</td>\n",
       "      <td>2019-08-07</td>\n",
       "    </tr>\n",
       "    <tr>\n",
       "      <th>243326</th>\n",
       "      <td>MainScreenAppear</td>\n",
       "      <td>5746969938801999050</td>\n",
       "      <td>1565212483</td>\n",
       "      <td>246</td>\n",
       "      <td>2019-08-07 21:14:43</td>\n",
       "      <td>2019-08-07</td>\n",
       "    </tr>\n",
       "    <tr>\n",
       "      <th>243327</th>\n",
       "      <td>MainScreenAppear</td>\n",
       "      <td>5746969938801999050</td>\n",
       "      <td>1565212498</td>\n",
       "      <td>246</td>\n",
       "      <td>2019-08-07 21:14:58</td>\n",
       "      <td>2019-08-07</td>\n",
       "    </tr>\n",
       "    <tr>\n",
       "      <th>243328</th>\n",
       "      <td>OffersScreenAppear</td>\n",
       "      <td>5746969938801999050</td>\n",
       "      <td>1565212517</td>\n",
       "      <td>246</td>\n",
       "      <td>2019-08-07 21:15:17</td>\n",
       "      <td>2019-08-07</td>\n",
       "    </tr>\n",
       "  </tbody>\n",
       "</table>\n",
       "<p>243329 rows × 6 columns</p>\n",
       "</div>"
      ],
      "text/plain": [
       "                event_name       device_id_hash  event_time_stamp  exp_id  \\\n",
       "0         MainScreenAppear  3670880358399219515        1564535506     247   \n",
       "1       OffersScreenAppear  3799109751993694887        1564536064     248   \n",
       "2                 Tutorial  1126021718529336913        1564536731     247   \n",
       "3         MainScreenAppear  4293428370257583636        1564539558     248   \n",
       "4         MainScreenAppear  4567464647598975872        1564540410     247   \n",
       "...                    ...                  ...               ...     ...   \n",
       "243324    MainScreenAppear  4599628364049201812        1565212345     247   \n",
       "243325    MainScreenAppear  5849806612437486590        1565212439     246   \n",
       "243326    MainScreenAppear  5746969938801999050        1565212483     246   \n",
       "243327    MainScreenAppear  5746969938801999050        1565212498     246   \n",
       "243328  OffersScreenAppear  5746969938801999050        1565212517     246   \n",
       "\n",
       "           event_full_time        date  \n",
       "0      2019-07-31 01:11:46  2019-07-31  \n",
       "1      2019-07-31 01:21:04  2019-07-31  \n",
       "2      2019-07-31 01:32:11  2019-07-31  \n",
       "3      2019-07-31 02:19:18  2019-07-31  \n",
       "4      2019-07-31 02:33:30  2019-07-31  \n",
       "...                    ...         ...  \n",
       "243324 2019-08-07 21:12:25  2019-08-07  \n",
       "243325 2019-08-07 21:13:59  2019-08-07  \n",
       "243326 2019-08-07 21:14:43  2019-08-07  \n",
       "243327 2019-08-07 21:14:58  2019-08-07  \n",
       "243328 2019-08-07 21:15:17  2019-08-07  \n",
       "\n",
       "[243329 rows x 6 columns]"
      ]
     },
     "execution_count": 50,
     "metadata": {},
     "output_type": "execute_result"
    }
   ],
   "source": [
    "cleaned_logs"
   ]
  },
  {
   "cell_type": "code",
   "execution_count": 72,
   "metadata": {},
   "outputs": [],
   "source": [
    "groups_by_events = cleaned_logs.pivot_table(index = 'event_name',\n",
    "                                   columns = 'exp_id',\n",
    "                                   values = 'device_id_hash',\n",
    "                                   aggfunc = 'nunique')"
   ]
  },
  {
   "cell_type": "code",
   "execution_count": 73,
   "metadata": {},
   "outputs": [
    {
     "data": {
      "text/html": [
       "<div>\n",
       "<style scoped>\n",
       "    .dataframe tbody tr th:only-of-type {\n",
       "        vertical-align: middle;\n",
       "    }\n",
       "\n",
       "    .dataframe tbody tr th {\n",
       "        vertical-align: top;\n",
       "    }\n",
       "\n",
       "    .dataframe thead th {\n",
       "        text-align: right;\n",
       "    }\n",
       "</style>\n",
       "<table border=\"1\" class=\"dataframe\">\n",
       "  <thead>\n",
       "    <tr style=\"text-align: right;\">\n",
       "      <th>exp_id</th>\n",
       "      <th>246</th>\n",
       "      <th>247</th>\n",
       "      <th>248</th>\n",
       "    </tr>\n",
       "    <tr>\n",
       "      <th>event_name</th>\n",
       "      <th></th>\n",
       "      <th></th>\n",
       "      <th></th>\n",
       "    </tr>\n",
       "  </thead>\n",
       "  <tbody>\n",
       "    <tr>\n",
       "      <th>CartScreenAppear</th>\n",
       "      <td>1267</td>\n",
       "      <td>1239</td>\n",
       "      <td>1236</td>\n",
       "    </tr>\n",
       "    <tr>\n",
       "      <th>MainScreenAppear</th>\n",
       "      <td>2452</td>\n",
       "      <td>2479</td>\n",
       "      <td>2498</td>\n",
       "    </tr>\n",
       "    <tr>\n",
       "      <th>OffersScreenAppear</th>\n",
       "      <td>1544</td>\n",
       "      <td>1526</td>\n",
       "      <td>1536</td>\n",
       "    </tr>\n",
       "    <tr>\n",
       "      <th>PaymentScreenSuccessful</th>\n",
       "      <td>1200</td>\n",
       "      <td>1159</td>\n",
       "      <td>1183</td>\n",
       "    </tr>\n",
       "    <tr>\n",
       "      <th>Tutorial</th>\n",
       "      <td>278</td>\n",
       "      <td>285</td>\n",
       "      <td>282</td>\n",
       "    </tr>\n",
       "  </tbody>\n",
       "</table>\n",
       "</div>"
      ],
      "text/plain": [
       "exp_id                    246   247   248\n",
       "event_name                               \n",
       "CartScreenAppear         1267  1239  1236\n",
       "MainScreenAppear         2452  2479  2498\n",
       "OffersScreenAppear       1544  1526  1536\n",
       "PaymentScreenSuccessful  1200  1159  1183\n",
       "Tutorial                  278   285   282"
      ]
     },
     "execution_count": 73,
     "metadata": {},
     "output_type": "execute_result"
    }
   ],
   "source": [
    "groups_by_events"
   ]
  },
  {
   "cell_type": "code",
   "execution_count": 74,
   "metadata": {},
   "outputs": [],
   "source": [
    "groups_by_events = groups_by_events.sort_values (by = 246, ascending = False) "
   ]
  },
  {
   "cell_type": "code",
   "execution_count": 75,
   "metadata": {},
   "outputs": [
    {
     "data": {
      "text/html": [
       "<div>\n",
       "<style scoped>\n",
       "    .dataframe tbody tr th:only-of-type {\n",
       "        vertical-align: middle;\n",
       "    }\n",
       "\n",
       "    .dataframe tbody tr th {\n",
       "        vertical-align: top;\n",
       "    }\n",
       "\n",
       "    .dataframe thead th {\n",
       "        text-align: right;\n",
       "    }\n",
       "</style>\n",
       "<table border=\"1\" class=\"dataframe\">\n",
       "  <thead>\n",
       "    <tr style=\"text-align: right;\">\n",
       "      <th>exp_id</th>\n",
       "      <th>246</th>\n",
       "      <th>247</th>\n",
       "      <th>248</th>\n",
       "    </tr>\n",
       "    <tr>\n",
       "      <th>event_name</th>\n",
       "      <th></th>\n",
       "      <th></th>\n",
       "      <th></th>\n",
       "    </tr>\n",
       "  </thead>\n",
       "  <tbody>\n",
       "    <tr>\n",
       "      <th>MainScreenAppear</th>\n",
       "      <td>2452</td>\n",
       "      <td>2479</td>\n",
       "      <td>2498</td>\n",
       "    </tr>\n",
       "    <tr>\n",
       "      <th>OffersScreenAppear</th>\n",
       "      <td>1544</td>\n",
       "      <td>1526</td>\n",
       "      <td>1536</td>\n",
       "    </tr>\n",
       "    <tr>\n",
       "      <th>CartScreenAppear</th>\n",
       "      <td>1267</td>\n",
       "      <td>1239</td>\n",
       "      <td>1236</td>\n",
       "    </tr>\n",
       "    <tr>\n",
       "      <th>PaymentScreenSuccessful</th>\n",
       "      <td>1200</td>\n",
       "      <td>1159</td>\n",
       "      <td>1183</td>\n",
       "    </tr>\n",
       "    <tr>\n",
       "      <th>Tutorial</th>\n",
       "      <td>278</td>\n",
       "      <td>285</td>\n",
       "      <td>282</td>\n",
       "    </tr>\n",
       "  </tbody>\n",
       "</table>\n",
       "</div>"
      ],
      "text/plain": [
       "exp_id                    246   247   248\n",
       "event_name                               \n",
       "MainScreenAppear         2452  2479  2498\n",
       "OffersScreenAppear       1544  1526  1536\n",
       "CartScreenAppear         1267  1239  1236\n",
       "PaymentScreenSuccessful  1200  1159  1183\n",
       "Tutorial                  278   285   282"
      ]
     },
     "execution_count": 75,
     "metadata": {},
     "output_type": "execute_result"
    }
   ],
   "source": [
    "groups_by_events "
   ]
  },
  {
   "cell_type": "code",
   "execution_count": 76,
   "metadata": {},
   "outputs": [
    {
     "data": {
      "text/plain": [
       "exp_id\n",
       "246    2485\n",
       "247    2517\n",
       "248    2540\n",
       "Name: Total, dtype: int64"
      ]
     },
     "execution_count": 76,
     "metadata": {},
     "output_type": "execute_result"
    }
   ],
   "source": [
    "groups_distr.rename('Total', inplace = True)"
   ]
  },
  {
   "cell_type": "code",
   "execution_count": 77,
   "metadata": {},
   "outputs": [],
   "source": [
    "groups_by_events = groups_by_events.append(groups_distr)"
   ]
  },
  {
   "cell_type": "code",
   "execution_count": 78,
   "metadata": {},
   "outputs": [
    {
     "data": {
      "text/html": [
       "<div>\n",
       "<style scoped>\n",
       "    .dataframe tbody tr th:only-of-type {\n",
       "        vertical-align: middle;\n",
       "    }\n",
       "\n",
       "    .dataframe tbody tr th {\n",
       "        vertical-align: top;\n",
       "    }\n",
       "\n",
       "    .dataframe thead th {\n",
       "        text-align: right;\n",
       "    }\n",
       "</style>\n",
       "<table border=\"1\" class=\"dataframe\">\n",
       "  <thead>\n",
       "    <tr style=\"text-align: right;\">\n",
       "      <th>exp_id</th>\n",
       "      <th>246</th>\n",
       "      <th>247</th>\n",
       "      <th>248</th>\n",
       "    </tr>\n",
       "    <tr>\n",
       "      <th>event_name</th>\n",
       "      <th></th>\n",
       "      <th></th>\n",
       "      <th></th>\n",
       "    </tr>\n",
       "  </thead>\n",
       "  <tbody>\n",
       "    <tr>\n",
       "      <th>MainScreenAppear</th>\n",
       "      <td>2452</td>\n",
       "      <td>2479</td>\n",
       "      <td>2498</td>\n",
       "    </tr>\n",
       "    <tr>\n",
       "      <th>OffersScreenAppear</th>\n",
       "      <td>1544</td>\n",
       "      <td>1526</td>\n",
       "      <td>1536</td>\n",
       "    </tr>\n",
       "    <tr>\n",
       "      <th>CartScreenAppear</th>\n",
       "      <td>1267</td>\n",
       "      <td>1239</td>\n",
       "      <td>1236</td>\n",
       "    </tr>\n",
       "    <tr>\n",
       "      <th>PaymentScreenSuccessful</th>\n",
       "      <td>1200</td>\n",
       "      <td>1159</td>\n",
       "      <td>1183</td>\n",
       "    </tr>\n",
       "    <tr>\n",
       "      <th>Tutorial</th>\n",
       "      <td>278</td>\n",
       "      <td>285</td>\n",
       "      <td>282</td>\n",
       "    </tr>\n",
       "    <tr>\n",
       "      <th>Total</th>\n",
       "      <td>2485</td>\n",
       "      <td>2517</td>\n",
       "      <td>2540</td>\n",
       "    </tr>\n",
       "  </tbody>\n",
       "</table>\n",
       "</div>"
      ],
      "text/plain": [
       "exp_id                    246   247   248\n",
       "event_name                               \n",
       "MainScreenAppear         2452  2479  2498\n",
       "OffersScreenAppear       1544  1526  1536\n",
       "CartScreenAppear         1267  1239  1236\n",
       "PaymentScreenSuccessful  1200  1159  1183\n",
       "Tutorial                  278   285   282\n",
       "Total                    2485  2517  2540"
      ]
     },
     "execution_count": 78,
     "metadata": {},
     "output_type": "execute_result"
    }
   ],
   "source": [
    "groups_by_events"
   ]
  },
  {
   "cell_type": "code",
   "execution_count": 79,
   "metadata": {},
   "outputs": [
    {
     "data": {
      "text/html": [
       "<div>\n",
       "<style scoped>\n",
       "    .dataframe tbody tr th:only-of-type {\n",
       "        vertical-align: middle;\n",
       "    }\n",
       "\n",
       "    .dataframe tbody tr th {\n",
       "        vertical-align: top;\n",
       "    }\n",
       "\n",
       "    .dataframe thead th {\n",
       "        text-align: right;\n",
       "    }\n",
       "</style>\n",
       "<table border=\"1\" class=\"dataframe\">\n",
       "  <thead>\n",
       "    <tr style=\"text-align: right;\">\n",
       "      <th>exp_id</th>\n",
       "      <th>246</th>\n",
       "      <th>247</th>\n",
       "      <th>248</th>\n",
       "    </tr>\n",
       "    <tr>\n",
       "      <th>event_name</th>\n",
       "      <th></th>\n",
       "      <th></th>\n",
       "      <th></th>\n",
       "    </tr>\n",
       "  </thead>\n",
       "  <tbody>\n",
       "    <tr>\n",
       "      <th>MainScreenAppear</th>\n",
       "      <td>2452</td>\n",
       "      <td>2479</td>\n",
       "      <td>2498</td>\n",
       "    </tr>\n",
       "    <tr>\n",
       "      <th>OffersScreenAppear</th>\n",
       "      <td>1544</td>\n",
       "      <td>1526</td>\n",
       "      <td>1536</td>\n",
       "    </tr>\n",
       "    <tr>\n",
       "      <th>CartScreenAppear</th>\n",
       "      <td>1267</td>\n",
       "      <td>1239</td>\n",
       "      <td>1236</td>\n",
       "    </tr>\n",
       "    <tr>\n",
       "      <th>PaymentScreenSuccessful</th>\n",
       "      <td>1200</td>\n",
       "      <td>1159</td>\n",
       "      <td>1183</td>\n",
       "    </tr>\n",
       "    <tr>\n",
       "      <th>Tutorial</th>\n",
       "      <td>278</td>\n",
       "      <td>285</td>\n",
       "      <td>282</td>\n",
       "    </tr>\n",
       "    <tr>\n",
       "      <th>Total</th>\n",
       "      <td>2485</td>\n",
       "      <td>2517</td>\n",
       "      <td>2540</td>\n",
       "    </tr>\n",
       "  </tbody>\n",
       "</table>\n",
       "</div>"
      ],
      "text/plain": [
       "exp_id                    246   247   248\n",
       "event_name                               \n",
       "MainScreenAppear         2452  2479  2498\n",
       "OffersScreenAppear       1544  1526  1536\n",
       "CartScreenAppear         1267  1239  1236\n",
       "PaymentScreenSuccessful  1200  1159  1183\n",
       "Tutorial                  278   285   282\n",
       "Total                    2485  2517  2540"
      ]
     },
     "execution_count": 79,
     "metadata": {},
     "output_type": "execute_result"
    }
   ],
   "source": [
    "groups_by_events"
   ]
  },
  {
   "cell_type": "markdown",
   "metadata": {},
   "source": [
    "Теперь у нас появилась основа для исследования статистических различий между всеми тремя группами. "
   ]
  },
  {
   "cell_type": "markdown",
   "metadata": {},
   "source": [
    "Группы достаточно большие. Вряд ли есть основания предполагать, что распределение отличается от нормального. Поэтому используем z-тест. Определим функцию для проведения z-теста. "
   ]
  },
  {
   "cell_type": "code",
   "execution_count": 80,
   "metadata": {},
   "outputs": [],
   "source": [
    "def z_test(a_hits, a_total, b_hits, b_total, alpha):\n",
    "   \n",
    "    # пропорция успехов в группе A\n",
    "    p1 = a_hits / a_total\n",
    "    # пропорция успехов в группе B\n",
    "    p2 = b_hits / b_total\n",
    "    # комбинированная пропорция успехов\n",
    "    p = (a_hits + b_hits) / (a_total + b_total)\n",
    "    # статистика в ст.отклонениях стандартного нормального распределения\n",
    "    z_value = (p1 - p2) / np.sqrt(p * (1 - p) * (1/a_total + 1/b_total))\n",
    "    # задаем стандартное нормальное распределение (среднее 0, ст.отклонение 1)\n",
    "    distr = st.norm(0, 1)\n",
    "    # находим вероятность отклонения (z_value) от центра распределения\n",
    "    p_value = (1 - distr.cdf(abs(z_value))) * 2\n",
    "    \n",
    "    return p_value\n"
   ]
  },
  {
   "cell_type": "code",
   "execution_count": null,
   "metadata": {},
   "outputs": [],
   "source": []
  },
  {
   "cell_type": "markdown",
   "metadata": {},
   "source": [
    "Самое популярное событие, очевидно, попадание на главную страницу."
   ]
  },
  {
   "cell_type": "markdown",
   "metadata": {},
   "source": [
    "Определим нулевую гипотезу: между группами 246 и 247 нет статистической разницы по долям пользователей, совершивших "
   ]
  },
  {
   "cell_type": "code",
   "execution_count": 81,
   "metadata": {},
   "outputs": [
    {
     "data": {
      "text/plain": [
       "0.5868776836512959"
      ]
     },
     "execution_count": 81,
     "metadata": {},
     "output_type": "execute_result"
    }
   ],
   "source": [
    "z_test(2452,  2485,2479  , 2517, 0.05)"
   ]
  },
  {
   "cell_type": "markdown",
   "metadata": {},
   "source": [
    "Однако, вероятно, с учётом того, что по понятным причинам доля этого события во всех группах будет очень высокой (раз уж ты воспользовался приложением, то скорее всего попадешь на главную страницу), имеет смысл провести сравнить две группы и по другим событиям. "
   ]
  },
  {
   "cell_type": "code",
   "execution_count": 90,
   "metadata": {},
   "outputs": [],
   "source": [
    "def stat_compare (a_group, b_group, alpha=0.05):\n",
    "    for event in groups_by_events.index:\n",
    "        if event != 'Total':\n",
    "            a_success = groups_by_events.loc[event, a_group]\n",
    "            b_success = groups_by_events.loc[event, b_group]\n",
    "            a_total = groups_by_events.loc[\"Total\", a_group]\n",
    "            b_total = groups_by_events.loc[\"Total\", b_group]\n",
    "        \n",
    "            if event == 'CartScreenAppear':\n",
    "                e = 'Вызов страницы с корзиной'\n",
    "            if event == 'MainScreenAppear':\n",
    "                e = 'Переход на главную страницу'\n",
    "            if event == 'OffersScreenAppear':\n",
    "                e = 'Переход на страницу с предложениями'\n",
    "            if event == 'PaymentScreenSuccessful':\n",
    "                e = 'Переход на страницу с предложениями' \n",
    "            if event == 'Tutorial':\n",
    "                e = 'Переход на страницу с руководством'   \n",
    "          \n",
    "            p_value = z_test(a_success, a_total, b_success, b_total, alpha)\n",
    "            if (p_value < alpha):\n",
    "                print(\"p_value = \", round(p_value, 2), \"Есть основания отвергнуть нулевую гипотезу для групп\", a_group, \\\n",
    "                  \"и\", b_group, \"в отношении события:\", e, \"Между долями есть значимая разница\")\n",
    "            else:\n",
    "                print('p_value = {0}. Нет оснований отвергнуть нулевую гипотезу для групп: {1} и {2} в отношении события: \"{3}\". Нет оснований считать доли разными'.format(p_value, a_group, b_group, e ))\n",
    "       "
   ]
  },
  {
   "cell_type": "code",
   "execution_count": null,
   "metadata": {},
   "outputs": [],
   "source": []
  },
  {
   "cell_type": "code",
   "execution_count": 91,
   "metadata": {},
   "outputs": [
    {
     "name": "stdout",
     "output_type": "stream",
     "text": [
      "p_value = 0.5868776836512959. Нет оснований отвергнуть нулевую гипотезу для групп: 246 и 247 в отношении события: \"Переход на главную страницу\". Нет оснований считать доли разными\n",
      "p_value = 0.2743505991932964. Нет оснований отвергнуть нулевую гипотезу для групп: 246 и 247 в отношении события: \"Переход на страницу с предложениями\". Нет оснований считать доли разными\n",
      "p_value = 0.21306131796590932. Нет оснований отвергнуть нулевую гипотезу для групп: 246 и 247 в отношении события: \"Вызов страницы с корзиной\". Нет оснований считать доли разными\n",
      "p_value = 0.11210845100173072. Нет оснований отвергнуть нулевую гипотезу для групп: 246 и 247 в отношении события: \"Переход на страницу с предложениями\". Нет оснований считать доли разными\n",
      "p_value = 0.8791608435102836. Нет оснований отвергнуть нулевую гипотезу для групп: 246 и 247 в отношении события: \"Переход на страницу с руководством\". Нет оснований считать доли разными\n"
     ]
    }
   ],
   "source": [
    "stat_compare (246, 247 )"
   ]
  },
  {
   "cell_type": "markdown",
   "metadata": {},
   "source": [
    "**Выводы**"
   ]
  },
  {
   "cell_type": "markdown",
   "metadata": {},
   "source": [
    "Похоже, между группами нет статистических различий. При этом этот вывод, разумеется, сохранится при любом уровне значимости, даже равном 0.01, и тем более если мы применим поправку Бонферрони и поделим уровень значимости на коэффициент 3 по числу гипотез. "
   ]
  },
  {
   "cell_type": "markdown",
   "metadata": {},
   "source": [
    "### A/B тест"
   ]
  },
  {
   "cell_type": "markdown",
   "metadata": {},
   "source": [
    "Попробуем сравнить экспериментальную группу с каждой из контрольных."
   ]
  },
  {
   "cell_type": "markdown",
   "metadata": {},
   "source": [
    "В каждом случае в качестве нулевой гипотезы примем предположение о том, что статистической разницы между группами нет."
   ]
  },
  {
   "cell_type": "code",
   "execution_count": null,
   "metadata": {},
   "outputs": [],
   "source": [
    "stat_compare (246, 248)"
   ]
  },
  {
   "cell_type": "code",
   "execution_count": null,
   "metadata": {},
   "outputs": [],
   "source": [
    "stat_compare (247, 248)"
   ]
  },
  {
   "cell_type": "markdown",
   "metadata": {},
   "source": [
    "Итак, ни для одного из событий нет статических различий между экспериментальной и любой из контрольных групп"
   ]
  },
  {
   "cell_type": "markdown",
   "metadata": {},
   "source": [
    "Сравним экспериментальную группу с объединённой."
   ]
  },
  {
   "cell_type": "code",
   "execution_count": null,
   "metadata": {},
   "outputs": [],
   "source": [
    "groups_by_events['combined'] = groups_by_events[246] + groups_by_events[247]"
   ]
  },
  {
   "cell_type": "code",
   "execution_count": null,
   "metadata": {},
   "outputs": [],
   "source": [
    "display(groups_by_events)"
   ]
  },
  {
   "cell_type": "code",
   "execution_count": null,
   "metadata": {},
   "outputs": [],
   "source": [
    "stat_compare ('combined', 248)"
   ]
  },
  {
   "cell_type": "markdown",
   "metadata": {},
   "source": [
    "Итак, и по сравнению с объединённой контрольной группой экспериментальная группа статистически не отличается.   "
   ]
  },
  {
   "cell_type": "markdown",
   "metadata": {},
   "source": [
    "Как мы уже писали выше при столь высоком значении p-value для всех событий, этот вывод не изменится, разумеется, ни при более строгом уровне значимости, ни, тем более, при скорректированном на число гипотез уровне значимости. "
   ]
  },
  {
   "cell_type": "markdown",
   "metadata": {},
   "source": [
    "**Выводы по разделу**"
   ]
  },
  {
   "cell_type": "markdown",
   "metadata": {},
   "source": [
    "Итак, по результатам А/А и А/В тестов можно прийти к следующим выводам:\n",
    "1. Контрольные группы 246 и 247 составлены корректно. Почти одинаковые по численности, без пересечений, статистически не различающиеся\n",
    "2. Не обнаружено статистически значимых различий ни между экспериментальной группой и любой из двух контрольных, ни между экспериментальной и объединённой контрольной. Этот вывод сохраняется при любых стандартно используемых уровнях значимости. В целом, это не удивительно. Вряд ли стоит ожидать, что изменение шрифта серьезно повлияет на такие показатели как общая конверсия, или воронка событий. "
   ]
  },
  {
   "cell_type": "markdown",
   "metadata": {},
   "source": [
    "## Общие выводы"
   ]
  },
  {
   "cell_type": "markdown",
   "metadata": {},
   "source": [
    "1. Общая информаця о датасете:\n",
    "В нашем распоряжении оказался относительно крупный датасет (244 126 строк). Пропуски не обнаружены. Небольшое количество дубликатов (удалено).\n",
    "Данные приведены за две недели  дней: с 25 июля 2019 г. по 7 августа 2019 года. Однако июльские данные неполные. В связи с этим удалили данные из датафрейма, относящиеся к этому периоду. Оставили только данные с 1-го по 7-е августа. \n",
    "Имеются три группы. Две контрольные, 246 и 247 - они состоят из пользователей, которые взаимодействуют со старым интерфейсом. И одна экспериментальная, 248 - в ней пользователи, взаимодействующие с интерфейсом с изменённым шрифтом.  \n",
    "Определено пять типов событий. MainScreenAppear - попадание на главную страницу OffersScreenAppear - попадание на страницу с предложениями CartScreenAppear - переход к продуктовой корзине PaymentScreenSuccessful - сообщение об успешной покупке Tutorial - гид\n",
    "В среднем на одного пользователя приходится 32 события. \n",
    "2. Выводы по воронке событий\n",
    "Чаще всего люди появляются на главной странице. Дальше резкое падение как по количеству событий, так и по количеству уникальных пользователей.Общая конверсия выглядит неплохо - почти половина пользователей, попавших на главную страницу, совершает покупку. Больше всего пользователей теряется на этапе перехода от главной странице к странице предложений (38%). А вот доля людей, пожелавших совершить покупку после ознакомления с предложениями, выглядит достаточно внушительно (81%). Можно сделать предположение, что, возможно, стоит внести некие усовершенствования на главной странице, чтобы больше людей переходило с главной страницы на страницу предложений.\n",
    "3. Выводы по тестам А/A/B \n",
    "Контрольные группы 246 и 247 составлены корректно. Не обнаружено статистически значимых различий ни между экспериментальной группой и любой из двух контрольных, ни между экспериментальной и объединённой контрольной. Этот вывод сохраняется при любых стандартно используемых уровнях значимости. "
   ]
  },
  {
   "cell_type": "markdown",
   "metadata": {},
   "source": [
    "<hr style=\"border: 2px solid green;\" />\n",
    "\n",
    "## Общий комментарий\n",
    "Спасибо за проделанную работу🤝\n",
    "\n",
    "Денис, работа выполнена прекрасно, ты отлично разобрался с данными по АВ тесту, молодец💪\n",
    "\n",
    "Есть только одна доработка:\n",
    "- детальнее изучить кол-во событий на пользователя\n",
    "\n",
    "Согласен с общим выводом: изменением шрифта не влияет на конверсия в различные этапы, поэтому его можно внедрять, если он по каким-либо другим причинам подходит больше.\n",
    "\n",
    "Исправляй и отправляй на проверку🛠"
   ]
  },
  {
   "cell_type": "code",
   "execution_count": null,
   "metadata": {},
   "outputs": [],
   "source": []
  },
  {
   "cell_type": "code",
   "execution_count": null,
   "metadata": {},
   "outputs": [],
   "source": []
  }
 ],
 "metadata": {
  "ExecuteTimeLog": [
   {
    "duration": 3,
    "start_time": "2022-12-16T10:34:43.936Z"
   },
   {
    "duration": 46,
    "start_time": "2022-12-16T10:40:34.118Z"
   },
   {
    "duration": 1191,
    "start_time": "2022-12-16T10:41:37.607Z"
   },
   {
    "duration": 3,
    "start_time": "2022-12-16T10:41:38.800Z"
   },
   {
    "duration": 4,
    "start_time": "2022-12-16T10:42:00.574Z"
   },
   {
    "duration": 184,
    "start_time": "2022-12-16T10:43:31.316Z"
   },
   {
    "duration": 3,
    "start_time": "2022-12-16T10:44:16.124Z"
   },
   {
    "duration": 38,
    "start_time": "2022-12-16T10:44:16.695Z"
   },
   {
    "duration": 3,
    "start_time": "2022-12-16T10:44:37.026Z"
   },
   {
    "duration": 34,
    "start_time": "2022-12-16T10:44:37.561Z"
   },
   {
    "duration": 4,
    "start_time": "2022-12-16T10:44:41.705Z"
   },
   {
    "duration": 3,
    "start_time": "2022-12-16T10:44:42.169Z"
   },
   {
    "duration": 3,
    "start_time": "2022-12-16T10:44:42.623Z"
   },
   {
    "duration": 34,
    "start_time": "2022-12-16T10:44:43.100Z"
   },
   {
    "duration": 3,
    "start_time": "2022-12-16T10:49:24.127Z"
   },
   {
    "duration": 33,
    "start_time": "2022-12-16T10:49:24.658Z"
   },
   {
    "duration": 4,
    "start_time": "2022-12-16T11:07:12.543Z"
   },
   {
    "duration": 33,
    "start_time": "2022-12-16T11:07:13.109Z"
   },
   {
    "duration": 914,
    "start_time": "2022-12-16T11:08:46.767Z"
   },
   {
    "duration": 278,
    "start_time": "2022-12-16T11:08:51.301Z"
   },
   {
    "duration": 4,
    "start_time": "2022-12-16T11:08:52.982Z"
   },
   {
    "duration": 272,
    "start_time": "2022-12-16T11:08:53.436Z"
   },
   {
    "duration": 8,
    "start_time": "2022-12-16T11:09:34.837Z"
   },
   {
    "duration": 4,
    "start_time": "2022-12-16T11:10:07.652Z"
   },
   {
    "duration": 73,
    "start_time": "2022-12-16T11:10:20.483Z"
   },
   {
    "duration": 281,
    "start_time": "2022-12-16T11:10:21.217Z"
   },
   {
    "duration": 5,
    "start_time": "2022-12-16T11:10:21.901Z"
   },
   {
    "duration": 4,
    "start_time": "2022-12-16T11:14:01.378Z"
   },
   {
    "duration": 268,
    "start_time": "2022-12-16T11:14:01.843Z"
   },
   {
    "duration": 4,
    "start_time": "2022-12-16T11:14:02.335Z"
   },
   {
    "duration": 78,
    "start_time": "2022-12-16T11:14:22.789Z"
   },
   {
    "duration": 4,
    "start_time": "2022-12-16T11:15:54.272Z"
   },
   {
    "duration": 223,
    "start_time": "2022-12-16T11:15:54.780Z"
   },
   {
    "duration": 5,
    "start_time": "2022-12-16T11:15:55.418Z"
   },
   {
    "duration": 247,
    "start_time": "2022-12-16T11:16:40.859Z"
   },
   {
    "duration": 6,
    "start_time": "2022-12-16T11:16:41.358Z"
   },
   {
    "duration": 3,
    "start_time": "2022-12-16T11:16:45.009Z"
   },
   {
    "duration": 3,
    "start_time": "2022-12-16T11:16:45.499Z"
   },
   {
    "duration": 242,
    "start_time": "2022-12-16T11:16:45.959Z"
   },
   {
    "duration": 6,
    "start_time": "2022-12-16T11:16:46.491Z"
   },
   {
    "duration": 5,
    "start_time": "2022-12-16T11:16:56.301Z"
   },
   {
    "duration": 3,
    "start_time": "2022-12-16T11:16:56.840Z"
   },
   {
    "duration": 5,
    "start_time": "2022-12-16T11:16:57.401Z"
   },
   {
    "duration": 261,
    "start_time": "2022-12-16T11:16:58.047Z"
   },
   {
    "duration": 6,
    "start_time": "2022-12-16T11:16:58.563Z"
   },
   {
    "duration": 3,
    "start_time": "2022-12-16T11:19:25.657Z"
   },
   {
    "duration": 3,
    "start_time": "2022-12-16T11:19:26.094Z"
   },
   {
    "duration": 3,
    "start_time": "2022-12-16T11:19:26.555Z"
   },
   {
    "duration": 241,
    "start_time": "2022-12-16T11:19:27.020Z"
   },
   {
    "duration": 5,
    "start_time": "2022-12-16T11:19:27.468Z"
   },
   {
    "duration": 185,
    "start_time": "2022-12-16T12:05:48.401Z"
   },
   {
    "duration": 5,
    "start_time": "2022-12-16T12:06:03.790Z"
   },
   {
    "duration": 6,
    "start_time": "2022-12-16T12:09:01.540Z"
   },
   {
    "duration": 18,
    "start_time": "2022-12-16T12:10:05.950Z"
   },
   {
    "duration": 9,
    "start_time": "2022-12-16T12:15:27.266Z"
   },
   {
    "duration": 11,
    "start_time": "2022-12-16T12:15:34.027Z"
   },
   {
    "duration": 4,
    "start_time": "2022-12-16T12:16:21.927Z"
   },
   {
    "duration": 4,
    "start_time": "2022-12-16T12:16:30.317Z"
   },
   {
    "duration": 189,
    "start_time": "2022-12-16T12:16:44.651Z"
   },
   {
    "duration": 5,
    "start_time": "2022-12-16T12:16:48.214Z"
   },
   {
    "duration": 20,
    "start_time": "2022-12-16T12:16:48.830Z"
   },
   {
    "duration": 11,
    "start_time": "2022-12-16T12:16:49.640Z"
   },
   {
    "duration": 1278,
    "start_time": "2022-12-16T12:17:25.167Z"
   },
   {
    "duration": 7,
    "start_time": "2022-12-16T12:17:48.443Z"
   },
   {
    "duration": 6,
    "start_time": "2022-12-16T12:18:07.175Z"
   },
   {
    "duration": 8,
    "start_time": "2022-12-16T13:01:15.938Z"
   },
   {
    "duration": 10,
    "start_time": "2022-12-16T13:01:23.225Z"
   },
   {
    "duration": 3,
    "start_time": "2022-12-16T13:02:47.693Z"
   },
   {
    "duration": 9,
    "start_time": "2022-12-16T13:06:54.738Z"
   },
   {
    "duration": 13,
    "start_time": "2022-12-16T13:07:09.803Z"
   },
   {
    "duration": 8,
    "start_time": "2022-12-16T13:07:26.152Z"
   },
   {
    "duration": 1029,
    "start_time": "2022-12-16T13:07:43.483Z"
   },
   {
    "duration": 3,
    "start_time": "2022-12-16T13:07:44.514Z"
   },
   {
    "duration": 208,
    "start_time": "2022-12-16T13:07:44.519Z"
   },
   {
    "duration": 7,
    "start_time": "2022-12-16T13:07:44.729Z"
   },
   {
    "duration": 31,
    "start_time": "2022-12-16T13:07:44.737Z"
   },
   {
    "duration": 10,
    "start_time": "2022-12-16T13:07:44.770Z"
   },
   {
    "duration": 5,
    "start_time": "2022-12-16T13:07:44.781Z"
   },
   {
    "duration": 8,
    "start_time": "2022-12-16T13:07:44.788Z"
   },
   {
    "duration": 14,
    "start_time": "2022-12-16T13:07:44.798Z"
   },
   {
    "duration": 40,
    "start_time": "2022-12-16T13:07:44.814Z"
   },
   {
    "duration": 2,
    "start_time": "2022-12-16T13:08:35.356Z"
   },
   {
    "duration": 1283,
    "start_time": "2022-12-16T13:08:54.039Z"
   },
   {
    "duration": 8,
    "start_time": "2022-12-16T13:09:36.122Z"
   },
   {
    "duration": 6,
    "start_time": "2022-12-16T13:09:36.798Z"
   },
   {
    "duration": 8,
    "start_time": "2022-12-16T13:09:44.731Z"
   },
   {
    "duration": 70,
    "start_time": "2022-12-16T13:11:43.512Z"
   },
   {
    "duration": 82,
    "start_time": "2022-12-16T13:12:43.424Z"
   },
   {
    "duration": 69,
    "start_time": "2022-12-16T13:13:02.235Z"
   },
   {
    "duration": 67,
    "start_time": "2022-12-16T13:13:16.718Z"
   },
   {
    "duration": 81,
    "start_time": "2022-12-16T13:13:17.245Z"
   },
   {
    "duration": 75,
    "start_time": "2022-12-16T13:13:20.895Z"
   },
   {
    "duration": 8,
    "start_time": "2022-12-16T13:14:25.108Z"
   },
   {
    "duration": 89,
    "start_time": "2022-12-16T13:14:29.085Z"
   },
   {
    "duration": 66,
    "start_time": "2022-12-16T13:14:30.257Z"
   },
   {
    "duration": 74,
    "start_time": "2022-12-16T13:14:39.090Z"
   },
   {
    "duration": 58,
    "start_time": "2022-12-16T13:14:39.847Z"
   },
   {
    "duration": 63,
    "start_time": "2022-12-16T13:15:07.685Z"
   },
   {
    "duration": 72,
    "start_time": "2022-12-16T13:15:08.371Z"
   },
   {
    "duration": 65,
    "start_time": "2022-12-16T13:24:18.852Z"
   },
   {
    "duration": 56,
    "start_time": "2022-12-16T13:24:19.422Z"
   },
   {
    "duration": 3,
    "start_time": "2022-12-16T13:28:50.873Z"
   },
   {
    "duration": 3,
    "start_time": "2022-12-16T13:28:51.267Z"
   },
   {
    "duration": 194,
    "start_time": "2022-12-16T13:28:51.704Z"
   },
   {
    "duration": 6,
    "start_time": "2022-12-16T13:28:53.173Z"
   },
   {
    "duration": 21,
    "start_time": "2022-12-16T13:28:53.571Z"
   },
   {
    "duration": 50,
    "start_time": "2022-12-16T13:28:54.469Z"
   },
   {
    "duration": 57,
    "start_time": "2022-12-16T13:28:55.370Z"
   },
   {
    "duration": 48,
    "start_time": "2022-12-16T13:28:55.794Z"
   },
   {
    "duration": 9,
    "start_time": "2022-12-16T13:28:57.318Z"
   },
   {
    "duration": 7,
    "start_time": "2022-12-16T13:28:58.264Z"
   },
   {
    "duration": 6,
    "start_time": "2022-12-16T13:28:58.971Z"
   },
   {
    "duration": 5,
    "start_time": "2022-12-16T14:04:28.497Z"
   },
   {
    "duration": 18,
    "start_time": "2022-12-16T14:04:28.902Z"
   },
   {
    "duration": 61,
    "start_time": "2022-12-16T14:04:30.168Z"
   },
   {
    "duration": 63,
    "start_time": "2022-12-16T14:04:31.025Z"
   },
   {
    "duration": 56,
    "start_time": "2022-12-16T14:04:31.419Z"
   },
   {
    "duration": 7,
    "start_time": "2022-12-16T14:04:33.019Z"
   },
   {
    "duration": 7,
    "start_time": "2022-12-16T14:04:33.837Z"
   },
   {
    "duration": 6,
    "start_time": "2022-12-16T14:04:34.258Z"
   },
   {
    "duration": 11,
    "start_time": "2022-12-16T14:06:57.537Z"
   },
   {
    "duration": 4,
    "start_time": "2022-12-16T14:07:03.215Z"
   },
   {
    "duration": 23,
    "start_time": "2022-12-16T14:07:11.818Z"
   },
   {
    "duration": 5,
    "start_time": "2022-12-16T14:07:22.096Z"
   },
   {
    "duration": 25,
    "start_time": "2022-12-16T14:09:48.133Z"
   },
   {
    "duration": 125,
    "start_time": "2022-12-16T14:14:03.030Z"
   },
   {
    "duration": 9,
    "start_time": "2022-12-16T14:14:47.248Z"
   },
   {
    "duration": 131,
    "start_time": "2022-12-16T14:14:55.840Z"
   },
   {
    "duration": 6,
    "start_time": "2022-12-16T14:14:56.294Z"
   },
   {
    "duration": 20,
    "start_time": "2022-12-16T15:57:57.733Z"
   },
   {
    "duration": 7,
    "start_time": "2022-12-16T15:57:59.036Z"
   },
   {
    "duration": 130,
    "start_time": "2022-12-16T15:58:14.116Z"
   },
   {
    "duration": 6,
    "start_time": "2022-12-16T15:58:15.853Z"
   },
   {
    "duration": 133,
    "start_time": "2022-12-16T15:59:57.037Z"
   },
   {
    "duration": 134,
    "start_time": "2022-12-16T16:00:30.118Z"
   },
   {
    "duration": 138,
    "start_time": "2022-12-16T16:00:34.162Z"
   },
   {
    "duration": 6,
    "start_time": "2022-12-16T16:00:36.007Z"
   },
   {
    "duration": 123,
    "start_time": "2022-12-16T16:00:51.006Z"
   },
   {
    "duration": 133,
    "start_time": "2022-12-16T16:00:53.583Z"
   },
   {
    "duration": 125,
    "start_time": "2022-12-16T16:00:57.192Z"
   },
   {
    "duration": 130,
    "start_time": "2022-12-16T16:01:03.002Z"
   },
   {
    "duration": 7,
    "start_time": "2022-12-16T16:01:03.488Z"
   },
   {
    "duration": 132,
    "start_time": "2022-12-16T16:01:10.587Z"
   },
   {
    "duration": 6,
    "start_time": "2022-12-16T16:01:11.075Z"
   },
   {
    "duration": 22,
    "start_time": "2022-12-16T16:01:58.662Z"
   },
   {
    "duration": 6,
    "start_time": "2022-12-16T16:01:59.916Z"
   },
   {
    "duration": 68,
    "start_time": "2022-12-16T16:53:27.381Z"
   },
   {
    "duration": 66,
    "start_time": "2022-12-16T16:53:34.470Z"
   },
   {
    "duration": 10,
    "start_time": "2022-12-16T16:53:42.214Z"
   },
   {
    "duration": 10,
    "start_time": "2022-12-16T16:54:24.175Z"
   },
   {
    "duration": 11,
    "start_time": "2022-12-16T16:54:31.513Z"
   },
   {
    "duration": 1135,
    "start_time": "2022-12-16T16:55:47.514Z"
   },
   {
    "duration": 6,
    "start_time": "2022-12-16T16:56:04.855Z"
   },
   {
    "duration": 9,
    "start_time": "2022-12-16T16:56:53.807Z"
   },
   {
    "duration": 7,
    "start_time": "2022-12-16T16:57:10.825Z"
   },
   {
    "duration": 7,
    "start_time": "2022-12-16T16:57:24.280Z"
   },
   {
    "duration": 9,
    "start_time": "2022-12-16T16:58:02.253Z"
   },
   {
    "duration": 8,
    "start_time": "2022-12-16T16:59:27.937Z"
   },
   {
    "duration": 8,
    "start_time": "2022-12-16T17:00:01.240Z"
   },
   {
    "duration": 20,
    "start_time": "2022-12-16T17:00:04.758Z"
   },
   {
    "duration": 5,
    "start_time": "2022-12-16T17:00:05.215Z"
   },
   {
    "duration": 11,
    "start_time": "2022-12-16T17:00:48.599Z"
   },
   {
    "duration": 3,
    "start_time": "2022-12-17T04:09:39.823Z"
   },
   {
    "duration": 3,
    "start_time": "2022-12-17T04:10:38.389Z"
   },
   {
    "duration": 3,
    "start_time": "2022-12-17T04:11:27.551Z"
   },
   {
    "duration": 3,
    "start_time": "2022-12-17T04:11:46.019Z"
   },
   {
    "duration": 3,
    "start_time": "2022-12-17T04:13:38.944Z"
   },
   {
    "duration": 10,
    "start_time": "2022-12-17T05:04:37.672Z"
   },
   {
    "duration": 258,
    "start_time": "2022-12-17T05:04:55.496Z"
   },
   {
    "duration": 321,
    "start_time": "2022-12-17T05:05:11.602Z"
   },
   {
    "duration": 259,
    "start_time": "2022-12-17T05:06:15.032Z"
   },
   {
    "duration": 322,
    "start_time": "2022-12-17T05:06:35.403Z"
   },
   {
    "duration": 17,
    "start_time": "2022-12-17T05:07:55.123Z"
   },
   {
    "duration": 693,
    "start_time": "2022-12-17T05:08:06.099Z"
   },
   {
    "duration": 13,
    "start_time": "2022-12-17T05:33:59.961Z"
   },
   {
    "duration": 11,
    "start_time": "2022-12-17T05:35:00.688Z"
   },
   {
    "duration": 75,
    "start_time": "2022-12-17T05:47:59.310Z"
   },
   {
    "duration": 66,
    "start_time": "2022-12-17T05:48:00.076Z"
   },
   {
    "duration": 7,
    "start_time": "2022-12-17T05:48:07.320Z"
   },
   {
    "duration": 8,
    "start_time": "2022-12-17T05:48:08.414Z"
   },
   {
    "duration": 6,
    "start_time": "2022-12-17T05:48:09.587Z"
   },
   {
    "duration": 63,
    "start_time": "2022-12-17T05:50:30.511Z"
   },
   {
    "duration": 7,
    "start_time": "2022-12-17T05:50:38.409Z"
   },
   {
    "duration": 65,
    "start_time": "2022-12-17T05:50:39.134Z"
   },
   {
    "duration": 6,
    "start_time": "2022-12-17T05:50:39.629Z"
   },
   {
    "duration": 11,
    "start_time": "2022-12-17T05:51:19.246Z"
   },
   {
    "duration": 158,
    "start_time": "2022-12-17T05:51:29.813Z"
   },
   {
    "duration": 145,
    "start_time": "2022-12-17T05:52:28.276Z"
   },
   {
    "duration": 130,
    "start_time": "2022-12-17T05:52:40.084Z"
   },
   {
    "duration": 17,
    "start_time": "2022-12-17T06:29:18.573Z"
   },
   {
    "duration": 132,
    "start_time": "2022-12-17T06:29:44.376Z"
   },
   {
    "duration": 205,
    "start_time": "2022-12-17T06:29:59.185Z"
   },
   {
    "duration": 68,
    "start_time": "2022-12-17T06:31:57.204Z"
   },
   {
    "duration": 19,
    "start_time": "2022-12-17T06:32:42.903Z"
   },
   {
    "duration": 171,
    "start_time": "2022-12-17T06:33:15.183Z"
   },
   {
    "duration": 175,
    "start_time": "2022-12-17T06:33:32.851Z"
   },
   {
    "duration": 164,
    "start_time": "2022-12-17T06:34:16.892Z"
   },
   {
    "duration": 163,
    "start_time": "2022-12-17T06:42:30.218Z"
   },
   {
    "duration": 167,
    "start_time": "2022-12-17T06:43:01.639Z"
   },
   {
    "duration": 176,
    "start_time": "2022-12-17T06:43:40.547Z"
   },
   {
    "duration": 164,
    "start_time": "2022-12-17T06:43:47.356Z"
   },
   {
    "duration": 170,
    "start_time": "2022-12-17T06:44:24.102Z"
   },
   {
    "duration": 41,
    "start_time": "2022-12-17T06:50:44.881Z"
   },
   {
    "duration": 26,
    "start_time": "2022-12-17T06:51:12.163Z"
   },
   {
    "duration": 7,
    "start_time": "2022-12-17T06:52:49.368Z"
   },
   {
    "duration": 65,
    "start_time": "2022-12-17T06:52:49.974Z"
   },
   {
    "duration": 6,
    "start_time": "2022-12-17T06:52:50.441Z"
   },
   {
    "duration": 55,
    "start_time": "2022-12-17T06:52:52.516Z"
   },
   {
    "duration": 6,
    "start_time": "2022-12-17T06:52:52.979Z"
   },
   {
    "duration": 10,
    "start_time": "2022-12-17T06:52:54.077Z"
   },
   {
    "duration": 38,
    "start_time": "2022-12-17T06:52:56.162Z"
   },
   {
    "duration": 40,
    "start_time": "2022-12-17T06:53:07.943Z"
   },
   {
    "duration": 6,
    "start_time": "2022-12-17T06:53:09.220Z"
   },
   {
    "duration": 7,
    "start_time": "2022-12-17T06:53:09.953Z"
   },
   {
    "duration": 3,
    "start_time": "2022-12-17T06:53:11.144Z"
   },
   {
    "duration": 1039,
    "start_time": "2022-12-17T06:53:25.751Z"
   },
   {
    "duration": 3,
    "start_time": "2022-12-17T06:53:26.792Z"
   },
   {
    "duration": 185,
    "start_time": "2022-12-17T06:53:26.796Z"
   },
   {
    "duration": 6,
    "start_time": "2022-12-17T06:53:26.984Z"
   },
   {
    "duration": 21,
    "start_time": "2022-12-17T06:53:26.991Z"
   },
   {
    "duration": 85,
    "start_time": "2022-12-17T06:53:27.014Z"
   },
   {
    "duration": 82,
    "start_time": "2022-12-17T06:53:27.100Z"
   },
   {
    "duration": 55,
    "start_time": "2022-12-17T06:53:27.183Z"
   },
   {
    "duration": 21,
    "start_time": "2022-12-17T06:53:27.239Z"
   },
   {
    "duration": 10,
    "start_time": "2022-12-17T06:53:27.262Z"
   },
   {
    "duration": 105,
    "start_time": "2022-12-17T06:53:27.273Z"
   },
   {
    "duration": 0,
    "start_time": "2022-12-17T06:53:27.380Z"
   },
   {
    "duration": 0,
    "start_time": "2022-12-17T06:53:27.382Z"
   },
   {
    "duration": 0,
    "start_time": "2022-12-17T06:53:27.383Z"
   },
   {
    "duration": 0,
    "start_time": "2022-12-17T06:53:27.384Z"
   },
   {
    "duration": 0,
    "start_time": "2022-12-17T06:53:27.385Z"
   },
   {
    "duration": 0,
    "start_time": "2022-12-17T06:53:27.387Z"
   },
   {
    "duration": 0,
    "start_time": "2022-12-17T06:53:27.388Z"
   },
   {
    "duration": 0,
    "start_time": "2022-12-17T06:53:27.389Z"
   },
   {
    "duration": 0,
    "start_time": "2022-12-17T06:53:27.390Z"
   },
   {
    "duration": 0,
    "start_time": "2022-12-17T06:53:27.392Z"
   },
   {
    "duration": 0,
    "start_time": "2022-12-17T06:53:27.393Z"
   },
   {
    "duration": 0,
    "start_time": "2022-12-17T06:53:27.394Z"
   },
   {
    "duration": 0,
    "start_time": "2022-12-17T06:53:27.396Z"
   },
   {
    "duration": 6,
    "start_time": "2022-12-17T06:53:33.701Z"
   },
   {
    "duration": 3,
    "start_time": "2022-12-17T06:53:33.913Z"
   },
   {
    "duration": 188,
    "start_time": "2022-12-17T06:53:34.139Z"
   },
   {
    "duration": 5,
    "start_time": "2022-12-17T06:53:34.772Z"
   },
   {
    "duration": 17,
    "start_time": "2022-12-17T06:53:35.000Z"
   },
   {
    "duration": 52,
    "start_time": "2022-12-17T06:53:35.466Z"
   },
   {
    "duration": 62,
    "start_time": "2022-12-17T06:53:35.906Z"
   },
   {
    "duration": 46,
    "start_time": "2022-12-17T06:53:36.120Z"
   },
   {
    "duration": 8,
    "start_time": "2022-12-17T06:53:38.039Z"
   },
   {
    "duration": 8,
    "start_time": "2022-12-17T06:53:38.627Z"
   },
   {
    "duration": 11,
    "start_time": "2022-12-17T06:53:38.996Z"
   },
   {
    "duration": 10,
    "start_time": "2022-12-17T06:54:00.251Z"
   },
   {
    "duration": 61,
    "start_time": "2022-12-17T06:54:21.342Z"
   },
   {
    "duration": 5,
    "start_time": "2022-12-17T06:54:22.186Z"
   },
   {
    "duration": 50,
    "start_time": "2022-12-17T06:54:24.919Z"
   },
   {
    "duration": 5,
    "start_time": "2022-12-17T06:54:25.375Z"
   },
   {
    "duration": 12,
    "start_time": "2022-12-17T06:54:28.901Z"
   },
   {
    "duration": 32,
    "start_time": "2022-12-17T06:54:30.445Z"
   },
   {
    "duration": 6,
    "start_time": "2022-12-17T06:54:30.926Z"
   },
   {
    "duration": 7,
    "start_time": "2022-12-17T06:54:32.668Z"
   },
   {
    "duration": 3,
    "start_time": "2022-12-17T06:54:33.457Z"
   },
   {
    "duration": 10,
    "start_time": "2022-12-17T06:54:34.493Z"
   },
   {
    "duration": 10,
    "start_time": "2022-12-17T06:54:34.919Z"
   },
   {
    "duration": 279,
    "start_time": "2022-12-17T06:54:47.559Z"
   },
   {
    "duration": 15,
    "start_time": "2022-12-17T06:54:48.642Z"
   },
   {
    "duration": 321,
    "start_time": "2022-12-17T06:55:07.164Z"
   },
   {
    "duration": 253,
    "start_time": "2022-12-17T06:55:08.133Z"
   },
   {
    "duration": 25,
    "start_time": "2022-12-17T06:55:18.327Z"
   },
   {
    "duration": 174,
    "start_time": "2022-12-17T06:55:19.169Z"
   },
   {
    "duration": 295,
    "start_time": "2022-12-17T06:55:21.163Z"
   },
   {
    "duration": 378,
    "start_time": "2022-12-17T06:59:53.356Z"
   },
   {
    "duration": 6,
    "start_time": "2022-12-17T07:00:31.577Z"
   },
   {
    "duration": 64,
    "start_time": "2022-12-17T07:00:32.146Z"
   },
   {
    "duration": 5,
    "start_time": "2022-12-17T07:00:34.997Z"
   },
   {
    "duration": 6,
    "start_time": "2022-12-17T07:00:41.527Z"
   },
   {
    "duration": 24,
    "start_time": "2022-12-17T07:00:59.753Z"
   },
   {
    "duration": 10,
    "start_time": "2022-12-17T07:02:39.556Z"
   },
   {
    "duration": 5,
    "start_time": "2022-12-17T07:02:41.306Z"
   },
   {
    "duration": 18,
    "start_time": "2022-12-17T07:02:42.058Z"
   },
   {
    "duration": 18,
    "start_time": "2022-12-17T07:02:54.723Z"
   },
   {
    "duration": 160,
    "start_time": "2022-12-17T07:03:01.201Z"
   },
   {
    "duration": 260,
    "start_time": "2022-12-17T07:03:10.108Z"
   },
   {
    "duration": 335,
    "start_time": "2022-12-17T07:03:10.724Z"
   },
   {
    "duration": 28,
    "start_time": "2022-12-17T07:03:11.282Z"
   },
   {
    "duration": 1056,
    "start_time": "2022-12-17T07:05:18.434Z"
   },
   {
    "duration": 4,
    "start_time": "2022-12-17T07:05:19.492Z"
   },
   {
    "duration": 188,
    "start_time": "2022-12-17T07:05:19.498Z"
   },
   {
    "duration": 8,
    "start_time": "2022-12-17T07:05:19.688Z"
   },
   {
    "duration": 28,
    "start_time": "2022-12-17T07:05:19.698Z"
   },
   {
    "duration": 82,
    "start_time": "2022-12-17T07:05:19.728Z"
   },
   {
    "duration": 91,
    "start_time": "2022-12-17T07:05:19.812Z"
   },
   {
    "duration": 67,
    "start_time": "2022-12-17T07:05:19.905Z"
   },
   {
    "duration": 11,
    "start_time": "2022-12-17T07:05:19.974Z"
   },
   {
    "duration": 10,
    "start_time": "2022-12-17T07:05:19.989Z"
   },
   {
    "duration": 80,
    "start_time": "2022-12-17T07:05:20.001Z"
   },
   {
    "duration": 11,
    "start_time": "2022-12-17T07:05:20.082Z"
   },
   {
    "duration": 45,
    "start_time": "2022-12-17T07:05:20.094Z"
   },
   {
    "duration": 64,
    "start_time": "2022-12-17T07:05:20.141Z"
   },
   {
    "duration": 5,
    "start_time": "2022-12-17T07:05:20.207Z"
   },
   {
    "duration": 39,
    "start_time": "2022-12-17T07:05:20.213Z"
   },
   {
    "duration": 54,
    "start_time": "2022-12-17T07:05:20.254Z"
   },
   {
    "duration": 6,
    "start_time": "2022-12-17T07:05:20.310Z"
   },
   {
    "duration": 11,
    "start_time": "2022-12-17T07:05:20.318Z"
   },
   {
    "duration": 9,
    "start_time": "2022-12-17T07:05:20.330Z"
   },
   {
    "duration": 275,
    "start_time": "2022-12-17T07:05:20.352Z"
   },
   {
    "duration": 330,
    "start_time": "2022-12-17T07:05:20.628Z"
   },
   {
    "duration": 27,
    "start_time": "2022-12-17T07:05:20.959Z"
   },
   {
    "duration": 186,
    "start_time": "2022-12-17T07:05:20.988Z"
   },
   {
    "duration": 401,
    "start_time": "2022-12-17T07:05:21.175Z"
   },
   {
    "duration": 15,
    "start_time": "2022-12-17T07:06:07.578Z"
   },
   {
    "duration": 6,
    "start_time": "2022-12-17T07:06:31.938Z"
   },
   {
    "duration": 10,
    "start_time": "2022-12-17T07:07:49.072Z"
   },
   {
    "duration": 67,
    "start_time": "2022-12-17T07:07:49.596Z"
   },
   {
    "duration": 6,
    "start_time": "2022-12-17T07:07:50.085Z"
   },
   {
    "duration": 37,
    "start_time": "2022-12-17T07:07:50.638Z"
   },
   {
    "duration": 54,
    "start_time": "2022-12-17T07:07:52.635Z"
   },
   {
    "duration": 5,
    "start_time": "2022-12-17T07:07:53.108Z"
   },
   {
    "duration": 18,
    "start_time": "2022-12-17T07:07:54.310Z"
   },
   {
    "duration": 49,
    "start_time": "2022-12-17T07:07:56.518Z"
   },
   {
    "duration": 7,
    "start_time": "2022-12-17T07:07:57.129Z"
   },
   {
    "duration": 8,
    "start_time": "2022-12-17T07:07:57.748Z"
   },
   {
    "duration": 3,
    "start_time": "2022-12-17T07:07:58.536Z"
   },
   {
    "duration": 266,
    "start_time": "2022-12-17T07:08:01.306Z"
   },
   {
    "duration": 324,
    "start_time": "2022-12-17T07:08:25.228Z"
   },
   {
    "duration": 334,
    "start_time": "2022-12-17T07:08:25.554Z"
   },
   {
    "duration": 27,
    "start_time": "2022-12-17T07:08:25.890Z"
   },
   {
    "duration": 163,
    "start_time": "2022-12-17T07:08:26.278Z"
   },
   {
    "duration": 33,
    "start_time": "2022-12-17T07:09:04.013Z"
   },
   {
    "duration": 6,
    "start_time": "2022-12-17T07:09:27.028Z"
   },
   {
    "duration": 23,
    "start_time": "2022-12-17T07:10:17.290Z"
   },
   {
    "duration": 6,
    "start_time": "2022-12-17T07:10:17.774Z"
   },
   {
    "duration": 20,
    "start_time": "2022-12-17T07:10:32.987Z"
   },
   {
    "duration": 1174,
    "start_time": "2022-12-17T07:14:52.024Z"
   },
   {
    "duration": 3,
    "start_time": "2022-12-17T07:14:53.200Z"
   },
   {
    "duration": 191,
    "start_time": "2022-12-17T07:14:53.204Z"
   },
   {
    "duration": 6,
    "start_time": "2022-12-17T07:14:53.397Z"
   },
   {
    "duration": 20,
    "start_time": "2022-12-17T07:14:53.405Z"
   },
   {
    "duration": 80,
    "start_time": "2022-12-17T07:14:53.427Z"
   },
   {
    "duration": 90,
    "start_time": "2022-12-17T07:14:53.509Z"
   },
   {
    "duration": 63,
    "start_time": "2022-12-17T07:14:53.601Z"
   },
   {
    "duration": 6,
    "start_time": "2022-12-17T07:14:53.666Z"
   },
   {
    "duration": 7,
    "start_time": "2022-12-17T07:14:53.675Z"
   },
   {
    "duration": 82,
    "start_time": "2022-12-17T07:14:53.684Z"
   },
   {
    "duration": 13,
    "start_time": "2022-12-17T07:14:53.767Z"
   },
   {
    "duration": 32,
    "start_time": "2022-12-17T07:14:53.781Z"
   },
   {
    "duration": 65,
    "start_time": "2022-12-17T07:14:53.815Z"
   },
   {
    "duration": 5,
    "start_time": "2022-12-17T07:14:53.882Z"
   },
   {
    "duration": 12,
    "start_time": "2022-12-17T07:14:53.889Z"
   },
   {
    "duration": 140,
    "start_time": "2022-12-17T07:14:53.903Z"
   },
   {
    "duration": 0,
    "start_time": "2022-12-17T07:14:54.045Z"
   },
   {
    "duration": 0,
    "start_time": "2022-12-17T07:14:54.052Z"
   },
   {
    "duration": 0,
    "start_time": "2022-12-17T07:14:54.053Z"
   },
   {
    "duration": 0,
    "start_time": "2022-12-17T07:14:54.054Z"
   },
   {
    "duration": 0,
    "start_time": "2022-12-17T07:14:54.055Z"
   },
   {
    "duration": 0,
    "start_time": "2022-12-17T07:14:54.056Z"
   },
   {
    "duration": 0,
    "start_time": "2022-12-17T07:14:54.057Z"
   },
   {
    "duration": 0,
    "start_time": "2022-12-17T07:14:54.058Z"
   },
   {
    "duration": 31,
    "start_time": "2022-12-17T07:15:52.298Z"
   },
   {
    "duration": 6,
    "start_time": "2022-12-17T07:15:53.119Z"
   },
   {
    "duration": 6,
    "start_time": "2022-12-17T07:15:53.821Z"
   },
   {
    "duration": 3,
    "start_time": "2022-12-17T07:15:58.001Z"
   },
   {
    "duration": 258,
    "start_time": "2022-12-17T07:15:59.040Z"
   },
   {
    "duration": 308,
    "start_time": "2022-12-17T07:15:59.565Z"
   },
   {
    "duration": 25,
    "start_time": "2022-12-17T07:16:00.113Z"
   },
   {
    "duration": 174,
    "start_time": "2022-12-17T07:16:00.669Z"
   },
   {
    "duration": 26,
    "start_time": "2022-12-17T07:16:01.953Z"
   },
   {
    "duration": 1227,
    "start_time": "2022-12-17T08:33:01.015Z"
   },
   {
    "duration": 9,
    "start_time": "2022-12-17T08:35:27.228Z"
   },
   {
    "duration": 25,
    "start_time": "2022-12-17T08:35:35.886Z"
   },
   {
    "duration": 19,
    "start_time": "2022-12-17T08:35:36.319Z"
   },
   {
    "duration": 20,
    "start_time": "2022-12-17T08:46:58.135Z"
   },
   {
    "duration": 70,
    "start_time": "2022-12-17T08:51:47.691Z"
   },
   {
    "duration": 34,
    "start_time": "2022-12-17T08:54:02.401Z"
   },
   {
    "duration": 28,
    "start_time": "2022-12-17T08:54:41.247Z"
   },
   {
    "duration": 1076,
    "start_time": "2022-12-17T09:10:54.188Z"
   },
   {
    "duration": 5,
    "start_time": "2022-12-17T09:11:32.355Z"
   },
   {
    "duration": 3,
    "start_time": "2022-12-17T09:11:56.578Z"
   },
   {
    "duration": 8,
    "start_time": "2022-12-17T09:12:11.131Z"
   },
   {
    "duration": 1162,
    "start_time": "2022-12-17T09:12:28.839Z"
   },
   {
    "duration": 3,
    "start_time": "2022-12-17T09:13:35.268Z"
   },
   {
    "duration": 3,
    "start_time": "2022-12-17T09:13:44.387Z"
   },
   {
    "duration": 35,
    "start_time": "2022-12-17T09:15:13.578Z"
   },
   {
    "duration": 8,
    "start_time": "2022-12-17T09:16:00.679Z"
   },
   {
    "duration": 30,
    "start_time": "2022-12-17T09:16:29.640Z"
   },
   {
    "duration": 29,
    "start_time": "2022-12-17T09:16:39.215Z"
   },
   {
    "duration": 10,
    "start_time": "2022-12-17T09:16:40.926Z"
   },
   {
    "duration": 31,
    "start_time": "2022-12-17T09:16:49.795Z"
   },
   {
    "duration": 10,
    "start_time": "2022-12-17T09:16:51.320Z"
   },
   {
    "duration": 3,
    "start_time": "2022-12-17T09:17:00.007Z"
   },
   {
    "duration": 5,
    "start_time": "2022-12-17T09:17:09.190Z"
   },
   {
    "duration": 6,
    "start_time": "2022-12-17T09:21:23.498Z"
   },
   {
    "duration": 7,
    "start_time": "2022-12-17T09:21:42.425Z"
   },
   {
    "duration": 8,
    "start_time": "2022-12-17T09:22:05.963Z"
   },
   {
    "duration": 8,
    "start_time": "2022-12-17T09:22:36.067Z"
   },
   {
    "duration": 5,
    "start_time": "2022-12-17T09:22:52.039Z"
   },
   {
    "duration": 5,
    "start_time": "2022-12-17T09:23:00.394Z"
   },
   {
    "duration": 5,
    "start_time": "2022-12-17T09:23:16.503Z"
   },
   {
    "duration": 5,
    "start_time": "2022-12-17T09:27:27.763Z"
   },
   {
    "duration": 4,
    "start_time": "2022-12-17T09:27:59.193Z"
   },
   {
    "duration": 5,
    "start_time": "2022-12-17T09:28:24.222Z"
   },
   {
    "duration": 33,
    "start_time": "2022-12-17T09:30:06.870Z"
   },
   {
    "duration": 5,
    "start_time": "2022-12-17T09:30:07.509Z"
   },
   {
    "duration": 30,
    "start_time": "2022-12-17T09:30:13.312Z"
   },
   {
    "duration": 4,
    "start_time": "2022-12-17T09:30:13.868Z"
   },
   {
    "duration": 1064,
    "start_time": "2022-12-17T09:30:36.124Z"
   },
   {
    "duration": 4,
    "start_time": "2022-12-17T09:30:37.190Z"
   },
   {
    "duration": 181,
    "start_time": "2022-12-17T09:30:37.195Z"
   },
   {
    "duration": 6,
    "start_time": "2022-12-17T09:30:37.378Z"
   },
   {
    "duration": 22,
    "start_time": "2022-12-17T09:30:37.386Z"
   },
   {
    "duration": 80,
    "start_time": "2022-12-17T09:30:37.410Z"
   },
   {
    "duration": 85,
    "start_time": "2022-12-17T09:30:37.492Z"
   },
   {
    "duration": 57,
    "start_time": "2022-12-17T09:30:37.579Z"
   },
   {
    "duration": 21,
    "start_time": "2022-12-17T09:30:37.638Z"
   },
   {
    "duration": 9,
    "start_time": "2022-12-17T09:30:37.661Z"
   },
   {
    "duration": 87,
    "start_time": "2022-12-17T09:30:37.672Z"
   },
   {
    "duration": 7,
    "start_time": "2022-12-17T09:30:37.761Z"
   },
   {
    "duration": 28,
    "start_time": "2022-12-17T09:30:37.770Z"
   },
   {
    "duration": 80,
    "start_time": "2022-12-17T09:30:37.802Z"
   },
   {
    "duration": 4,
    "start_time": "2022-12-17T09:30:37.883Z"
   },
   {
    "duration": 15,
    "start_time": "2022-12-17T09:30:37.889Z"
   },
   {
    "duration": 61,
    "start_time": "2022-12-17T09:30:37.906Z"
   },
   {
    "duration": 6,
    "start_time": "2022-12-17T09:30:37.969Z"
   },
   {
    "duration": 10,
    "start_time": "2022-12-17T09:30:37.977Z"
   },
   {
    "duration": 3,
    "start_time": "2022-12-17T09:30:37.989Z"
   },
   {
    "duration": 296,
    "start_time": "2022-12-17T09:30:37.994Z"
   },
   {
    "duration": 334,
    "start_time": "2022-12-17T09:30:38.292Z"
   },
   {
    "duration": 34,
    "start_time": "2022-12-17T09:30:38.628Z"
   },
   {
    "duration": 194,
    "start_time": "2022-12-17T09:30:38.664Z"
   },
   {
    "duration": 27,
    "start_time": "2022-12-17T09:30:38.859Z"
   },
   {
    "duration": 21,
    "start_time": "2022-12-17T09:30:38.888Z"
   },
   {
    "duration": 61,
    "start_time": "2022-12-17T09:30:38.912Z"
   },
   {
    "duration": 35,
    "start_time": "2022-12-17T09:30:38.975Z"
   },
   {
    "duration": 6,
    "start_time": "2022-12-17T09:30:39.012Z"
   },
   {
    "duration": 31,
    "start_time": "2022-12-17T09:30:41.783Z"
   },
   {
    "duration": 5,
    "start_time": "2022-12-17T09:30:42.413Z"
   },
   {
    "duration": 31,
    "start_time": "2022-12-17T09:30:48.682Z"
   },
   {
    "duration": 4,
    "start_time": "2022-12-17T09:30:49.217Z"
   },
   {
    "duration": 5,
    "start_time": "2022-12-17T09:31:40.516Z"
   },
   {
    "duration": 91,
    "start_time": "2022-12-17T09:36:22.092Z"
   },
   {
    "duration": 31,
    "start_time": "2022-12-17T09:36:44.429Z"
   },
   {
    "duration": 5,
    "start_time": "2022-12-17T09:36:45.015Z"
   },
   {
    "duration": 133,
    "start_time": "2022-12-17T09:37:21.249Z"
   },
   {
    "duration": 4,
    "start_time": "2022-12-17T09:37:26.165Z"
   },
   {
    "duration": 4,
    "start_time": "2022-12-17T09:37:44.867Z"
   },
   {
    "duration": 4,
    "start_time": "2022-12-17T09:38:07.507Z"
   },
   {
    "duration": 125,
    "start_time": "2022-12-17T09:38:14.323Z"
   },
   {
    "duration": 4,
    "start_time": "2022-12-17T09:38:14.853Z"
   },
   {
    "duration": 4,
    "start_time": "2022-12-17T09:39:37.633Z"
   },
   {
    "duration": 13,
    "start_time": "2022-12-17T10:28:27.259Z"
   },
   {
    "duration": 14,
    "start_time": "2022-12-17T10:29:19.156Z"
   },
   {
    "duration": 4,
    "start_time": "2022-12-17T10:29:19.679Z"
   },
   {
    "duration": 3,
    "start_time": "2022-12-17T10:29:20.478Z"
   },
   {
    "duration": 4,
    "start_time": "2022-12-17T10:29:21.127Z"
   },
   {
    "duration": 19,
    "start_time": "2022-12-17T10:32:25.709Z"
   },
   {
    "duration": 19,
    "start_time": "2022-12-17T10:33:18.050Z"
   },
   {
    "duration": 10,
    "start_time": "2022-12-17T10:35:05.850Z"
   },
   {
    "duration": 3,
    "start_time": "2022-12-17T10:35:15.926Z"
   },
   {
    "duration": 3,
    "start_time": "2022-12-17T10:35:16.132Z"
   },
   {
    "duration": 170,
    "start_time": "2022-12-17T10:35:16.338Z"
   },
   {
    "duration": 5,
    "start_time": "2022-12-17T10:35:16.950Z"
   },
   {
    "duration": 17,
    "start_time": "2022-12-17T10:35:17.160Z"
   },
   {
    "duration": 48,
    "start_time": "2022-12-17T10:35:17.698Z"
   },
   {
    "duration": 51,
    "start_time": "2022-12-17T10:35:18.197Z"
   },
   {
    "duration": 48,
    "start_time": "2022-12-17T10:35:18.426Z"
   },
   {
    "duration": 8,
    "start_time": "2022-12-17T10:35:19.511Z"
   },
   {
    "duration": 7,
    "start_time": "2022-12-17T10:35:19.983Z"
   },
   {
    "duration": 60,
    "start_time": "2022-12-17T10:35:20.217Z"
   },
   {
    "duration": 5,
    "start_time": "2022-12-17T10:35:20.431Z"
   },
   {
    "duration": 24,
    "start_time": "2022-12-17T10:35:20.770Z"
   },
   {
    "duration": 51,
    "start_time": "2022-12-17T10:35:22.539Z"
   },
   {
    "duration": 3,
    "start_time": "2022-12-17T10:35:22.757Z"
   },
   {
    "duration": 10,
    "start_time": "2022-12-17T10:35:23.218Z"
   },
   {
    "duration": 32,
    "start_time": "2022-12-17T10:35:23.632Z"
   },
   {
    "duration": 5,
    "start_time": "2022-12-17T10:35:24.089Z"
   },
   {
    "duration": 8,
    "start_time": "2022-12-17T10:35:24.538Z"
   },
   {
    "duration": 3,
    "start_time": "2022-12-17T10:35:25.394Z"
   },
   {
    "duration": 262,
    "start_time": "2022-12-17T10:35:26.032Z"
   },
   {
    "duration": 343,
    "start_time": "2022-12-17T10:35:26.296Z"
   },
   {
    "duration": 26,
    "start_time": "2022-12-17T10:35:26.641Z"
   },
   {
    "duration": 179,
    "start_time": "2022-12-17T10:35:26.669Z"
   },
   {
    "duration": 26,
    "start_time": "2022-12-17T10:35:27.102Z"
   },
   {
    "duration": 13,
    "start_time": "2022-12-17T10:35:27.541Z"
   },
   {
    "duration": 11,
    "start_time": "2022-12-17T10:35:27.767Z"
   },
   {
    "duration": 29,
    "start_time": "2022-12-17T10:35:28.458Z"
   },
   {
    "duration": 13,
    "start_time": "2022-12-17T10:35:42.238Z"
   },
   {
    "duration": 11,
    "start_time": "2022-12-17T10:35:42.592Z"
   },
   {
    "duration": 4,
    "start_time": "2022-12-17T10:36:03.770Z"
   },
   {
    "duration": 29,
    "start_time": "2022-12-17T10:36:06.052Z"
   },
   {
    "duration": 4,
    "start_time": "2022-12-17T10:38:10.859Z"
   },
   {
    "duration": 28,
    "start_time": "2022-12-17T10:38:11.388Z"
   },
   {
    "duration": 31,
    "start_time": "2022-12-17T10:38:12.877Z"
   },
   {
    "duration": 5,
    "start_time": "2022-12-17T10:38:13.306Z"
   },
   {
    "duration": 126,
    "start_time": "2022-12-17T10:38:14.324Z"
   },
   {
    "duration": 4,
    "start_time": "2022-12-17T10:38:14.837Z"
   },
   {
    "duration": 21,
    "start_time": "2022-12-17T10:49:40.677Z"
   },
   {
    "duration": 30,
    "start_time": "2022-12-17T10:50:18.166Z"
   },
   {
    "duration": 46,
    "start_time": "2022-12-17T10:50:36.948Z"
   },
   {
    "duration": 6,
    "start_time": "2022-12-17T10:51:26.609Z"
   },
   {
    "duration": 49,
    "start_time": "2022-12-17T10:53:05.288Z"
   },
   {
    "duration": 47,
    "start_time": "2022-12-17T10:53:08.487Z"
   },
   {
    "duration": 5,
    "start_time": "2022-12-17T10:53:08.844Z"
   },
   {
    "duration": 56,
    "start_time": "2022-12-17T10:55:52.689Z"
   },
   {
    "duration": 5,
    "start_time": "2022-12-17T10:55:53.504Z"
   },
   {
    "duration": 48,
    "start_time": "2022-12-17T10:55:56.555Z"
   },
   {
    "duration": 5,
    "start_time": "2022-12-17T10:55:57.039Z"
   },
   {
    "duration": 5,
    "start_time": "2022-12-17T10:56:18.261Z"
   },
   {
    "duration": 49,
    "start_time": "2022-12-17T10:56:36.480Z"
   },
   {
    "duration": 6,
    "start_time": "2022-12-17T10:56:37.115Z"
   },
   {
    "duration": 75,
    "start_time": "2022-12-17T10:59:56.618Z"
   },
   {
    "duration": 5,
    "start_time": "2022-12-17T11:00:22.545Z"
   },
   {
    "duration": 6,
    "start_time": "2022-12-17T11:00:35.259Z"
   },
   {
    "duration": 2,
    "start_time": "2022-12-17T11:11:49.192Z"
   },
   {
    "duration": 287,
    "start_time": "2022-12-17T11:15:38.011Z"
   },
   {
    "duration": 3,
    "start_time": "2022-12-17T11:17:04.045Z"
   },
   {
    "duration": 287,
    "start_time": "2022-12-17T11:17:04.656Z"
   },
   {
    "duration": 310,
    "start_time": "2022-12-17T11:17:33.629Z"
   },
   {
    "duration": 4,
    "start_time": "2022-12-17T11:27:31.831Z"
   },
   {
    "duration": 6,
    "start_time": "2022-12-17T11:27:33.704Z"
   },
   {
    "duration": 52,
    "start_time": "2022-12-17T11:29:09.545Z"
   },
   {
    "duration": 6,
    "start_time": "2022-12-17T11:29:10.162Z"
   },
   {
    "duration": 1150,
    "start_time": "2022-12-17T11:29:12.312Z"
   },
   {
    "duration": 0,
    "start_time": "2022-12-17T11:29:13.463Z"
   },
   {
    "duration": 1103,
    "start_time": "2022-12-17T11:29:25.020Z"
   },
   {
    "duration": 3,
    "start_time": "2022-12-17T11:29:28.577Z"
   },
   {
    "duration": 48,
    "start_time": "2022-12-17T11:29:58.422Z"
   },
   {
    "duration": 6,
    "start_time": "2022-12-17T11:29:58.945Z"
   },
   {
    "duration": 4,
    "start_time": "2022-12-17T11:30:00.730Z"
   },
   {
    "duration": 3,
    "start_time": "2022-12-17T11:30:01.510Z"
   },
   {
    "duration": 5,
    "start_time": "2022-12-17T11:30:02.113Z"
   },
   {
    "duration": 4,
    "start_time": "2022-12-17T11:30:41.742Z"
   },
   {
    "duration": 6,
    "start_time": "2022-12-17T11:30:44.773Z"
   },
   {
    "duration": 4,
    "start_time": "2022-12-17T11:48:25.917Z"
   },
   {
    "duration": 6,
    "start_time": "2022-12-17T11:48:26.613Z"
   },
   {
    "duration": 3,
    "start_time": "2022-12-17T11:55:06.813Z"
   },
   {
    "duration": 4,
    "start_time": "2022-12-17T11:55:07.319Z"
   },
   {
    "duration": 6,
    "start_time": "2022-12-17T11:55:07.881Z"
   },
   {
    "duration": 7,
    "start_time": "2022-12-17T11:59:51.436Z"
   },
   {
    "duration": 4,
    "start_time": "2022-12-17T11:59:51.931Z"
   },
   {
    "duration": 351,
    "start_time": "2022-12-17T11:59:52.621Z"
   },
   {
    "duration": 272,
    "start_time": "2022-12-17T11:59:52.974Z"
   },
   {
    "duration": 20,
    "start_time": "2022-12-17T11:59:53.248Z"
   },
   {
    "duration": 170,
    "start_time": "2022-12-17T11:59:53.315Z"
   },
   {
    "duration": 19,
    "start_time": "2022-12-17T11:59:53.882Z"
   },
   {
    "duration": 14,
    "start_time": "2022-12-17T11:59:54.402Z"
   },
   {
    "duration": 4,
    "start_time": "2022-12-17T11:59:55.042Z"
   },
   {
    "duration": 29,
    "start_time": "2022-12-17T11:59:55.304Z"
   },
   {
    "duration": 50,
    "start_time": "2022-12-17T11:59:55.971Z"
   },
   {
    "duration": 6,
    "start_time": "2022-12-17T11:59:56.207Z"
   },
   {
    "duration": 5,
    "start_time": "2022-12-17T11:59:56.932Z"
   },
   {
    "duration": 5,
    "start_time": "2022-12-17T11:59:57.409Z"
   },
   {
    "duration": 6,
    "start_time": "2022-12-17T11:59:57.702Z"
   },
   {
    "duration": 9,
    "start_time": "2022-12-17T12:21:16.123Z"
   },
   {
    "duration": 28,
    "start_time": "2022-12-17T12:21:19.268Z"
   },
   {
    "duration": 4,
    "start_time": "2022-12-17T12:21:19.900Z"
   },
   {
    "duration": 4,
    "start_time": "2022-12-17T12:22:01.614Z"
   },
   {
    "duration": 11,
    "start_time": "2022-12-17T12:24:10.570Z"
   },
   {
    "duration": 5,
    "start_time": "2022-12-17T12:25:14.856Z"
   },
   {
    "duration": 4,
    "start_time": "2022-12-17T12:27:58.476Z"
   },
   {
    "duration": 6,
    "start_time": "2022-12-17T12:48:44.305Z"
   },
   {
    "duration": 98,
    "start_time": "2022-12-17T12:50:11.235Z"
   },
   {
    "duration": 10,
    "start_time": "2022-12-17T12:50:22.532Z"
   },
   {
    "duration": 11,
    "start_time": "2022-12-17T12:50:58.027Z"
   },
   {
    "duration": 10,
    "start_time": "2022-12-17T12:51:36.806Z"
   },
   {
    "duration": 10,
    "start_time": "2022-12-17T12:51:37.268Z"
   },
   {
    "duration": 9,
    "start_time": "2022-12-17T12:52:49.946Z"
   },
   {
    "duration": 2,
    "start_time": "2022-12-17T12:53:42.082Z"
   },
   {
    "duration": 10,
    "start_time": "2022-12-17T12:53:42.667Z"
   },
   {
    "duration": 10,
    "start_time": "2022-12-17T12:53:43.201Z"
   },
   {
    "duration": 10,
    "start_time": "2022-12-17T12:53:43.630Z"
   },
   {
    "duration": 4,
    "start_time": "2022-12-17T12:53:44.061Z"
   },
   {
    "duration": 4,
    "start_time": "2022-12-17T12:54:19.998Z"
   },
   {
    "duration": 4,
    "start_time": "2022-12-17T12:54:20.632Z"
   },
   {
    "duration": 5,
    "start_time": "2022-12-17T12:54:21.244Z"
   },
   {
    "duration": 4,
    "start_time": "2022-12-17T12:55:41.836Z"
   },
   {
    "duration": 3,
    "start_time": "2022-12-17T12:55:42.972Z"
   },
   {
    "duration": 3,
    "start_time": "2022-12-17T12:55:49.701Z"
   },
   {
    "duration": 10,
    "start_time": "2022-12-17T12:55:50.099Z"
   },
   {
    "duration": 9,
    "start_time": "2022-12-17T12:55:50.314Z"
   },
   {
    "duration": 10,
    "start_time": "2022-12-17T12:55:50.509Z"
   },
   {
    "duration": 4,
    "start_time": "2022-12-17T12:55:50.729Z"
   },
   {
    "duration": 5,
    "start_time": "2022-12-17T12:55:50.947Z"
   },
   {
    "duration": 4,
    "start_time": "2022-12-17T12:55:51.361Z"
   },
   {
    "duration": 5,
    "start_time": "2022-12-17T12:56:09.359Z"
   },
   {
    "duration": 4,
    "start_time": "2022-12-17T12:56:34.502Z"
   },
   {
    "duration": 4,
    "start_time": "2022-12-17T12:56:53.399Z"
   },
   {
    "duration": 4,
    "start_time": "2022-12-17T12:56:54.132Z"
   },
   {
    "duration": 4,
    "start_time": "2022-12-17T12:56:54.740Z"
   },
   {
    "duration": 4,
    "start_time": "2022-12-17T13:02:20.965Z"
   },
   {
    "duration": 8,
    "start_time": "2022-12-17T13:03:35.619Z"
   },
   {
    "duration": 24,
    "start_time": "2022-12-17T13:03:53.434Z"
   },
   {
    "duration": 3,
    "start_time": "2022-12-17T13:04:19.139Z"
   },
   {
    "duration": 10,
    "start_time": "2022-12-17T13:04:19.704Z"
   },
   {
    "duration": 10,
    "start_time": "2022-12-17T13:04:20.305Z"
   },
   {
    "duration": 11,
    "start_time": "2022-12-17T13:04:20.757Z"
   },
   {
    "duration": 18,
    "start_time": "2022-12-17T13:04:21.404Z"
   },
   {
    "duration": 19,
    "start_time": "2022-12-17T13:05:16.068Z"
   },
   {
    "duration": 18,
    "start_time": "2022-12-17T13:05:16.927Z"
   },
   {
    "duration": 19,
    "start_time": "2022-12-17T13:05:17.701Z"
   },
   {
    "duration": 4,
    "start_time": "2022-12-17T13:06:12.416Z"
   },
   {
    "duration": 25,
    "start_time": "2022-12-17T13:06:12.902Z"
   },
   {
    "duration": 19,
    "start_time": "2022-12-17T13:06:13.234Z"
   },
   {
    "duration": 18,
    "start_time": "2022-12-17T13:06:13.710Z"
   },
   {
    "duration": 3,
    "start_time": "2022-12-17T13:06:31.598Z"
   },
   {
    "duration": 18,
    "start_time": "2022-12-17T13:06:32.032Z"
   },
   {
    "duration": 22,
    "start_time": "2022-12-17T13:06:32.580Z"
   },
   {
    "duration": 19,
    "start_time": "2022-12-17T13:06:33.067Z"
   },
   {
    "duration": 3,
    "start_time": "2022-12-17T13:08:15.387Z"
   },
   {
    "duration": 19,
    "start_time": "2022-12-17T13:08:16.108Z"
   },
   {
    "duration": 3,
    "start_time": "2022-12-17T13:08:26.521Z"
   },
   {
    "duration": 18,
    "start_time": "2022-12-17T13:08:27.016Z"
   },
   {
    "duration": 18,
    "start_time": "2022-12-17T13:31:20.278Z"
   },
   {
    "duration": 19,
    "start_time": "2022-12-17T13:31:20.823Z"
   },
   {
    "duration": 6,
    "start_time": "2022-12-17T14:43:46.687Z"
   },
   {
    "duration": 72,
    "start_time": "2022-12-17T14:44:04.606Z"
   },
   {
    "duration": 74,
    "start_time": "2022-12-17T14:44:27.719Z"
   },
   {
    "duration": 5,
    "start_time": "2022-12-17T14:44:38.311Z"
   },
   {
    "duration": 4,
    "start_time": "2022-12-17T14:49:16.993Z"
   },
   {
    "duration": 70,
    "start_time": "2022-12-17T17:01:21.834Z"
   },
   {
    "duration": 6,
    "start_time": "2022-12-17T17:01:41.971Z"
   },
   {
    "duration": 92,
    "start_time": "2022-12-18T08:52:25.258Z"
   },
   {
    "duration": 505,
    "start_time": "2022-12-18T08:54:23.996Z"
   },
   {
    "duration": 39,
    "start_time": "2022-12-18T08:54:57.278Z"
   },
   {
    "duration": 63,
    "start_time": "2022-12-18T09:02:25.102Z"
   },
   {
    "duration": 3,
    "start_time": "2022-12-18T09:02:25.611Z"
   },
   {
    "duration": 2,
    "start_time": "2022-12-18T09:02:26.323Z"
   },
   {
    "duration": 29,
    "start_time": "2022-12-18T09:03:30.706Z"
   },
   {
    "duration": 55,
    "start_time": "2022-12-18T09:05:06.599Z"
   },
   {
    "duration": 2,
    "start_time": "2022-12-18T09:05:07.069Z"
   },
   {
    "duration": 7,
    "start_time": "2022-12-18T09:05:08.159Z"
   },
   {
    "duration": 25,
    "start_time": "2022-12-18T09:05:18.462Z"
   },
   {
    "duration": 23,
    "start_time": "2022-12-18T09:05:24.355Z"
   },
   {
    "duration": 8,
    "start_time": "2022-12-18T09:05:25.402Z"
   },
   {
    "duration": 13,
    "start_time": "2022-12-18T09:05:26.762Z"
   },
   {
    "duration": 3,
    "start_time": "2022-12-18T09:05:29.793Z"
   },
   {
    "duration": 27,
    "start_time": "2022-12-18T09:05:35.595Z"
   },
   {
    "duration": 5,
    "start_time": "2022-12-18T09:05:43.256Z"
   },
   {
    "duration": 3,
    "start_time": "2022-12-18T09:06:07.450Z"
   },
   {
    "duration": 4,
    "start_time": "2022-12-18T09:06:07.943Z"
   },
   {
    "duration": 6,
    "start_time": "2022-12-18T09:06:08.621Z"
   },
   {
    "duration": 4,
    "start_time": "2022-12-18T09:06:36.180Z"
   },
   {
    "duration": 19,
    "start_time": "2022-12-18T09:06:36.658Z"
   },
   {
    "duration": 4,
    "start_time": "2022-12-18T12:39:23.524Z"
   },
   {
    "duration": 4,
    "start_time": "2022-12-18T12:39:28.709Z"
   },
   {
    "duration": 41,
    "start_time": "2022-12-18T12:40:55.109Z"
   },
   {
    "duration": 46,
    "start_time": "2022-12-18T12:43:47.579Z"
   },
   {
    "duration": 16,
    "start_time": "2022-12-18T12:44:30.891Z"
   },
   {
    "duration": 19,
    "start_time": "2022-12-18T12:44:45.946Z"
   },
   {
    "duration": 48,
    "start_time": "2022-12-18T12:44:52.846Z"
   },
   {
    "duration": 18,
    "start_time": "2022-12-18T12:45:03.949Z"
   },
   {
    "duration": 41,
    "start_time": "2022-12-18T12:45:23.113Z"
   },
   {
    "duration": 80,
    "start_time": "2022-12-18T12:46:28.626Z"
   },
   {
    "duration": 42,
    "start_time": "2022-12-18T12:46:46.755Z"
   },
   {
    "duration": 40,
    "start_time": "2022-12-18T12:47:43.167Z"
   },
   {
    "duration": 43,
    "start_time": "2022-12-18T12:48:26.579Z"
   },
   {
    "duration": 42,
    "start_time": "2022-12-18T12:51:50.126Z"
   },
   {
    "duration": 46,
    "start_time": "2022-12-18T13:50:27.875Z"
   },
   {
    "duration": 10,
    "start_time": "2022-12-18T14:03:19.262Z"
   },
   {
    "duration": 3,
    "start_time": "2022-12-18T14:03:41.038Z"
   },
   {
    "duration": 79,
    "start_time": "2022-12-18T14:04:11.672Z"
   },
   {
    "duration": 10,
    "start_time": "2022-12-18T14:04:26.672Z"
   },
   {
    "duration": 10,
    "start_time": "2022-12-18T14:04:33.935Z"
   },
   {
    "duration": 11,
    "start_time": "2022-12-18T14:04:57.550Z"
   },
   {
    "duration": 3,
    "start_time": "2022-12-18T14:05:21.472Z"
   },
   {
    "duration": 3,
    "start_time": "2022-12-18T14:06:44.104Z"
   },
   {
    "duration": 3,
    "start_time": "2022-12-18T14:07:26.729Z"
   },
   {
    "duration": 4,
    "start_time": "2022-12-18T14:12:33.896Z"
   },
   {
    "duration": 47,
    "start_time": "2022-12-18T14:25:12.894Z"
   },
   {
    "duration": 53,
    "start_time": "2022-12-18T14:25:40.194Z"
   },
   {
    "duration": 44,
    "start_time": "2022-12-18T14:26:08.148Z"
   },
   {
    "duration": 123,
    "start_time": "2022-12-18T14:26:19.792Z"
   },
   {
    "duration": 43,
    "start_time": "2022-12-18T14:26:31.504Z"
   },
   {
    "duration": 3,
    "start_time": "2022-12-18T14:28:06.991Z"
   },
   {
    "duration": 3,
    "start_time": "2022-12-18T14:38:50.759Z"
   },
   {
    "duration": 1280,
    "start_time": "2022-12-18T14:40:44.188Z"
   },
   {
    "duration": 0,
    "start_time": "2022-12-18T14:40:45.470Z"
   },
   {
    "duration": 61,
    "start_time": "2022-12-18T14:40:54.562Z"
   },
   {
    "duration": 6,
    "start_time": "2022-12-18T14:40:55.195Z"
   },
   {
    "duration": 59,
    "start_time": "2022-12-18T14:48:36.930Z"
   },
   {
    "duration": 55,
    "start_time": "2022-12-18T14:49:28.533Z"
   },
   {
    "duration": 16,
    "start_time": "2022-12-18T15:08:06.649Z"
   },
   {
    "duration": 4,
    "start_time": "2022-12-18T15:08:37.134Z"
   },
   {
    "duration": 12,
    "start_time": "2022-12-18T15:10:36.332Z"
   },
   {
    "duration": 4,
    "start_time": "2022-12-18T15:13:54.180Z"
   },
   {
    "duration": 5,
    "start_time": "2022-12-18T15:13:54.592Z"
   },
   {
    "duration": 7,
    "start_time": "2022-12-18T15:13:55.042Z"
   },
   {
    "duration": 11,
    "start_time": "2022-12-18T15:13:56.567Z"
   },
   {
    "duration": 9,
    "start_time": "2022-12-18T15:16:18.316Z"
   },
   {
    "duration": 28,
    "start_time": "2022-12-18T15:19:41.005Z"
   },
   {
    "duration": 4,
    "start_time": "2022-12-18T15:19:41.510Z"
   },
   {
    "duration": 4,
    "start_time": "2022-12-18T15:19:59.291Z"
   },
   {
    "duration": 9,
    "start_time": "2022-12-18T15:21:52.714Z"
   },
   {
    "duration": 15,
    "start_time": "2022-12-18T15:21:53.730Z"
   },
   {
    "duration": 5,
    "start_time": "2022-12-18T15:21:54.574Z"
   },
   {
    "duration": 29,
    "start_time": "2022-12-18T15:21:55.489Z"
   },
   {
    "duration": 4,
    "start_time": "2022-12-18T15:21:55.934Z"
   },
   {
    "duration": 75,
    "start_time": "2022-12-18T15:21:57.472Z"
   },
   {
    "duration": 6,
    "start_time": "2022-12-18T15:21:57.731Z"
   },
   {
    "duration": 12,
    "start_time": "2022-12-18T15:22:17.158Z"
   },
   {
    "duration": 7,
    "start_time": "2022-12-18T15:22:17.615Z"
   },
   {
    "duration": 6,
    "start_time": "2022-12-18T15:22:28.044Z"
   },
   {
    "duration": 74,
    "start_time": "2022-12-18T15:22:42.224Z"
   },
   {
    "duration": 7,
    "start_time": "2022-12-18T15:22:42.651Z"
   },
   {
    "duration": 6,
    "start_time": "2022-12-18T15:22:44.512Z"
   },
   {
    "duration": 11,
    "start_time": "2022-12-18T15:22:45.097Z"
   },
   {
    "duration": 8,
    "start_time": "2022-12-18T15:22:46.699Z"
   },
   {
    "duration": 13,
    "start_time": "2022-12-18T15:22:48.778Z"
   },
   {
    "duration": 3,
    "start_time": "2022-12-18T15:22:50.234Z"
   },
   {
    "duration": 5,
    "start_time": "2022-12-18T15:23:53.159Z"
   },
   {
    "duration": 7,
    "start_time": "2022-12-18T15:23:53.682Z"
   },
   {
    "duration": 3,
    "start_time": "2022-12-18T15:59:36.472Z"
   },
   {
    "duration": 21,
    "start_time": "2022-12-18T15:59:36.969Z"
   },
   {
    "duration": 20,
    "start_time": "2022-12-18T15:59:37.513Z"
   },
   {
    "duration": 20,
    "start_time": "2022-12-18T15:59:37.816Z"
   },
   {
    "duration": 73,
    "start_time": "2022-12-18T15:59:42.690Z"
   },
   {
    "duration": 7,
    "start_time": "2022-12-18T15:59:43.165Z"
   },
   {
    "duration": 5,
    "start_time": "2022-12-18T16:01:54.961Z"
   },
   {
    "duration": 32,
    "start_time": "2022-12-18T16:09:19.594Z"
   },
   {
    "duration": 30,
    "start_time": "2022-12-18T16:09:23.291Z"
   },
   {
    "duration": 18,
    "start_time": "2022-12-18T16:11:50.673Z"
   },
   {
    "duration": 3,
    "start_time": "2022-12-18T16:12:28.779Z"
   },
   {
    "duration": 3,
    "start_time": "2022-12-18T16:12:29.745Z"
   },
   {
    "duration": 11,
    "start_time": "2022-12-18T16:12:35.573Z"
   },
   {
    "duration": 6,
    "start_time": "2022-12-18T16:12:36.326Z"
   },
   {
    "duration": 11,
    "start_time": "2022-12-18T16:13:22.642Z"
   },
   {
    "duration": 5,
    "start_time": "2022-12-18T17:29:31.343Z"
   },
   {
    "duration": 4,
    "start_time": "2022-12-18T17:30:03.934Z"
   },
   {
    "duration": 3,
    "start_time": "2022-12-18T17:56:18.123Z"
   },
   {
    "duration": 5,
    "start_time": "2022-12-18T17:57:00.214Z"
   },
   {
    "duration": 4,
    "start_time": "2022-12-18T17:57:15.398Z"
   },
   {
    "duration": 4,
    "start_time": "2022-12-18T17:58:06.251Z"
   },
   {
    "duration": 3,
    "start_time": "2022-12-18T17:58:36.407Z"
   },
   {
    "duration": 4,
    "start_time": "2022-12-18T17:58:44.225Z"
   },
   {
    "duration": 4,
    "start_time": "2022-12-18T17:59:03.023Z"
   },
   {
    "duration": 4,
    "start_time": "2022-12-18T17:59:28.533Z"
   },
   {
    "duration": 4,
    "start_time": "2022-12-18T18:00:26.095Z"
   },
   {
    "duration": 3,
    "start_time": "2022-12-18T18:00:32.778Z"
   },
   {
    "duration": 5,
    "start_time": "2022-12-18T18:00:47.086Z"
   },
   {
    "duration": 5,
    "start_time": "2022-12-18T18:01:29.951Z"
   },
   {
    "duration": 5,
    "start_time": "2022-12-18T18:12:08.541Z"
   },
   {
    "duration": 23,
    "start_time": "2022-12-18T18:13:40.034Z"
   },
   {
    "duration": 86,
    "start_time": "2022-12-18T18:14:40.114Z"
   },
   {
    "duration": 18,
    "start_time": "2022-12-18T18:14:50.770Z"
   },
   {
    "duration": 18,
    "start_time": "2022-12-18T18:15:33.310Z"
   },
   {
    "duration": 19,
    "start_time": "2022-12-18T18:15:33.817Z"
   },
   {
    "duration": 19,
    "start_time": "2022-12-18T18:15:34.333Z"
   },
   {
    "duration": 3,
    "start_time": "2022-12-18T18:17:07.194Z"
   },
   {
    "duration": 20,
    "start_time": "2022-12-18T18:17:27.741Z"
   },
   {
    "duration": 18,
    "start_time": "2022-12-18T18:18:08.551Z"
   },
   {
    "duration": 19,
    "start_time": "2022-12-18T18:18:10.993Z"
   },
   {
    "duration": 20,
    "start_time": "2022-12-18T18:18:11.423Z"
   },
   {
    "duration": 64,
    "start_time": "2022-12-18T18:20:53.051Z"
   },
   {
    "duration": 6,
    "start_time": "2022-12-18T18:20:59.066Z"
   },
   {
    "duration": 71,
    "start_time": "2022-12-18T18:26:29.842Z"
   },
   {
    "duration": 72,
    "start_time": "2022-12-18T18:26:54.953Z"
   },
   {
    "duration": 73,
    "start_time": "2022-12-18T18:27:05.596Z"
   },
   {
    "duration": 66,
    "start_time": "2022-12-18T18:27:20.916Z"
   },
   {
    "duration": 6,
    "start_time": "2022-12-18T18:28:19.484Z"
   },
   {
    "duration": 33,
    "start_time": "2022-12-18T18:37:07.243Z"
   },
   {
    "duration": 19,
    "start_time": "2022-12-18T18:37:14.482Z"
   },
   {
    "duration": 12,
    "start_time": "2022-12-18T18:49:42.496Z"
   },
   {
    "duration": 69,
    "start_time": "2022-12-18T18:50:39.374Z"
   },
   {
    "duration": 62,
    "start_time": "2022-12-18T18:50:51.391Z"
   },
   {
    "duration": 16,
    "start_time": "2022-12-18T18:51:11.327Z"
   },
   {
    "duration": 8,
    "start_time": "2022-12-18T18:51:18.271Z"
   },
   {
    "duration": 6,
    "start_time": "2022-12-18T18:51:33.226Z"
   },
   {
    "duration": 10,
    "start_time": "2022-12-18T18:55:17.494Z"
   },
   {
    "duration": 6,
    "start_time": "2022-12-18T18:57:16.350Z"
   },
   {
    "duration": 7,
    "start_time": "2022-12-18T18:57:41.770Z"
   },
   {
    "duration": 5,
    "start_time": "2022-12-18T18:57:45.880Z"
   },
   {
    "duration": 6,
    "start_time": "2022-12-18T18:57:46.311Z"
   },
   {
    "duration": 5,
    "start_time": "2022-12-18T18:58:07.143Z"
   },
   {
    "duration": 4,
    "start_time": "2022-12-18T18:58:07.718Z"
   },
   {
    "duration": 4,
    "start_time": "2022-12-18T18:58:08.966Z"
   },
   {
    "duration": 3,
    "start_time": "2022-12-18T18:58:09.376Z"
   },
   {
    "duration": 18,
    "start_time": "2022-12-18T18:58:09.857Z"
   },
   {
    "duration": 23,
    "start_time": "2022-12-18T18:58:10.227Z"
   },
   {
    "duration": 19,
    "start_time": "2022-12-18T18:58:10.448Z"
   },
   {
    "duration": 9,
    "start_time": "2022-12-18T18:58:11.974Z"
   },
   {
    "duration": 83,
    "start_time": "2022-12-18T18:58:12.368Z"
   },
   {
    "duration": 6,
    "start_time": "2022-12-18T18:58:12.736Z"
   },
   {
    "duration": 7,
    "start_time": "2022-12-18T18:58:13.854Z"
   },
   {
    "duration": 8,
    "start_time": "2022-12-18T18:58:14.569Z"
   },
   {
    "duration": 7,
    "start_time": "2022-12-18T19:00:06.450Z"
   },
   {
    "duration": 6,
    "start_time": "2022-12-18T19:00:07.021Z"
   },
   {
    "duration": 5,
    "start_time": "2022-12-18T19:01:03.884Z"
   },
   {
    "duration": 22,
    "start_time": "2022-12-18T19:02:51.398Z"
   },
   {
    "duration": 5,
    "start_time": "2022-12-18T19:07:34.741Z"
   },
   {
    "duration": 4,
    "start_time": "2022-12-18T19:07:38.784Z"
   },
   {
    "duration": 13,
    "start_time": "2022-12-18T19:07:39.353Z"
   },
   {
    "duration": 5,
    "start_time": "2022-12-18T19:08:00.741Z"
   },
   {
    "duration": 4,
    "start_time": "2022-12-18T19:08:28.650Z"
   },
   {
    "duration": 11,
    "start_time": "2022-12-18T19:08:29.262Z"
   },
   {
    "duration": 5,
    "start_time": "2022-12-18T19:18:22.051Z"
   },
   {
    "duration": 5,
    "start_time": "2022-12-18T19:18:51.724Z"
   },
   {
    "duration": 10,
    "start_time": "2022-12-18T19:24:18.867Z"
   },
   {
    "duration": 4,
    "start_time": "2022-12-18T19:24:26.728Z"
   },
   {
    "duration": 4,
    "start_time": "2022-12-18T19:24:27.207Z"
   },
   {
    "duration": 68,
    "start_time": "2022-12-18T19:37:27.850Z"
   },
   {
    "duration": 8,
    "start_time": "2022-12-18T19:37:28.333Z"
   },
   {
    "duration": 70,
    "start_time": "2022-12-18T19:39:28.556Z"
   },
   {
    "duration": 3,
    "start_time": "2022-12-18T19:39:43.365Z"
   },
   {
    "duration": 4,
    "start_time": "2022-12-18T19:39:53.654Z"
   },
   {
    "duration": 2,
    "start_time": "2022-12-18T19:40:03.736Z"
   },
   {
    "duration": 4,
    "start_time": "2022-12-18T19:40:04.388Z"
   },
   {
    "duration": 3,
    "start_time": "2022-12-18T19:42:04.866Z"
   },
   {
    "duration": 14,
    "start_time": "2022-12-18T19:42:05.382Z"
   },
   {
    "duration": 960,
    "start_time": "2022-12-18T19:42:21.771Z"
   },
   {
    "duration": 3,
    "start_time": "2022-12-18T19:47:26.281Z"
   },
   {
    "duration": 4,
    "start_time": "2022-12-18T19:47:26.923Z"
   },
   {
    "duration": 3,
    "start_time": "2022-12-18T19:49:21.722Z"
   },
   {
    "duration": 5,
    "start_time": "2022-12-18T19:49:22.192Z"
   },
   {
    "duration": 3,
    "start_time": "2022-12-18T19:50:19.300Z"
   },
   {
    "duration": 6,
    "start_time": "2022-12-18T19:50:19.812Z"
   },
   {
    "duration": 4,
    "start_time": "2022-12-18T19:52:19.692Z"
   },
   {
    "duration": 6,
    "start_time": "2022-12-18T19:52:20.466Z"
   },
   {
    "duration": 4,
    "start_time": "2022-12-18T19:55:58.249Z"
   },
   {
    "duration": 14,
    "start_time": "2022-12-18T19:56:00.269Z"
   },
   {
    "duration": 12,
    "start_time": "2022-12-18T19:56:12.094Z"
   },
   {
    "duration": 5,
    "start_time": "2022-12-18T19:57:27.855Z"
   },
   {
    "duration": 11,
    "start_time": "2022-12-18T19:57:30.791Z"
   },
   {
    "duration": 5,
    "start_time": "2022-12-18T19:57:49.890Z"
   },
   {
    "duration": 5,
    "start_time": "2022-12-18T19:57:51.390Z"
   },
   {
    "duration": 5,
    "start_time": "2022-12-18T19:57:55.222Z"
   },
   {
    "duration": 13,
    "start_time": "2022-12-18T19:57:55.703Z"
   },
   {
    "duration": 4,
    "start_time": "2022-12-18T19:59:04.475Z"
   },
   {
    "duration": 16,
    "start_time": "2022-12-18T19:59:04.958Z"
   },
   {
    "duration": 5,
    "start_time": "2022-12-18T19:59:17.828Z"
   },
   {
    "duration": 4,
    "start_time": "2022-12-18T20:01:30.536Z"
   },
   {
    "duration": 12,
    "start_time": "2022-12-18T20:01:31.207Z"
   },
   {
    "duration": 4,
    "start_time": "2022-12-18T20:02:15.528Z"
   },
   {
    "duration": 14,
    "start_time": "2022-12-18T20:02:16.073Z"
   },
   {
    "duration": 4,
    "start_time": "2022-12-18T20:03:12.890Z"
   },
   {
    "duration": 6,
    "start_time": "2022-12-18T20:03:14.480Z"
   },
   {
    "duration": 6,
    "start_time": "2022-12-18T20:04:50.837Z"
   },
   {
    "duration": 14,
    "start_time": "2022-12-18T20:04:51.436Z"
   },
   {
    "duration": 72,
    "start_time": "2022-12-18T20:06:41.524Z"
   },
   {
    "duration": 5,
    "start_time": "2022-12-18T20:07:13.088Z"
   },
   {
    "duration": 9,
    "start_time": "2022-12-18T20:07:13.627Z"
   },
   {
    "duration": 9,
    "start_time": "2022-12-18T20:07:18.363Z"
   },
   {
    "duration": 5,
    "start_time": "2022-12-18T20:07:33.156Z"
   },
   {
    "duration": 9,
    "start_time": "2022-12-18T20:07:33.603Z"
   },
   {
    "duration": 5,
    "start_time": "2022-12-18T20:08:24.825Z"
   },
   {
    "duration": 10,
    "start_time": "2022-12-18T20:08:25.340Z"
   },
   {
    "duration": 4,
    "start_time": "2022-12-18T20:08:47.461Z"
   },
   {
    "duration": 13,
    "start_time": "2022-12-18T20:08:47.979Z"
   },
   {
    "duration": 5,
    "start_time": "2022-12-18T20:09:07.647Z"
   },
   {
    "duration": 11,
    "start_time": "2022-12-18T20:09:08.087Z"
   },
   {
    "duration": 4,
    "start_time": "2022-12-18T20:10:33.851Z"
   },
   {
    "duration": 12,
    "start_time": "2022-12-18T20:10:34.344Z"
   },
   {
    "duration": 73,
    "start_time": "2022-12-18T20:10:52.640Z"
   },
   {
    "duration": 10,
    "start_time": "2022-12-18T20:10:53.056Z"
   },
   {
    "duration": 4,
    "start_time": "2022-12-18T20:11:01.794Z"
   },
   {
    "duration": 11,
    "start_time": "2022-12-18T20:11:02.239Z"
   },
   {
    "duration": 76,
    "start_time": "2022-12-18T20:15:48.871Z"
   },
   {
    "duration": 5,
    "start_time": "2022-12-18T20:16:09.364Z"
   },
   {
    "duration": 11,
    "start_time": "2022-12-18T20:16:09.972Z"
   },
   {
    "duration": 5,
    "start_time": "2022-12-18T20:16:51.580Z"
   },
   {
    "duration": 14,
    "start_time": "2022-12-18T20:16:52.174Z"
   },
   {
    "duration": 5,
    "start_time": "2022-12-18T20:18:12.824Z"
   },
   {
    "duration": 13,
    "start_time": "2022-12-18T20:18:13.427Z"
   },
   {
    "duration": 5,
    "start_time": "2022-12-18T20:18:38.121Z"
   },
   {
    "duration": 13,
    "start_time": "2022-12-18T20:18:38.747Z"
   },
   {
    "duration": 5,
    "start_time": "2022-12-18T20:19:05.454Z"
   },
   {
    "duration": 14,
    "start_time": "2022-12-18T20:19:05.890Z"
   },
   {
    "duration": 4,
    "start_time": "2022-12-18T20:20:49.178Z"
   },
   {
    "duration": 3,
    "start_time": "2022-12-18T20:20:49.405Z"
   },
   {
    "duration": 188,
    "start_time": "2022-12-18T20:20:49.596Z"
   },
   {
    "duration": 5,
    "start_time": "2022-12-18T20:20:50.239Z"
   },
   {
    "duration": 20,
    "start_time": "2022-12-18T20:20:50.409Z"
   },
   {
    "duration": 51,
    "start_time": "2022-12-18T20:20:50.794Z"
   },
   {
    "duration": 55,
    "start_time": "2022-12-18T20:20:51.189Z"
   },
   {
    "duration": 46,
    "start_time": "2022-12-18T20:20:51.385Z"
   },
   {
    "duration": 7,
    "start_time": "2022-12-18T20:20:52.591Z"
   },
   {
    "duration": 19,
    "start_time": "2022-12-18T20:20:52.601Z"
   },
   {
    "duration": 94,
    "start_time": "2022-12-18T20:20:52.737Z"
   },
   {
    "duration": 3,
    "start_time": "2022-12-18T20:20:52.937Z"
   },
   {
    "duration": 3,
    "start_time": "2022-12-18T20:20:53.146Z"
   },
   {
    "duration": 46,
    "start_time": "2022-12-18T20:20:54.123Z"
   },
   {
    "duration": 4,
    "start_time": "2022-12-18T20:20:54.314Z"
   },
   {
    "duration": 10,
    "start_time": "2022-12-18T20:20:54.718Z"
   },
   {
    "duration": 2,
    "start_time": "2022-12-18T20:20:54.907Z"
   },
   {
    "duration": 2,
    "start_time": "2022-12-18T20:20:55.112Z"
   },
   {
    "duration": 7,
    "start_time": "2022-12-18T20:20:55.309Z"
   },
   {
    "duration": 4,
    "start_time": "2022-12-18T20:20:55.511Z"
   },
   {
    "duration": 332,
    "start_time": "2022-12-18T20:20:55.907Z"
   },
   {
    "duration": 438,
    "start_time": "2022-12-18T20:20:56.241Z"
   },
   {
    "duration": 25,
    "start_time": "2022-12-18T20:20:56.681Z"
   },
   {
    "duration": 205,
    "start_time": "2022-12-18T20:20:56.708Z"
   },
   {
    "duration": 24,
    "start_time": "2022-12-18T20:20:56.915Z"
   },
   {
    "duration": 8,
    "start_time": "2022-12-18T20:20:57.120Z"
   },
   {
    "duration": 14,
    "start_time": "2022-12-18T20:20:57.527Z"
   },
   {
    "duration": 3,
    "start_time": "2022-12-18T20:20:57.921Z"
   },
   {
    "duration": 30,
    "start_time": "2022-12-18T20:20:58.316Z"
   },
   {
    "duration": 5,
    "start_time": "2022-12-18T20:20:58.522Z"
   },
   {
    "duration": 54,
    "start_time": "2022-12-18T20:20:59.310Z"
   },
   {
    "duration": 6,
    "start_time": "2022-12-18T20:20:59.515Z"
   },
   {
    "duration": 5,
    "start_time": "2022-12-18T20:21:00.283Z"
   },
   {
    "duration": 6,
    "start_time": "2022-12-18T20:21:00.483Z"
   },
   {
    "duration": 6,
    "start_time": "2022-12-18T20:21:00.681Z"
   },
   {
    "duration": 12,
    "start_time": "2022-12-18T20:21:01.072Z"
   },
   {
    "duration": 4,
    "start_time": "2022-12-18T20:21:01.470Z"
   },
   {
    "duration": 5,
    "start_time": "2022-12-18T20:21:03.238Z"
   },
   {
    "duration": 3,
    "start_time": "2022-12-18T20:21:03.442Z"
   },
   {
    "duration": 4,
    "start_time": "2022-12-18T20:21:03.864Z"
   },
   {
    "duration": 3,
    "start_time": "2022-12-18T20:21:04.064Z"
   },
   {
    "duration": 20,
    "start_time": "2022-12-18T20:21:04.273Z"
   },
   {
    "duration": 19,
    "start_time": "2022-12-18T20:21:04.481Z"
   },
   {
    "duration": 19,
    "start_time": "2022-12-18T20:21:04.680Z"
   },
   {
    "duration": 10,
    "start_time": "2022-12-18T20:21:05.501Z"
   },
   {
    "duration": 69,
    "start_time": "2022-12-18T20:21:05.688Z"
   },
   {
    "duration": 6,
    "start_time": "2022-12-18T20:21:05.899Z"
   },
   {
    "duration": 4,
    "start_time": "2022-12-18T20:21:06.111Z"
   },
   {
    "duration": 5,
    "start_time": "2022-12-18T20:21:06.694Z"
   },
   {
    "duration": 6,
    "start_time": "2022-12-18T20:21:07.664Z"
   },
   {
    "duration": 6,
    "start_time": "2022-12-18T20:21:07.938Z"
   },
   {
    "duration": 12,
    "start_time": "2022-12-18T20:21:08.033Z"
   },
   {
    "duration": 2,
    "start_time": "2022-12-18T20:37:30.197Z"
   },
   {
    "duration": 11,
    "start_time": "2022-12-18T20:39:37.871Z"
   },
   {
    "duration": 13,
    "start_time": "2022-12-18T20:39:56.616Z"
   },
   {
    "duration": 3,
    "start_time": "2022-12-18T20:40:51.708Z"
   },
   {
    "duration": 6,
    "start_time": "2022-12-18T20:41:04.965Z"
   },
   {
    "duration": 4,
    "start_time": "2022-12-18T20:41:08.315Z"
   },
   {
    "duration": 5,
    "start_time": "2022-12-18T20:41:09.604Z"
   },
   {
    "duration": 5,
    "start_time": "2022-12-18T20:41:10.611Z"
   },
   {
    "duration": 12,
    "start_time": "2022-12-18T20:41:11.036Z"
   },
   {
    "duration": 71,
    "start_time": "2022-12-18T20:41:15.664Z"
   },
   {
    "duration": 13,
    "start_time": "2022-12-18T20:41:22.562Z"
   },
   {
    "duration": 12,
    "start_time": "2022-12-18T20:41:23.051Z"
   },
   {
    "duration": 8,
    "start_time": "2022-12-18T20:52:59.911Z"
   },
   {
    "duration": 10,
    "start_time": "2022-12-18T20:54:44.041Z"
   },
   {
    "duration": 10,
    "start_time": "2022-12-18T20:54:50.170Z"
   },
   {
    "duration": 3,
    "start_time": "2022-12-18T20:54:51.174Z"
   },
   {
    "duration": 5,
    "start_time": "2022-12-18T20:54:56.699Z"
   },
   {
    "duration": 9,
    "start_time": "2022-12-18T20:55:12.517Z"
   },
   {
    "duration": 5,
    "start_time": "2022-12-18T20:55:44.901Z"
   },
   {
    "duration": 3,
    "start_time": "2022-12-18T20:55:48.885Z"
   },
   {
    "duration": 4,
    "start_time": "2022-12-18T20:55:49.305Z"
   },
   {
    "duration": 3,
    "start_time": "2022-12-18T20:55:49.495Z"
   },
   {
    "duration": 17,
    "start_time": "2022-12-18T20:55:49.689Z"
   },
   {
    "duration": 19,
    "start_time": "2022-12-18T20:55:49.885Z"
   },
   {
    "duration": 18,
    "start_time": "2022-12-18T20:55:50.103Z"
   },
   {
    "duration": 8,
    "start_time": "2022-12-18T20:55:51.069Z"
   },
   {
    "duration": 71,
    "start_time": "2022-12-18T20:55:51.322Z"
   },
   {
    "duration": 3,
    "start_time": "2022-12-18T20:55:51.525Z"
   },
   {
    "duration": 7,
    "start_time": "2022-12-18T20:55:52.054Z"
   },
   {
    "duration": 10,
    "start_time": "2022-12-18T20:55:52.699Z"
   },
   {
    "duration": 5,
    "start_time": "2022-12-18T20:56:30.522Z"
   },
   {
    "duration": 7,
    "start_time": "2022-12-18T20:56:31.838Z"
   },
   {
    "duration": 6,
    "start_time": "2022-12-18T20:57:55.687Z"
   },
   {
    "duration": 1207,
    "start_time": "2022-12-18T20:57:56.530Z"
   },
   {
    "duration": 6,
    "start_time": "2022-12-18T20:59:30.843Z"
   },
   {
    "duration": 1258,
    "start_time": "2022-12-18T20:59:51.917Z"
   },
   {
    "duration": 6,
    "start_time": "2022-12-18T20:59:55.164Z"
   },
   {
    "duration": 6,
    "start_time": "2022-12-18T21:00:53.846Z"
   },
   {
    "duration": 1312,
    "start_time": "2022-12-18T21:00:54.621Z"
   },
   {
    "duration": 8,
    "start_time": "2022-12-18T21:01:07.921Z"
   },
   {
    "duration": 5,
    "start_time": "2022-12-18T21:01:09.869Z"
   },
   {
    "duration": 5,
    "start_time": "2022-12-18T21:01:11.279Z"
   },
   {
    "duration": 6,
    "start_time": "2022-12-18T21:01:12.445Z"
   },
   {
    "duration": 1410,
    "start_time": "2022-12-18T21:01:13.024Z"
   },
   {
    "duration": 5,
    "start_time": "2022-12-18T21:04:15.205Z"
   },
   {
    "duration": 1198,
    "start_time": "2022-12-18T21:04:15.891Z"
   },
   {
    "duration": 6,
    "start_time": "2022-12-18T21:04:55.764Z"
   },
   {
    "duration": 5,
    "start_time": "2022-12-18T21:05:06.782Z"
   },
   {
    "duration": 6,
    "start_time": "2022-12-18T21:05:11.101Z"
   },
   {
    "duration": 8,
    "start_time": "2022-12-18T21:05:12.385Z"
   },
   {
    "duration": 7,
    "start_time": "2022-12-18T21:05:13.228Z"
   },
   {
    "duration": 1184,
    "start_time": "2022-12-18T21:05:13.815Z"
   },
   {
    "duration": 5,
    "start_time": "2022-12-18T21:05:33.499Z"
   },
   {
    "duration": 9,
    "start_time": "2022-12-18T21:05:34.133Z"
   },
   {
    "duration": 3,
    "start_time": "2022-12-18T21:05:38.006Z"
   },
   {
    "duration": 5,
    "start_time": "2022-12-18T21:05:39.376Z"
   },
   {
    "duration": 5,
    "start_time": "2022-12-18T21:05:40.406Z"
   },
   {
    "duration": 1199,
    "start_time": "2022-12-18T21:05:40.835Z"
   },
   {
    "duration": 5,
    "start_time": "2022-12-18T21:07:12.074Z"
   },
   {
    "duration": 7,
    "start_time": "2022-12-18T21:07:12.594Z"
   },
   {
    "duration": 6,
    "start_time": "2022-12-18T21:07:46.616Z"
   },
   {
    "duration": 11,
    "start_time": "2022-12-18T21:07:47.103Z"
   },
   {
    "duration": 4,
    "start_time": "2022-12-18T21:08:37.934Z"
   },
   {
    "duration": 12,
    "start_time": "2022-12-18T21:08:38.639Z"
   },
   {
    "duration": 5,
    "start_time": "2022-12-18T21:09:35.853Z"
   },
   {
    "duration": 1195,
    "start_time": "2022-12-18T21:09:36.443Z"
   },
   {
    "duration": 5,
    "start_time": "2022-12-18T21:09:55.410Z"
   },
   {
    "duration": 1104,
    "start_time": "2022-12-18T21:09:55.910Z"
   },
   {
    "duration": 76,
    "start_time": "2022-12-18T21:15:31.482Z"
   },
   {
    "duration": 1093,
    "start_time": "2022-12-18T21:15:31.942Z"
   },
   {
    "duration": 8,
    "start_time": "2022-12-18T21:16:00.023Z"
   },
   {
    "duration": 5,
    "start_time": "2022-12-18T21:18:53.652Z"
   },
   {
    "duration": 1133,
    "start_time": "2022-12-18T21:18:54.290Z"
   },
   {
    "duration": 5,
    "start_time": "2022-12-18T21:19:22.286Z"
   },
   {
    "duration": 19,
    "start_time": "2022-12-18T21:19:22.900Z"
   },
   {
    "duration": 5,
    "start_time": "2022-12-18T21:19:48.514Z"
   },
   {
    "duration": 22,
    "start_time": "2022-12-18T21:19:49.094Z"
   },
   {
    "duration": 6,
    "start_time": "2022-12-18T21:20:06.640Z"
   },
   {
    "duration": 22,
    "start_time": "2022-12-18T21:20:07.137Z"
   },
   {
    "duration": 3,
    "start_time": "2022-12-18T21:20:46.481Z"
   },
   {
    "duration": 6,
    "start_time": "2022-12-18T21:21:58.471Z"
   },
   {
    "duration": 28,
    "start_time": "2022-12-18T21:21:58.954Z"
   },
   {
    "duration": 5,
    "start_time": "2022-12-18T21:22:51.434Z"
   },
   {
    "duration": 16,
    "start_time": "2022-12-18T21:22:52.258Z"
   },
   {
    "duration": 88,
    "start_time": "2022-12-18T21:25:32.109Z"
   },
   {
    "duration": 11,
    "start_time": "2022-12-18T21:25:45.533Z"
   },
   {
    "duration": 10,
    "start_time": "2022-12-18T21:26:02.366Z"
   },
   {
    "duration": 68,
    "start_time": "2022-12-18T21:28:17.957Z"
   },
   {
    "duration": 72,
    "start_time": "2022-12-18T21:28:28.992Z"
   },
   {
    "duration": 71,
    "start_time": "2022-12-18T21:28:47.233Z"
   },
   {
    "duration": 73,
    "start_time": "2022-12-18T21:29:28.054Z"
   },
   {
    "duration": 1143,
    "start_time": "2022-12-18T21:30:48.074Z"
   },
   {
    "duration": 1374,
    "start_time": "2022-12-18T21:31:11.606Z"
   },
   {
    "duration": 7,
    "start_time": "2022-12-18T21:31:27.325Z"
   },
   {
    "duration": 5,
    "start_time": "2022-12-18T21:33:41.353Z"
   },
   {
    "duration": 8,
    "start_time": "2022-12-18T21:33:41.899Z"
   },
   {
    "duration": 4,
    "start_time": "2022-12-18T21:33:42.681Z"
   },
   {
    "duration": 4,
    "start_time": "2022-12-18T21:33:54.925Z"
   },
   {
    "duration": 6,
    "start_time": "2022-12-18T21:33:56.579Z"
   },
   {
    "duration": 8,
    "start_time": "2022-12-18T21:33:58.093Z"
   },
   {
    "duration": 6,
    "start_time": "2022-12-18T21:33:59.081Z"
   },
   {
    "duration": 1162,
    "start_time": "2022-12-18T21:34:08.373Z"
   },
   {
    "duration": 13,
    "start_time": "2022-12-18T21:35:47.690Z"
   },
   {
    "duration": 17,
    "start_time": "2022-12-18T21:37:12.351Z"
   },
   {
    "duration": 16,
    "start_time": "2022-12-18T21:38:00.684Z"
   },
   {
    "duration": 13,
    "start_time": "2022-12-18T21:39:57.876Z"
   },
   {
    "duration": 12,
    "start_time": "2022-12-18T21:40:51.439Z"
   },
   {
    "duration": 7,
    "start_time": "2022-12-18T21:41:06.676Z"
   },
   {
    "duration": 7,
    "start_time": "2022-12-18T21:41:07.720Z"
   },
   {
    "duration": 5,
    "start_time": "2022-12-18T21:41:14.908Z"
   },
   {
    "duration": 5,
    "start_time": "2022-12-18T21:41:17.103Z"
   },
   {
    "duration": 7,
    "start_time": "2022-12-18T21:41:18.623Z"
   },
   {
    "duration": 7,
    "start_time": "2022-12-18T21:41:19.709Z"
   },
   {
    "duration": 9,
    "start_time": "2022-12-18T21:42:06.867Z"
   },
   {
    "duration": 18,
    "start_time": "2022-12-18T21:42:07.470Z"
   },
   {
    "duration": 5,
    "start_time": "2022-12-18T21:42:39.950Z"
   },
   {
    "duration": 6,
    "start_time": "2022-12-18T21:42:40.664Z"
   },
   {
    "duration": 17,
    "start_time": "2022-12-18T21:42:41.684Z"
   },
   {
    "duration": 7,
    "start_time": "2022-12-18T21:45:47.042Z"
   },
   {
    "duration": 14,
    "start_time": "2022-12-18T21:45:47.426Z"
   },
   {
    "duration": 16,
    "start_time": "2022-12-18T21:46:01.610Z"
   },
   {
    "duration": 17,
    "start_time": "2022-12-18T21:46:02.135Z"
   },
   {
    "duration": 5,
    "start_time": "2022-12-18T21:47:02.180Z"
   },
   {
    "duration": 9,
    "start_time": "2022-12-18T21:47:02.602Z"
   },
   {
    "duration": 1406,
    "start_time": "2022-12-18T21:47:25.605Z"
   },
   {
    "duration": 4,
    "start_time": "2022-12-18T21:47:27.013Z"
   },
   {
    "duration": 201,
    "start_time": "2022-12-18T21:47:27.019Z"
   },
   {
    "duration": 10,
    "start_time": "2022-12-18T21:47:27.222Z"
   },
   {
    "duration": 44,
    "start_time": "2022-12-18T21:47:27.235Z"
   },
   {
    "duration": 108,
    "start_time": "2022-12-18T21:47:27.282Z"
   },
   {
    "duration": 90,
    "start_time": "2022-12-18T21:47:27.392Z"
   },
   {
    "duration": 71,
    "start_time": "2022-12-18T21:47:27.483Z"
   },
   {
    "duration": 9,
    "start_time": "2022-12-18T21:47:27.556Z"
   },
   {
    "duration": 32,
    "start_time": "2022-12-18T21:47:27.569Z"
   },
   {
    "duration": 123,
    "start_time": "2022-12-18T21:47:27.604Z"
   },
   {
    "duration": 3,
    "start_time": "2022-12-18T21:47:27.730Z"
   },
   {
    "duration": 17,
    "start_time": "2022-12-18T21:47:27.735Z"
   },
   {
    "duration": 62,
    "start_time": "2022-12-18T21:47:27.754Z"
   },
   {
    "duration": 5,
    "start_time": "2022-12-18T21:47:27.818Z"
   },
   {
    "duration": 47,
    "start_time": "2022-12-18T21:47:27.825Z"
   },
   {
    "duration": 14,
    "start_time": "2022-12-18T21:47:27.874Z"
   },
   {
    "duration": 33,
    "start_time": "2022-12-18T21:47:27.890Z"
   },
   {
    "duration": 27,
    "start_time": "2022-12-18T21:47:27.925Z"
   },
   {
    "duration": 23,
    "start_time": "2022-12-18T21:47:27.955Z"
   },
   {
    "duration": 463,
    "start_time": "2022-12-18T21:47:27.980Z"
   },
   {
    "duration": 415,
    "start_time": "2022-12-18T21:47:28.446Z"
   },
   {
    "duration": 50,
    "start_time": "2022-12-18T21:47:28.864Z"
   },
   {
    "duration": 325,
    "start_time": "2022-12-18T21:47:28.916Z"
   },
   {
    "duration": 44,
    "start_time": "2022-12-18T21:47:29.243Z"
   },
   {
    "duration": 10,
    "start_time": "2022-12-18T21:47:29.289Z"
   },
   {
    "duration": 29,
    "start_time": "2022-12-18T21:47:29.301Z"
   },
   {
    "duration": 21,
    "start_time": "2022-12-18T21:47:29.334Z"
   },
   {
    "duration": 58,
    "start_time": "2022-12-18T21:47:29.358Z"
   },
   {
    "duration": 6,
    "start_time": "2022-12-18T21:47:29.418Z"
   },
   {
    "duration": 91,
    "start_time": "2022-12-18T21:47:29.426Z"
   },
   {
    "duration": 6,
    "start_time": "2022-12-18T21:47:29.519Z"
   },
   {
    "duration": 17,
    "start_time": "2022-12-18T21:47:29.528Z"
   },
   {
    "duration": 29,
    "start_time": "2022-12-18T21:47:29.551Z"
   },
   {
    "duration": 24,
    "start_time": "2022-12-18T21:47:29.582Z"
   },
   {
    "duration": 192,
    "start_time": "2022-12-18T21:47:29.607Z"
   },
   {
    "duration": 5,
    "start_time": "2022-12-18T21:47:29.801Z"
   },
   {
    "duration": 48,
    "start_time": "2022-12-18T21:47:29.809Z"
   },
   {
    "duration": 24,
    "start_time": "2022-12-18T21:47:29.859Z"
   },
   {
    "duration": 31,
    "start_time": "2022-12-18T21:47:29.885Z"
   },
   {
    "duration": 41,
    "start_time": "2022-12-18T21:47:29.919Z"
   },
   {
    "duration": 37,
    "start_time": "2022-12-18T21:47:29.962Z"
   },
   {
    "duration": 74,
    "start_time": "2022-12-18T21:47:30.002Z"
   },
   {
    "duration": 21,
    "start_time": "2022-12-18T21:47:30.078Z"
   },
   {
    "duration": 26,
    "start_time": "2022-12-18T21:47:30.102Z"
   },
   {
    "duration": 71,
    "start_time": "2022-12-18T21:47:30.152Z"
   },
   {
    "duration": 5,
    "start_time": "2022-12-18T21:47:30.225Z"
   },
   {
    "duration": 28,
    "start_time": "2022-12-18T21:47:30.232Z"
   },
   {
    "duration": 14,
    "start_time": "2022-12-18T21:47:30.262Z"
   },
   {
    "duration": 35,
    "start_time": "2022-12-18T21:47:30.277Z"
   },
   {
    "duration": 20,
    "start_time": "2022-12-18T21:47:30.314Z"
   },
   {
    "duration": 28,
    "start_time": "2022-12-18T21:47:30.336Z"
   },
   {
    "duration": 40,
    "start_time": "2022-12-18T21:47:30.367Z"
   },
   {
    "duration": 20,
    "start_time": "2022-12-18T21:47:30.410Z"
   },
   {
    "duration": 26,
    "start_time": "2022-12-18T21:47:30.432Z"
   },
   {
    "duration": 50,
    "start_time": "2022-12-18T21:47:30.460Z"
   },
   {
    "duration": 31,
    "start_time": "2022-12-18T21:47:30.512Z"
   },
   {
    "duration": 20,
    "start_time": "2022-12-18T21:47:30.545Z"
   },
   {
    "duration": 18,
    "start_time": "2022-12-18T21:48:50.103Z"
   },
   {
    "duration": 15,
    "start_time": "2022-12-18T21:48:50.663Z"
   },
   {
    "duration": 1051,
    "start_time": "2022-12-18T21:54:49.336Z"
   },
   {
    "duration": 15,
    "start_time": "2022-12-18T23:04:05.140Z"
   },
   {
    "duration": 42,
    "start_time": "2022-12-18T23:04:25.282Z"
   },
   {
    "duration": 1358,
    "start_time": "2022-12-18T23:04:38.523Z"
   },
   {
    "duration": 4,
    "start_time": "2022-12-18T23:04:39.884Z"
   },
   {
    "duration": 307,
    "start_time": "2022-12-18T23:04:39.890Z"
   },
   {
    "duration": 7,
    "start_time": "2022-12-18T23:04:40.199Z"
   },
   {
    "duration": 24,
    "start_time": "2022-12-18T23:04:40.208Z"
   },
   {
    "duration": 63,
    "start_time": "2022-12-18T23:04:40.234Z"
   },
   {
    "duration": 75,
    "start_time": "2022-12-18T23:04:40.299Z"
   },
   {
    "duration": 61,
    "start_time": "2022-12-18T23:04:40.376Z"
   },
   {
    "duration": 6,
    "start_time": "2022-12-18T23:04:40.439Z"
   },
   {
    "duration": 7,
    "start_time": "2022-12-18T23:04:40.448Z"
   },
   {
    "duration": 82,
    "start_time": "2022-12-18T23:04:40.456Z"
   },
   {
    "duration": 2,
    "start_time": "2022-12-18T23:04:40.540Z"
   },
   {
    "duration": 6,
    "start_time": "2022-12-18T23:04:40.543Z"
   },
   {
    "duration": 70,
    "start_time": "2022-12-18T23:04:40.551Z"
   },
   {
    "duration": 3,
    "start_time": "2022-12-18T23:04:40.623Z"
   },
   {
    "duration": 15,
    "start_time": "2022-12-18T23:04:40.627Z"
   },
   {
    "duration": 5,
    "start_time": "2022-12-18T23:04:40.644Z"
   },
   {
    "duration": 16,
    "start_time": "2022-12-18T23:04:40.651Z"
   },
   {
    "duration": 8,
    "start_time": "2022-12-18T23:04:40.669Z"
   },
   {
    "duration": 3,
    "start_time": "2022-12-18T23:04:40.679Z"
   },
   {
    "duration": 311,
    "start_time": "2022-12-18T23:04:40.684Z"
   },
   {
    "duration": 311,
    "start_time": "2022-12-18T23:04:40.996Z"
   },
   {
    "duration": 32,
    "start_time": "2022-12-18T23:04:41.308Z"
   },
   {
    "duration": 184,
    "start_time": "2022-12-18T23:04:41.342Z"
   },
   {
    "duration": 28,
    "start_time": "2022-12-18T23:04:41.528Z"
   },
   {
    "duration": 8,
    "start_time": "2022-12-18T23:04:41.558Z"
   },
   {
    "duration": 17,
    "start_time": "2022-12-18T23:04:41.568Z"
   },
   {
    "duration": 4,
    "start_time": "2022-12-18T23:04:41.589Z"
   },
   {
    "duration": 29,
    "start_time": "2022-12-18T23:04:41.616Z"
   },
   {
    "duration": 5,
    "start_time": "2022-12-18T23:04:41.647Z"
   },
   {
    "duration": 77,
    "start_time": "2022-12-18T23:04:41.654Z"
   },
   {
    "duration": 6,
    "start_time": "2022-12-18T23:04:41.733Z"
   },
   {
    "duration": 5,
    "start_time": "2022-12-18T23:04:41.741Z"
   },
   {
    "duration": 7,
    "start_time": "2022-12-18T23:04:41.747Z"
   },
   {
    "duration": 10,
    "start_time": "2022-12-18T23:04:41.756Z"
   },
   {
    "duration": 188,
    "start_time": "2022-12-18T23:04:41.768Z"
   },
   {
    "duration": 3,
    "start_time": "2022-12-18T23:04:41.958Z"
   },
   {
    "duration": 9,
    "start_time": "2022-12-18T23:04:41.963Z"
   },
   {
    "duration": 5,
    "start_time": "2022-12-18T23:04:41.974Z"
   },
   {
    "duration": 10,
    "start_time": "2022-12-18T23:04:41.982Z"
   },
   {
    "duration": 6,
    "start_time": "2022-12-18T23:04:41.994Z"
   },
   {
    "duration": 21,
    "start_time": "2022-12-18T23:04:42.016Z"
   },
   {
    "duration": 17,
    "start_time": "2022-12-18T23:04:42.041Z"
   },
   {
    "duration": 72,
    "start_time": "2022-12-18T23:04:42.060Z"
   },
   {
    "duration": 10,
    "start_time": "2022-12-18T23:04:42.134Z"
   },
   {
    "duration": 90,
    "start_time": "2022-12-18T23:04:42.146Z"
   },
   {
    "duration": 4,
    "start_time": "2022-12-18T23:04:42.238Z"
   },
   {
    "duration": 9,
    "start_time": "2022-12-18T23:04:42.243Z"
   },
   {
    "duration": 6,
    "start_time": "2022-12-18T23:04:42.254Z"
   },
   {
    "duration": 8,
    "start_time": "2022-12-18T23:04:42.262Z"
   },
   {
    "duration": 12,
    "start_time": "2022-12-18T23:04:42.272Z"
   },
   {
    "duration": 8,
    "start_time": "2022-12-18T23:04:42.285Z"
   },
   {
    "duration": 12,
    "start_time": "2022-12-18T23:04:42.294Z"
   },
   {
    "duration": 7,
    "start_time": "2022-12-18T23:04:42.316Z"
   },
   {
    "duration": 27,
    "start_time": "2022-12-18T23:04:42.324Z"
   },
   {
    "duration": 12,
    "start_time": "2022-12-18T23:04:42.353Z"
   },
   {
    "duration": 11,
    "start_time": "2022-12-18T23:04:42.367Z"
   },
   {
    "duration": 7,
    "start_time": "2022-12-18T23:04:42.380Z"
   },
   {
    "duration": 29,
    "start_time": "2022-12-18T23:04:42.388Z"
   },
   {
    "duration": 3,
    "start_time": "2022-12-18T23:04:42.668Z"
   },
   {
    "duration": 12,
    "start_time": "2022-12-18T23:05:22.334Z"
   },
   {
    "duration": 5,
    "start_time": "2022-12-18T23:08:16.995Z"
   },
   {
    "duration": 13,
    "start_time": "2022-12-18T23:08:17.583Z"
   },
   {
    "duration": 4,
    "start_time": "2022-12-18T23:39:44.700Z"
   },
   {
    "duration": 5,
    "start_time": "2022-12-18T23:39:45.353Z"
   },
   {
    "duration": 3,
    "start_time": "2022-12-18T23:41:57.076Z"
   },
   {
    "duration": 3,
    "start_time": "2022-12-18T23:41:57.254Z"
   },
   {
    "duration": 180,
    "start_time": "2022-12-18T23:41:59.556Z"
   },
   {
    "duration": 6,
    "start_time": "2022-12-18T23:42:00.178Z"
   },
   {
    "duration": 21,
    "start_time": "2022-12-18T23:42:00.375Z"
   },
   {
    "duration": 48,
    "start_time": "2022-12-18T23:42:00.758Z"
   },
   {
    "duration": 52,
    "start_time": "2022-12-18T23:42:01.152Z"
   },
   {
    "duration": 48,
    "start_time": "2022-12-18T23:42:01.357Z"
   },
   {
    "duration": 7,
    "start_time": "2022-12-18T23:42:02.145Z"
   },
   {
    "duration": 7,
    "start_time": "2022-12-18T23:42:02.527Z"
   },
   {
    "duration": 72,
    "start_time": "2022-12-18T23:42:02.711Z"
   },
   {
    "duration": 2,
    "start_time": "2022-12-18T23:42:02.921Z"
   },
   {
    "duration": 2,
    "start_time": "2022-12-18T23:42:03.113Z"
   },
   {
    "duration": 38,
    "start_time": "2022-12-18T23:42:04.072Z"
   },
   {
    "duration": 3,
    "start_time": "2022-12-18T23:42:04.268Z"
   },
   {
    "duration": 12,
    "start_time": "2022-12-18T23:42:04.659Z"
   },
   {
    "duration": 2,
    "start_time": "2022-12-18T23:42:04.851Z"
   },
   {
    "duration": 2,
    "start_time": "2022-12-18T23:42:05.045Z"
   },
   {
    "duration": 8,
    "start_time": "2022-12-18T23:42:05.285Z"
   },
   {
    "duration": 4,
    "start_time": "2022-12-18T23:42:05.469Z"
   },
   {
    "duration": 334,
    "start_time": "2022-12-18T23:42:05.875Z"
   },
   {
    "duration": 299,
    "start_time": "2022-12-18T23:42:06.211Z"
   },
   {
    "duration": 25,
    "start_time": "2022-12-18T23:42:06.515Z"
   },
   {
    "duration": 176,
    "start_time": "2022-12-18T23:42:06.541Z"
   },
   {
    "duration": 22,
    "start_time": "2022-12-18T23:42:06.853Z"
   },
   {
    "duration": 6,
    "start_time": "2022-12-18T23:42:07.049Z"
   },
   {
    "duration": 16,
    "start_time": "2022-12-18T23:42:07.626Z"
   },
   {
    "duration": 4,
    "start_time": "2022-12-18T23:42:08.095Z"
   },
   {
    "duration": 27,
    "start_time": "2022-12-18T23:42:08.473Z"
   },
   {
    "duration": 3,
    "start_time": "2022-12-18T23:42:08.674Z"
   },
   {
    "duration": 50,
    "start_time": "2022-12-18T23:42:09.446Z"
   },
   {
    "duration": 5,
    "start_time": "2022-12-18T23:42:09.640Z"
   },
   {
    "duration": 4,
    "start_time": "2022-12-18T23:42:10.417Z"
   },
   {
    "duration": 4,
    "start_time": "2022-12-18T23:42:10.611Z"
   },
   {
    "duration": 6,
    "start_time": "2022-12-18T23:42:10.801Z"
   },
   {
    "duration": 9,
    "start_time": "2022-12-18T23:42:11.194Z"
   },
   {
    "duration": 3,
    "start_time": "2022-12-18T23:42:11.573Z"
   },
   {
    "duration": 4,
    "start_time": "2022-12-18T23:42:13.145Z"
   },
   {
    "duration": 3,
    "start_time": "2022-12-18T23:42:13.328Z"
   },
   {
    "duration": 3,
    "start_time": "2022-12-18T23:42:13.710Z"
   },
   {
    "duration": 4,
    "start_time": "2022-12-18T23:42:13.909Z"
   },
   {
    "duration": 18,
    "start_time": "2022-12-18T23:42:14.106Z"
   },
   {
    "duration": 18,
    "start_time": "2022-12-18T23:42:14.296Z"
   },
   {
    "duration": 18,
    "start_time": "2022-12-18T23:42:14.499Z"
   },
   {
    "duration": 8,
    "start_time": "2022-12-18T23:42:15.284Z"
   },
   {
    "duration": 73,
    "start_time": "2022-12-18T23:42:15.487Z"
   },
   {
    "duration": 4,
    "start_time": "2022-12-18T23:42:15.673Z"
   },
   {
    "duration": 7,
    "start_time": "2022-12-18T23:42:15.876Z"
   },
   {
    "duration": 5,
    "start_time": "2022-12-18T23:42:16.066Z"
   },
   {
    "duration": 6,
    "start_time": "2022-12-18T23:42:16.261Z"
   },
   {
    "duration": 7,
    "start_time": "2022-12-18T23:42:16.437Z"
   },
   {
    "duration": 3,
    "start_time": "2022-12-18T23:42:24.528Z"
   },
   {
    "duration": 5,
    "start_time": "2022-12-18T23:42:25.118Z"
   },
   {
    "duration": 6,
    "start_time": "2022-12-18T23:42:25.556Z"
   },
   {
    "duration": 13,
    "start_time": "2022-12-18T23:42:25.681Z"
   },
   {
    "duration": 12,
    "start_time": "2022-12-18T23:42:26.871Z"
   },
   {
    "duration": 12,
    "start_time": "2022-12-18T23:42:27.063Z"
   },
   {
    "duration": 4,
    "start_time": "2022-12-18T23:42:27.643Z"
   },
   {
    "duration": 5,
    "start_time": "2022-12-18T23:42:27.839Z"
   },
   {
    "duration": 9,
    "start_time": "2022-12-18T23:42:28.030Z"
   },
   {
    "duration": 1209,
    "start_time": "2022-12-19T04:07:41.997Z"
   },
   {
    "duration": 4,
    "start_time": "2022-12-19T04:07:43.208Z"
   },
   {
    "duration": 199,
    "start_time": "2022-12-19T04:07:43.213Z"
   },
   {
    "duration": 7,
    "start_time": "2022-12-19T04:07:43.414Z"
   },
   {
    "duration": 35,
    "start_time": "2022-12-19T04:07:43.423Z"
   },
   {
    "duration": 73,
    "start_time": "2022-12-19T04:07:43.461Z"
   },
   {
    "duration": 80,
    "start_time": "2022-12-19T04:07:43.551Z"
   },
   {
    "duration": 66,
    "start_time": "2022-12-19T04:07:43.633Z"
   },
   {
    "duration": 7,
    "start_time": "2022-12-19T04:07:43.701Z"
   },
   {
    "duration": 8,
    "start_time": "2022-12-19T04:07:43.711Z"
   },
   {
    "duration": 94,
    "start_time": "2022-12-19T04:07:43.721Z"
   },
   {
    "duration": 7,
    "start_time": "2022-12-19T04:07:43.817Z"
   },
   {
    "duration": 6,
    "start_time": "2022-12-19T04:07:43.825Z"
   },
   {
    "duration": 70,
    "start_time": "2022-12-19T04:07:43.832Z"
   },
   {
    "duration": 3,
    "start_time": "2022-12-19T04:07:43.904Z"
   },
   {
    "duration": 17,
    "start_time": "2022-12-19T04:07:43.909Z"
   },
   {
    "duration": 5,
    "start_time": "2022-12-19T04:07:43.928Z"
   },
   {
    "duration": 2,
    "start_time": "2022-12-19T04:07:43.952Z"
   },
   {
    "duration": 10,
    "start_time": "2022-12-19T04:07:43.956Z"
   },
   {
    "duration": 3,
    "start_time": "2022-12-19T04:07:43.968Z"
   },
   {
    "duration": 306,
    "start_time": "2022-12-19T04:07:43.973Z"
   },
   {
    "duration": 358,
    "start_time": "2022-12-19T04:07:44.281Z"
   },
   {
    "duration": 38,
    "start_time": "2022-12-19T04:07:44.640Z"
   },
   {
    "duration": 218,
    "start_time": "2022-12-19T04:07:44.680Z"
   },
   {
    "duration": 29,
    "start_time": "2022-12-19T04:07:44.900Z"
   },
   {
    "duration": 20,
    "start_time": "2022-12-19T04:07:44.931Z"
   },
   {
    "duration": 16,
    "start_time": "2022-12-19T04:07:44.953Z"
   },
   {
    "duration": 4,
    "start_time": "2022-12-19T04:07:44.974Z"
   },
   {
    "duration": 33,
    "start_time": "2022-12-19T04:07:44.980Z"
   },
   {
    "duration": 5,
    "start_time": "2022-12-19T04:07:45.015Z"
   },
   {
    "duration": 84,
    "start_time": "2022-12-19T04:07:45.021Z"
   },
   {
    "duration": 7,
    "start_time": "2022-12-19T04:07:45.107Z"
   },
   {
    "duration": 7,
    "start_time": "2022-12-19T04:07:45.115Z"
   },
   {
    "duration": 7,
    "start_time": "2022-12-19T04:07:45.124Z"
   },
   {
    "duration": 26,
    "start_time": "2022-12-19T04:07:45.133Z"
   },
   {
    "duration": 233,
    "start_time": "2022-12-19T04:07:45.161Z"
   },
   {
    "duration": 4,
    "start_time": "2022-12-19T04:07:45.396Z"
   },
   {
    "duration": 10,
    "start_time": "2022-12-19T04:07:45.401Z"
   },
   {
    "duration": 7,
    "start_time": "2022-12-19T04:07:45.412Z"
   },
   {
    "duration": 6,
    "start_time": "2022-12-19T04:07:45.420Z"
   },
   {
    "duration": 6,
    "start_time": "2022-12-19T04:07:45.427Z"
   },
   {
    "duration": 20,
    "start_time": "2022-12-19T04:07:45.451Z"
   },
   {
    "duration": 19,
    "start_time": "2022-12-19T04:07:45.473Z"
   },
   {
    "duration": 79,
    "start_time": "2022-12-19T04:07:45.494Z"
   },
   {
    "duration": 11,
    "start_time": "2022-12-19T04:07:45.574Z"
   },
   {
    "duration": 112,
    "start_time": "2022-12-19T04:07:45.587Z"
   },
   {
    "duration": 4,
    "start_time": "2022-12-19T04:07:45.701Z"
   },
   {
    "duration": 8,
    "start_time": "2022-12-19T04:07:45.707Z"
   },
   {
    "duration": 8,
    "start_time": "2022-12-19T04:07:45.717Z"
   },
   {
    "duration": 7,
    "start_time": "2022-12-19T04:07:45.727Z"
   },
   {
    "duration": 6,
    "start_time": "2022-12-19T04:07:45.750Z"
   },
   {
    "duration": 7,
    "start_time": "2022-12-19T04:07:45.758Z"
   },
   {
    "duration": 12,
    "start_time": "2022-12-19T04:07:45.767Z"
   },
   {
    "duration": 12,
    "start_time": "2022-12-19T04:07:45.781Z"
   },
   {
    "duration": 18,
    "start_time": "2022-12-19T04:07:45.794Z"
   },
   {
    "duration": 40,
    "start_time": "2022-12-19T04:07:45.814Z"
   },
   {
    "duration": 14,
    "start_time": "2022-12-19T04:07:45.856Z"
   },
   {
    "duration": 4,
    "start_time": "2022-12-19T04:07:45.871Z"
   },
   {
    "duration": 9,
    "start_time": "2022-12-19T04:07:45.876Z"
   },
   {
    "duration": 15,
    "start_time": "2022-12-19T04:07:45.886Z"
   },
   {
    "duration": 50,
    "start_time": "2022-12-19T04:44:18.456Z"
   },
   {
    "duration": 40,
    "start_time": "2022-12-19T04:47:13.400Z"
   },
   {
    "duration": 1326,
    "start_time": "2022-12-19T04:47:23.627Z"
   },
   {
    "duration": 4,
    "start_time": "2022-12-19T04:47:24.955Z"
   },
   {
    "duration": 326,
    "start_time": "2022-12-19T04:47:24.960Z"
   },
   {
    "duration": 11,
    "start_time": "2022-12-19T04:47:25.289Z"
   },
   {
    "duration": 22,
    "start_time": "2022-12-19T04:47:25.536Z"
   },
   {
    "duration": 70,
    "start_time": "2022-12-19T04:47:26.305Z"
   },
   {
    "duration": 74,
    "start_time": "2022-12-19T04:47:26.949Z"
   },
   {
    "duration": 65,
    "start_time": "2022-12-19T04:47:27.470Z"
   },
   {
    "duration": 8,
    "start_time": "2022-12-19T04:47:28.471Z"
   },
   {
    "duration": 8,
    "start_time": "2022-12-19T04:47:28.977Z"
   },
   {
    "duration": 71,
    "start_time": "2022-12-19T04:47:29.185Z"
   },
   {
    "duration": 3,
    "start_time": "2022-12-19T04:47:29.388Z"
   },
   {
    "duration": 3,
    "start_time": "2022-12-19T04:47:29.606Z"
   },
   {
    "duration": 55,
    "start_time": "2022-12-19T04:47:31.476Z"
   },
   {
    "duration": 3,
    "start_time": "2022-12-19T04:47:31.693Z"
   },
   {
    "duration": 13,
    "start_time": "2022-12-19T04:47:32.126Z"
   },
   {
    "duration": 2,
    "start_time": "2022-12-19T04:47:32.334Z"
   },
   {
    "duration": 3,
    "start_time": "2022-12-19T04:47:32.570Z"
   },
   {
    "duration": 8,
    "start_time": "2022-12-19T04:47:32.818Z"
   },
   {
    "duration": 3,
    "start_time": "2022-12-19T04:47:33.024Z"
   },
   {
    "duration": 61,
    "start_time": "2022-12-19T04:47:33.470Z"
   },
   {
    "duration": 12,
    "start_time": "2022-12-19T05:02:32.494Z"
   },
   {
    "duration": 36,
    "start_time": "2022-12-19T05:02:33.091Z"
   },
   {
    "duration": 6,
    "start_time": "2022-12-19T05:02:33.599Z"
   },
   {
    "duration": 173,
    "start_time": "2022-12-19T05:04:57.106Z"
   },
   {
    "duration": 225,
    "start_time": "2022-12-19T05:05:09.736Z"
   },
   {
    "duration": 1299,
    "start_time": "2022-12-19T05:07:48.210Z"
   },
   {
    "duration": 1336,
    "start_time": "2022-12-19T05:09:34.740Z"
   },
   {
    "duration": 95,
    "start_time": "2022-12-19T05:12:11.366Z"
   },
   {
    "duration": 8,
    "start_time": "2022-12-19T05:16:51.587Z"
   },
   {
    "duration": 1256,
    "start_time": "2022-12-19T05:22:07.835Z"
   },
   {
    "duration": 5,
    "start_time": "2022-12-19T05:25:44.092Z"
   },
   {
    "duration": 1334,
    "start_time": "2022-12-19T05:26:01.383Z"
   },
   {
    "duration": 261,
    "start_time": "2022-12-19T05:26:12.821Z"
   },
   {
    "duration": 9,
    "start_time": "2022-12-19T05:32:56.997Z"
   },
   {
    "duration": 4,
    "start_time": "2022-12-19T05:36:37.867Z"
   },
   {
    "duration": 10,
    "start_time": "2022-12-19T05:37:12.295Z"
   },
   {
    "duration": 5,
    "start_time": "2022-12-19T05:37:16.093Z"
   },
   {
    "duration": 165,
    "start_time": "2022-12-19T05:37:16.537Z"
   },
   {
    "duration": 3,
    "start_time": "2022-12-19T05:40:37.161Z"
   },
   {
    "duration": 5,
    "start_time": "2022-12-19T05:47:17.959Z"
   },
   {
    "duration": 48,
    "start_time": "2022-12-19T05:49:42.702Z"
   },
   {
    "duration": 10,
    "start_time": "2022-12-19T05:50:04.012Z"
   },
   {
    "duration": 9,
    "start_time": "2022-12-19T05:50:39.734Z"
   },
   {
    "duration": 5,
    "start_time": "2022-12-19T05:50:48.082Z"
   },
   {
    "duration": 4,
    "start_time": "2022-12-19T05:51:17.683Z"
   },
   {
    "duration": 4,
    "start_time": "2022-12-19T05:51:39.982Z"
   },
   {
    "duration": 5,
    "start_time": "2022-12-19T05:51:50.330Z"
   },
   {
    "duration": 4,
    "start_time": "2022-12-19T05:52:37.780Z"
   },
   {
    "duration": 12,
    "start_time": "2022-12-19T05:52:46.585Z"
   },
   {
    "duration": 5,
    "start_time": "2022-12-19T05:53:00.250Z"
   },
   {
    "duration": 4,
    "start_time": "2022-12-19T05:53:21.424Z"
   },
   {
    "duration": 4,
    "start_time": "2022-12-19T05:54:03.585Z"
   },
   {
    "duration": 5,
    "start_time": "2022-12-19T05:54:40.353Z"
   },
   {
    "duration": 4,
    "start_time": "2022-12-19T05:55:24.409Z"
   },
   {
    "duration": 175,
    "start_time": "2022-12-19T05:55:24.956Z"
   },
   {
    "duration": 7,
    "start_time": "2022-12-19T05:55:25.577Z"
   },
   {
    "duration": 25,
    "start_time": "2022-12-19T05:55:26.359Z"
   },
   {
    "duration": 43,
    "start_time": "2022-12-19T05:55:26.769Z"
   },
   {
    "duration": 47,
    "start_time": "2022-12-19T05:55:27.181Z"
   },
   {
    "duration": 45,
    "start_time": "2022-12-19T05:55:27.379Z"
   },
   {
    "duration": 6,
    "start_time": "2022-12-19T05:55:28.220Z"
   },
   {
    "duration": 6,
    "start_time": "2022-12-19T05:55:28.639Z"
   },
   {
    "duration": 58,
    "start_time": "2022-12-19T05:55:28.859Z"
   },
   {
    "duration": 2,
    "start_time": "2022-12-19T05:55:29.084Z"
   },
   {
    "duration": 2,
    "start_time": "2022-12-19T05:55:29.294Z"
   },
   {
    "duration": 4,
    "start_time": "2022-12-19T05:56:10.616Z"
   },
   {
    "duration": 4,
    "start_time": "2022-12-19T05:56:17.613Z"
   },
   {
    "duration": 287,
    "start_time": "2022-12-19T05:56:18.657Z"
   },
   {
    "duration": 346,
    "start_time": "2022-12-19T05:56:18.946Z"
   },
   {
    "duration": 30,
    "start_time": "2022-12-19T05:56:19.295Z"
   },
   {
    "duration": 175,
    "start_time": "2022-12-19T05:56:19.326Z"
   },
   {
    "duration": 30,
    "start_time": "2022-12-19T05:56:19.817Z"
   },
   {
    "duration": 10,
    "start_time": "2022-12-19T05:56:20.288Z"
   },
   {
    "duration": 179,
    "start_time": "2022-12-19T05:58:58.387Z"
   },
   {
    "duration": 4,
    "start_time": "2022-12-19T05:58:59.493Z"
   },
   {
    "duration": 10,
    "start_time": "2022-12-19T05:59:13.568Z"
   },
   {
    "duration": 11,
    "start_time": "2022-12-19T05:59:53.780Z"
   },
   {
    "duration": 11,
    "start_time": "2022-12-19T06:00:37.491Z"
   },
   {
    "duration": 10,
    "start_time": "2022-12-19T06:01:00.127Z"
   },
   {
    "duration": 12,
    "start_time": "2022-12-19T06:05:40.517Z"
   },
   {
    "duration": 53,
    "start_time": "2022-12-19T06:07:07.138Z"
   },
   {
    "duration": 52,
    "start_time": "2022-12-19T06:07:16.875Z"
   },
   {
    "duration": 46,
    "start_time": "2022-12-19T06:07:23.988Z"
   },
   {
    "duration": 1099,
    "start_time": "2022-12-19T06:08:15.156Z"
   },
   {
    "duration": 4,
    "start_time": "2022-12-19T06:08:16.258Z"
   },
   {
    "duration": 211,
    "start_time": "2022-12-19T06:08:16.264Z"
   },
   {
    "duration": 12,
    "start_time": "2022-12-19T06:08:16.477Z"
   },
   {
    "duration": 25,
    "start_time": "2022-12-19T06:08:16.491Z"
   },
   {
    "duration": 59,
    "start_time": "2022-12-19T06:08:16.518Z"
   },
   {
    "duration": 85,
    "start_time": "2022-12-19T06:08:16.579Z"
   },
   {
    "duration": 64,
    "start_time": "2022-12-19T06:08:16.665Z"
   },
   {
    "duration": 6,
    "start_time": "2022-12-19T06:08:16.731Z"
   },
   {
    "duration": 7,
    "start_time": "2022-12-19T06:08:16.740Z"
   },
   {
    "duration": 76,
    "start_time": "2022-12-19T06:08:16.748Z"
   },
   {
    "duration": 4,
    "start_time": "2022-12-19T06:08:16.826Z"
   },
   {
    "duration": 10,
    "start_time": "2022-12-19T06:08:16.832Z"
   },
   {
    "duration": 61,
    "start_time": "2022-12-19T06:08:16.843Z"
   },
   {
    "duration": 3,
    "start_time": "2022-12-19T06:08:16.906Z"
   },
   {
    "duration": 22,
    "start_time": "2022-12-19T06:08:16.911Z"
   },
   {
    "duration": 38,
    "start_time": "2022-12-19T06:08:16.935Z"
   },
   {
    "duration": 6,
    "start_time": "2022-12-19T06:08:16.975Z"
   },
   {
    "duration": 9,
    "start_time": "2022-12-19T06:08:16.982Z"
   },
   {
    "duration": 24,
    "start_time": "2022-12-19T06:08:16.993Z"
   },
   {
    "duration": 11,
    "start_time": "2022-12-19T06:08:17.019Z"
   },
   {
    "duration": 5,
    "start_time": "2022-12-19T06:08:17.031Z"
   },
   {
    "duration": 203,
    "start_time": "2022-12-19T06:08:17.037Z"
   },
   {
    "duration": 5,
    "start_time": "2022-12-19T06:08:17.241Z"
   },
   {
    "duration": 6,
    "start_time": "2022-12-19T06:08:17.247Z"
   },
   {
    "duration": 306,
    "start_time": "2022-12-19T06:08:17.255Z"
   },
   {
    "duration": 348,
    "start_time": "2022-12-19T06:08:17.563Z"
   },
   {
    "duration": 25,
    "start_time": "2022-12-19T06:08:17.917Z"
   },
   {
    "duration": 186,
    "start_time": "2022-12-19T06:08:17.943Z"
   },
   {
    "duration": 24,
    "start_time": "2022-12-19T06:08:18.130Z"
   },
   {
    "duration": 8,
    "start_time": "2022-12-19T06:08:18.156Z"
   },
   {
    "duration": 20,
    "start_time": "2022-12-19T06:08:18.165Z"
   },
   {
    "duration": 4,
    "start_time": "2022-12-19T06:08:18.186Z"
   },
   {
    "duration": 45,
    "start_time": "2022-12-19T06:08:18.191Z"
   },
   {
    "duration": 4,
    "start_time": "2022-12-19T06:08:18.238Z"
   },
   {
    "duration": 50,
    "start_time": "2022-12-19T06:08:18.244Z"
   },
   {
    "duration": 21,
    "start_time": "2022-12-19T06:08:18.295Z"
   },
   {
    "duration": 9,
    "start_time": "2022-12-19T06:08:18.318Z"
   },
   {
    "duration": 11,
    "start_time": "2022-12-19T06:08:18.329Z"
   },
   {
    "duration": 9,
    "start_time": "2022-12-19T06:08:18.342Z"
   },
   {
    "duration": 163,
    "start_time": "2022-12-19T06:08:18.353Z"
   },
   {
    "duration": 13,
    "start_time": "2022-12-19T06:08:18.517Z"
   },
   {
    "duration": 4,
    "start_time": "2022-12-19T06:08:18.531Z"
   },
   {
    "duration": 7,
    "start_time": "2022-12-19T06:08:18.536Z"
   },
   {
    "duration": 5,
    "start_time": "2022-12-19T06:08:18.544Z"
   },
   {
    "duration": 5,
    "start_time": "2022-12-19T06:08:18.550Z"
   },
   {
    "duration": 6,
    "start_time": "2022-12-19T06:08:18.557Z"
   },
   {
    "duration": 65,
    "start_time": "2022-12-19T06:08:18.565Z"
   },
   {
    "duration": 19,
    "start_time": "2022-12-19T06:08:18.632Z"
   },
   {
    "duration": 66,
    "start_time": "2022-12-19T06:08:18.652Z"
   },
   {
    "duration": 13,
    "start_time": "2022-12-19T06:08:18.720Z"
   },
   {
    "duration": 82,
    "start_time": "2022-12-19T06:08:18.735Z"
   },
   {
    "duration": 3,
    "start_time": "2022-12-19T06:08:18.819Z"
   },
   {
    "duration": 9,
    "start_time": "2022-12-19T06:08:18.823Z"
   },
   {
    "duration": 7,
    "start_time": "2022-12-19T06:08:18.833Z"
   },
   {
    "duration": 11,
    "start_time": "2022-12-19T06:08:18.841Z"
   },
   {
    "duration": 10,
    "start_time": "2022-12-19T06:08:18.853Z"
   },
   {
    "duration": 4,
    "start_time": "2022-12-19T06:08:18.865Z"
   },
   {
    "duration": 7,
    "start_time": "2022-12-19T06:08:18.871Z"
   },
   {
    "duration": 6,
    "start_time": "2022-12-19T06:08:18.879Z"
   },
   {
    "duration": 39,
    "start_time": "2022-12-19T06:08:18.886Z"
   },
   {
    "duration": 12,
    "start_time": "2022-12-19T06:08:18.927Z"
   },
   {
    "duration": 11,
    "start_time": "2022-12-19T06:08:18.940Z"
   },
   {
    "duration": 3,
    "start_time": "2022-12-19T06:08:18.953Z"
   },
   {
    "duration": 13,
    "start_time": "2022-12-19T06:08:18.958Z"
   },
   {
    "duration": 45,
    "start_time": "2022-12-19T06:08:18.973Z"
   },
   {
    "duration": 4,
    "start_time": "2022-12-24T08:21:51.651Z"
   },
   {
    "duration": 3,
    "start_time": "2022-12-24T08:21:51.860Z"
   },
   {
    "duration": 171,
    "start_time": "2022-12-24T08:21:52.043Z"
   },
   {
    "duration": 7,
    "start_time": "2022-12-24T08:21:52.638Z"
   },
   {
    "duration": 18,
    "start_time": "2022-12-24T08:21:53.250Z"
   },
   {
    "duration": 47,
    "start_time": "2022-12-24T08:21:53.649Z"
   },
   {
    "duration": 50,
    "start_time": "2022-12-24T08:21:54.067Z"
   },
   {
    "duration": 44,
    "start_time": "2022-12-24T08:21:54.282Z"
   },
   {
    "duration": 6,
    "start_time": "2022-12-24T08:21:55.096Z"
   },
   {
    "duration": 7,
    "start_time": "2022-12-24T08:21:55.479Z"
   },
   {
    "duration": 63,
    "start_time": "2022-12-24T08:21:55.689Z"
   },
   {
    "duration": 3,
    "start_time": "2022-12-24T08:21:55.887Z"
   },
   {
    "duration": 2,
    "start_time": "2022-12-24T08:21:56.093Z"
   },
   {
    "duration": 38,
    "start_time": "2022-12-24T08:21:57.331Z"
   },
   {
    "duration": 3,
    "start_time": "2022-12-24T08:21:57.538Z"
   },
   {
    "duration": 10,
    "start_time": "2022-12-24T08:21:57.964Z"
   },
   {
    "duration": 28,
    "start_time": "2022-12-24T08:21:58.164Z"
   },
   {
    "duration": 5,
    "start_time": "2022-12-24T08:21:58.383Z"
   },
   {
    "duration": 8,
    "start_time": "2022-12-24T08:21:58.578Z"
   },
   {
    "duration": 3,
    "start_time": "2022-12-24T08:21:58.800Z"
   },
   {
    "duration": 7,
    "start_time": "2022-12-24T08:21:59.204Z"
   },
   {
    "duration": 4,
    "start_time": "2022-12-24T08:21:59.855Z"
   },
   {
    "duration": 192,
    "start_time": "2022-12-24T08:22:00.066Z"
   },
   {
    "duration": 5,
    "start_time": "2022-12-24T08:22:00.471Z"
   },
   {
    "duration": 337,
    "start_time": "2022-12-24T08:22:01.303Z"
   },
   {
    "duration": 326,
    "start_time": "2022-12-24T08:22:01.643Z"
   },
   {
    "duration": 23,
    "start_time": "2022-12-24T08:22:01.971Z"
   },
   {
    "duration": 189,
    "start_time": "2022-12-24T08:22:01.995Z"
   },
   {
    "duration": 18,
    "start_time": "2022-12-24T08:22:02.372Z"
   },
   {
    "duration": 8,
    "start_time": "2022-12-24T08:22:02.587Z"
   },
   {
    "duration": 14,
    "start_time": "2022-12-24T08:22:03.480Z"
   },
   {
    "duration": 3,
    "start_time": "2022-12-24T08:22:03.960Z"
   },
   {
    "duration": 28,
    "start_time": "2022-12-24T08:22:04.618Z"
   },
   {
    "duration": 5,
    "start_time": "2022-12-24T08:22:04.842Z"
   },
   {
    "duration": 11,
    "start_time": "2022-12-24T08:54:19.695Z"
   },
   {
    "duration": 7,
    "start_time": "2022-12-24T08:54:43.557Z"
   },
   {
    "duration": 19,
    "start_time": "2022-12-24T08:54:44.157Z"
   },
   {
    "duration": 25,
    "start_time": "2022-12-24T08:54:58.984Z"
   },
   {
    "duration": 6,
    "start_time": "2022-12-24T08:55:08.793Z"
   },
   {
    "duration": 19,
    "start_time": "2022-12-24T08:55:09.263Z"
   },
   {
    "duration": 1214,
    "start_time": "2022-12-24T08:55:25.524Z"
   },
   {
    "duration": 5,
    "start_time": "2022-12-24T08:55:26.741Z"
   },
   {
    "duration": 214,
    "start_time": "2022-12-24T08:55:26.747Z"
   },
   {
    "duration": 12,
    "start_time": "2022-12-24T08:55:26.963Z"
   },
   {
    "duration": 37,
    "start_time": "2022-12-24T08:55:26.979Z"
   },
   {
    "duration": 65,
    "start_time": "2022-12-24T08:55:27.025Z"
   },
   {
    "duration": 105,
    "start_time": "2022-12-24T08:55:27.092Z"
   },
   {
    "duration": 83,
    "start_time": "2022-12-24T08:55:27.199Z"
   },
   {
    "duration": 8,
    "start_time": "2022-12-24T08:55:27.284Z"
   },
   {
    "duration": 22,
    "start_time": "2022-12-24T08:55:27.294Z"
   },
   {
    "duration": 78,
    "start_time": "2022-12-24T08:55:27.318Z"
   },
   {
    "duration": 5,
    "start_time": "2022-12-24T08:55:27.398Z"
   },
   {
    "duration": 28,
    "start_time": "2022-12-24T08:55:27.405Z"
   },
   {
    "duration": 61,
    "start_time": "2022-12-24T08:55:27.438Z"
   },
   {
    "duration": 4,
    "start_time": "2022-12-24T08:55:27.501Z"
   },
   {
    "duration": 20,
    "start_time": "2022-12-24T08:55:27.506Z"
   },
   {
    "duration": 46,
    "start_time": "2022-12-24T08:55:27.527Z"
   },
   {
    "duration": 6,
    "start_time": "2022-12-24T08:55:27.575Z"
   },
   {
    "duration": 12,
    "start_time": "2022-12-24T08:55:27.582Z"
   },
   {
    "duration": 3,
    "start_time": "2022-12-24T08:55:27.596Z"
   },
   {
    "duration": 23,
    "start_time": "2022-12-24T08:55:27.601Z"
   },
   {
    "duration": 23,
    "start_time": "2022-12-24T08:55:27.625Z"
   },
   {
    "duration": 233,
    "start_time": "2022-12-24T08:55:27.650Z"
   },
   {
    "duration": 5,
    "start_time": "2022-12-24T08:55:27.885Z"
   },
   {
    "duration": 312,
    "start_time": "2022-12-24T08:55:27.892Z"
   },
   {
    "duration": 359,
    "start_time": "2022-12-24T08:55:28.206Z"
   },
   {
    "duration": 27,
    "start_time": "2022-12-24T08:55:28.567Z"
   },
   {
    "duration": 213,
    "start_time": "2022-12-24T08:55:28.596Z"
   },
   {
    "duration": 26,
    "start_time": "2022-12-24T08:55:28.810Z"
   },
   {
    "duration": 9,
    "start_time": "2022-12-24T08:55:28.838Z"
   },
   {
    "duration": 16,
    "start_time": "2022-12-24T08:55:28.849Z"
   },
   {
    "duration": 3,
    "start_time": "2022-12-24T08:55:28.867Z"
   },
   {
    "duration": 55,
    "start_time": "2022-12-24T08:55:28.872Z"
   },
   {
    "duration": 8,
    "start_time": "2022-12-24T08:55:28.929Z"
   },
   {
    "duration": 61,
    "start_time": "2022-12-24T08:55:28.939Z"
   },
   {
    "duration": 19,
    "start_time": "2022-12-24T08:55:29.001Z"
   },
   {
    "duration": 24,
    "start_time": "2022-12-24T08:55:29.024Z"
   },
   {
    "duration": 16,
    "start_time": "2022-12-24T08:55:29.050Z"
   },
   {
    "duration": 15,
    "start_time": "2022-12-24T08:55:29.067Z"
   },
   {
    "duration": 235,
    "start_time": "2022-12-24T08:55:29.084Z"
   },
   {
    "duration": 15,
    "start_time": "2022-12-24T08:55:29.323Z"
   },
   {
    "duration": 9,
    "start_time": "2022-12-24T08:55:29.339Z"
   },
   {
    "duration": 7,
    "start_time": "2022-12-24T08:55:29.350Z"
   },
   {
    "duration": 7,
    "start_time": "2022-12-24T08:55:29.359Z"
   },
   {
    "duration": 68,
    "start_time": "2022-12-24T08:55:29.368Z"
   },
   {
    "duration": 17,
    "start_time": "2022-12-24T08:55:29.438Z"
   },
   {
    "duration": 26,
    "start_time": "2022-12-24T08:55:29.457Z"
   },
   {
    "duration": 53,
    "start_time": "2022-12-24T08:55:29.485Z"
   },
   {
    "duration": 24,
    "start_time": "2022-12-24T08:55:29.540Z"
   },
   {
    "duration": 14,
    "start_time": "2022-12-24T08:55:29.566Z"
   },
   {
    "duration": 99,
    "start_time": "2022-12-24T08:55:29.582Z"
   },
   {
    "duration": 3,
    "start_time": "2022-12-24T08:55:29.683Z"
   },
   {
    "duration": 14,
    "start_time": "2022-12-24T08:55:29.688Z"
   },
   {
    "duration": 8,
    "start_time": "2022-12-24T08:55:29.714Z"
   },
   {
    "duration": 19,
    "start_time": "2022-12-24T08:55:29.725Z"
   },
   {
    "duration": 12,
    "start_time": "2022-12-24T08:55:29.746Z"
   },
   {
    "duration": 8,
    "start_time": "2022-12-24T08:55:29.759Z"
   },
   {
    "duration": 9,
    "start_time": "2022-12-24T08:55:29.768Z"
   },
   {
    "duration": 11,
    "start_time": "2022-12-24T08:55:29.779Z"
   },
   {
    "duration": 22,
    "start_time": "2022-12-24T08:55:29.792Z"
   },
   {
    "duration": 32,
    "start_time": "2022-12-24T08:55:29.822Z"
   },
   {
    "duration": 17,
    "start_time": "2022-12-24T08:55:29.856Z"
   },
   {
    "duration": 4,
    "start_time": "2022-12-24T08:55:29.875Z"
   },
   {
    "duration": 9,
    "start_time": "2022-12-24T08:55:29.881Z"
   },
   {
    "duration": 30,
    "start_time": "2022-12-24T08:55:29.891Z"
   },
   {
    "duration": 13,
    "start_time": "2022-12-24T08:56:03.574Z"
   },
   {
    "duration": 11,
    "start_time": "2022-12-24T08:56:08.950Z"
   },
   {
    "duration": 15,
    "start_time": "2022-12-24T08:56:10.467Z"
   },
   {
    "duration": 3,
    "start_time": "2022-12-24T09:28:51.164Z"
   },
   {
    "duration": 4,
    "start_time": "2022-12-24T09:28:51.920Z"
   },
   {
    "duration": 4,
    "start_time": "2022-12-24T09:28:52.163Z"
   },
   {
    "duration": 17,
    "start_time": "2022-12-24T09:28:52.386Z"
   },
   {
    "duration": 18,
    "start_time": "2022-12-24T09:28:52.853Z"
   },
   {
    "duration": 17,
    "start_time": "2022-12-24T09:28:53.062Z"
   },
   {
    "duration": 12,
    "start_time": "2022-12-24T09:28:54.147Z"
   },
   {
    "duration": 66,
    "start_time": "2022-12-24T09:28:54.374Z"
   },
   {
    "duration": 4,
    "start_time": "2022-12-24T09:28:54.577Z"
   },
   {
    "duration": 7,
    "start_time": "2022-12-24T09:28:54.853Z"
   },
   {
    "duration": 5,
    "start_time": "2022-12-24T09:28:55.030Z"
   },
   {
    "duration": 4,
    "start_time": "2022-12-24T09:28:55.271Z"
   },
   {
    "duration": 7,
    "start_time": "2022-12-24T09:28:55.527Z"
   },
   {
    "duration": 4,
    "start_time": "2022-12-24T09:28:56.162Z"
   },
   {
    "duration": 5,
    "start_time": "2022-12-24T09:28:56.858Z"
   },
   {
    "duration": 7,
    "start_time": "2022-12-24T09:28:57.300Z"
   },
   {
    "duration": 12,
    "start_time": "2022-12-24T09:28:57.523Z"
   },
   {
    "duration": 12,
    "start_time": "2022-12-24T09:28:59.157Z"
   },
   {
    "duration": 11,
    "start_time": "2022-12-24T09:28:59.362Z"
   },
   {
    "duration": 4,
    "start_time": "2022-12-24T09:29:00.003Z"
   },
   {
    "duration": 7,
    "start_time": "2022-12-24T09:29:00.715Z"
   },
   {
    "duration": 17,
    "start_time": "2022-12-24T09:29:00.956Z"
   },
   {
    "duration": 103,
    "start_time": "2022-12-24T09:32:36.294Z"
   },
   {
    "duration": 4,
    "start_time": "2022-12-24T09:33:03.181Z"
   },
   {
    "duration": 5,
    "start_time": "2022-12-24T09:33:10.281Z"
   },
   {
    "duration": 6,
    "start_time": "2022-12-24T09:33:32.058Z"
   },
   {
    "duration": 4,
    "start_time": "2022-12-24T09:34:06.310Z"
   },
   {
    "duration": 4,
    "start_time": "2022-12-24T09:34:45.369Z"
   },
   {
    "duration": 73,
    "start_time": "2022-12-24T17:04:33.525Z"
   },
   {
    "duration": 6,
    "start_time": "2022-12-24T17:04:55.085Z"
   },
   {
    "duration": 12,
    "start_time": "2022-12-24T17:04:58.348Z"
   },
   {
    "duration": 5,
    "start_time": "2022-12-24T17:05:12.225Z"
   },
   {
    "duration": 9,
    "start_time": "2022-12-24T17:05:12.771Z"
   },
   {
    "duration": 5,
    "start_time": "2022-12-24T17:05:42.325Z"
   },
   {
    "duration": 9,
    "start_time": "2022-12-24T17:05:42.763Z"
   },
   {
    "duration": 11,
    "start_time": "2022-12-24T17:06:00.613Z"
   },
   {
    "duration": 9,
    "start_time": "2022-12-24T17:06:04.069Z"
   },
   {
    "duration": 10,
    "start_time": "2022-12-24T17:06:04.524Z"
   },
   {
    "duration": 3,
    "start_time": "2022-12-24T17:06:06.069Z"
   },
   {
    "duration": 8,
    "start_time": "2022-12-24T17:06:06.353Z"
   },
   {
    "duration": 10,
    "start_time": "2022-12-24T17:06:06.556Z"
   },
   {
    "duration": 52,
    "start_time": "2022-12-26T10:51:36.877Z"
   },
   {
    "duration": 5,
    "start_time": "2022-12-26T10:51:40.873Z"
   },
   {
    "duration": 6,
    "start_time": "2022-12-26T10:51:41.770Z"
   },
   {
    "duration": 1382,
    "start_time": "2022-12-26T10:51:50.317Z"
   },
   {
    "duration": 4,
    "start_time": "2022-12-26T10:51:51.701Z"
   },
   {
    "duration": 675,
    "start_time": "2022-12-26T10:51:51.707Z"
   },
   {
    "duration": 12,
    "start_time": "2022-12-26T10:51:52.385Z"
   },
   {
    "duration": 44,
    "start_time": "2022-12-26T10:51:52.399Z"
   },
   {
    "duration": 91,
    "start_time": "2022-12-26T10:51:52.445Z"
   },
   {
    "duration": 105,
    "start_time": "2022-12-26T10:51:52.539Z"
   },
   {
    "duration": 64,
    "start_time": "2022-12-26T10:51:52.646Z"
   },
   {
    "duration": 24,
    "start_time": "2022-12-26T10:51:52.712Z"
   },
   {
    "duration": 9,
    "start_time": "2022-12-26T10:51:52.739Z"
   },
   {
    "duration": 96,
    "start_time": "2022-12-26T10:51:52.750Z"
   },
   {
    "duration": 3,
    "start_time": "2022-12-26T10:51:52.847Z"
   },
   {
    "duration": 39,
    "start_time": "2022-12-26T10:51:52.851Z"
   },
   {
    "duration": 82,
    "start_time": "2022-12-26T10:51:52.892Z"
   },
   {
    "duration": 3,
    "start_time": "2022-12-26T10:51:52.976Z"
   },
   {
    "duration": 57,
    "start_time": "2022-12-26T10:51:52.980Z"
   },
   {
    "duration": 53,
    "start_time": "2022-12-26T10:51:53.038Z"
   },
   {
    "duration": 6,
    "start_time": "2022-12-26T10:51:53.092Z"
   },
   {
    "duration": 14,
    "start_time": "2022-12-26T10:51:53.100Z"
   },
   {
    "duration": 29,
    "start_time": "2022-12-26T10:51:53.115Z"
   },
   {
    "duration": 37,
    "start_time": "2022-12-26T10:51:53.146Z"
   },
   {
    "duration": 25,
    "start_time": "2022-12-26T10:51:53.185Z"
   },
   {
    "duration": 212,
    "start_time": "2022-12-26T10:51:53.212Z"
   },
   {
    "duration": 11,
    "start_time": "2022-12-26T10:51:53.426Z"
   },
   {
    "duration": 283,
    "start_time": "2022-12-26T10:51:53.438Z"
   },
   {
    "duration": 352,
    "start_time": "2022-12-26T10:51:53.723Z"
   },
   {
    "duration": 28,
    "start_time": "2022-12-26T10:51:54.078Z"
   },
   {
    "duration": 196,
    "start_time": "2022-12-26T10:51:54.111Z"
   },
   {
    "duration": 37,
    "start_time": "2022-12-26T10:51:54.309Z"
   },
   {
    "duration": 9,
    "start_time": "2022-12-26T10:51:54.348Z"
   },
   {
    "duration": 28,
    "start_time": "2022-12-26T10:51:54.359Z"
   },
   {
    "duration": 3,
    "start_time": "2022-12-26T10:51:54.389Z"
   },
   {
    "duration": 41,
    "start_time": "2022-12-26T10:51:54.394Z"
   },
   {
    "duration": 4,
    "start_time": "2022-12-26T10:51:54.437Z"
   },
   {
    "duration": 67,
    "start_time": "2022-12-26T10:51:54.442Z"
   },
   {
    "duration": 8,
    "start_time": "2022-12-26T10:51:54.510Z"
   },
   {
    "duration": 18,
    "start_time": "2022-12-26T10:51:54.520Z"
   },
   {
    "duration": 19,
    "start_time": "2022-12-26T10:51:54.540Z"
   },
   {
    "duration": 22,
    "start_time": "2022-12-26T10:51:54.561Z"
   },
   {
    "duration": 205,
    "start_time": "2022-12-26T10:51:54.584Z"
   },
   {
    "duration": 14,
    "start_time": "2022-12-26T10:51:54.790Z"
   },
   {
    "duration": 11,
    "start_time": "2022-12-26T10:51:54.805Z"
   },
   {
    "duration": 4,
    "start_time": "2022-12-26T10:51:54.836Z"
   },
   {
    "duration": 14,
    "start_time": "2022-12-26T10:51:54.842Z"
   },
   {
    "duration": 12,
    "start_time": "2022-12-26T10:51:54.858Z"
   },
   {
    "duration": 35,
    "start_time": "2022-12-26T10:51:54.872Z"
   },
   {
    "duration": 46,
    "start_time": "2022-12-26T10:51:54.909Z"
   },
   {
    "duration": 32,
    "start_time": "2022-12-26T10:51:54.957Z"
   },
   {
    "duration": 19,
    "start_time": "2022-12-26T10:51:54.991Z"
   },
   {
    "duration": 28,
    "start_time": "2022-12-26T10:51:55.012Z"
   },
   {
    "duration": 90,
    "start_time": "2022-12-26T10:51:55.042Z"
   },
   {
    "duration": 3,
    "start_time": "2022-12-26T10:51:55.134Z"
   },
   {
    "duration": 18,
    "start_time": "2022-12-26T10:51:55.139Z"
   },
   {
    "duration": 28,
    "start_time": "2022-12-26T10:51:55.159Z"
   },
   {
    "duration": 22,
    "start_time": "2022-12-26T10:51:55.189Z"
   },
   {
    "duration": 35,
    "start_time": "2022-12-26T10:51:55.213Z"
   },
   {
    "duration": 25,
    "start_time": "2022-12-26T10:51:55.249Z"
   },
   {
    "duration": 16,
    "start_time": "2022-12-26T10:51:55.276Z"
   },
   {
    "duration": 59,
    "start_time": "2022-12-26T10:51:55.294Z"
   },
   {
    "duration": 16,
    "start_time": "2022-12-26T10:51:55.354Z"
   },
   {
    "duration": 39,
    "start_time": "2022-12-26T10:51:55.373Z"
   },
   {
    "duration": 23,
    "start_time": "2022-12-26T10:51:55.414Z"
   },
   {
    "duration": 36,
    "start_time": "2022-12-26T10:51:55.439Z"
   },
   {
    "duration": 18,
    "start_time": "2022-12-26T10:51:55.476Z"
   },
   {
    "duration": 22,
    "start_time": "2022-12-26T10:51:55.496Z"
   },
   {
    "duration": 33,
    "start_time": "2022-12-26T10:51:55.520Z"
   },
   {
    "duration": 6,
    "start_time": "2022-12-26T10:52:21.549Z"
   },
   {
    "duration": 9,
    "start_time": "2022-12-26T10:52:45.409Z"
   },
   {
    "duration": 1254,
    "start_time": "2022-12-26T10:53:37.940Z"
   },
   {
    "duration": 4,
    "start_time": "2022-12-26T10:53:39.196Z"
   },
   {
    "duration": 230,
    "start_time": "2022-12-26T10:53:39.202Z"
   },
   {
    "duration": 13,
    "start_time": "2022-12-26T10:53:39.435Z"
   },
   {
    "duration": 31,
    "start_time": "2022-12-26T10:53:39.451Z"
   },
   {
    "duration": 86,
    "start_time": "2022-12-26T10:53:39.485Z"
   },
   {
    "duration": 97,
    "start_time": "2022-12-26T10:53:39.573Z"
   },
   {
    "duration": 71,
    "start_time": "2022-12-26T10:53:39.672Z"
   },
   {
    "duration": 8,
    "start_time": "2022-12-26T10:53:39.745Z"
   },
   {
    "duration": 10,
    "start_time": "2022-12-26T10:53:39.755Z"
   },
   {
    "duration": 99,
    "start_time": "2022-12-26T10:53:39.766Z"
   },
   {
    "duration": 37,
    "start_time": "2022-12-26T10:53:39.867Z"
   },
   {
    "duration": 13,
    "start_time": "2022-12-26T10:53:39.905Z"
   },
   {
    "duration": 92,
    "start_time": "2022-12-26T10:53:39.921Z"
   },
   {
    "duration": 4,
    "start_time": "2022-12-26T10:53:40.015Z"
   },
   {
    "duration": 26,
    "start_time": "2022-12-26T10:53:40.021Z"
   },
   {
    "duration": 56,
    "start_time": "2022-12-26T10:53:40.049Z"
   },
   {
    "duration": 6,
    "start_time": "2022-12-26T10:53:40.107Z"
   },
   {
    "duration": 22,
    "start_time": "2022-12-26T10:53:40.115Z"
   },
   {
    "duration": 6,
    "start_time": "2022-12-26T10:53:40.138Z"
   },
   {
    "duration": 14,
    "start_time": "2022-12-26T10:53:40.145Z"
   },
   {
    "duration": 11,
    "start_time": "2022-12-26T10:53:40.161Z"
   },
   {
    "duration": 225,
    "start_time": "2022-12-26T10:53:40.174Z"
   },
   {
    "duration": 5,
    "start_time": "2022-12-26T10:53:40.401Z"
   },
   {
    "duration": 308,
    "start_time": "2022-12-26T10:53:40.407Z"
   },
   {
    "duration": 356,
    "start_time": "2022-12-26T10:53:40.716Z"
   },
   {
    "duration": 29,
    "start_time": "2022-12-26T10:53:41.074Z"
   },
   {
    "duration": 216,
    "start_time": "2022-12-26T10:53:41.105Z"
   },
   {
    "duration": 34,
    "start_time": "2022-12-26T10:53:41.323Z"
   },
   {
    "duration": 9,
    "start_time": "2022-12-26T10:53:41.359Z"
   },
   {
    "duration": 33,
    "start_time": "2022-12-26T10:53:41.370Z"
   },
   {
    "duration": 29,
    "start_time": "2022-12-26T10:53:41.405Z"
   },
   {
    "duration": 48,
    "start_time": "2022-12-26T10:53:41.436Z"
   },
   {
    "duration": 4,
    "start_time": "2022-12-26T10:53:41.486Z"
   },
   {
    "duration": 63,
    "start_time": "2022-12-26T10:53:41.492Z"
   },
   {
    "duration": 8,
    "start_time": "2022-12-26T10:53:41.557Z"
   },
   {
    "duration": 13,
    "start_time": "2022-12-26T10:53:41.567Z"
   },
   {
    "duration": 13,
    "start_time": "2022-12-26T10:53:41.582Z"
   },
   {
    "duration": 27,
    "start_time": "2022-12-26T10:53:41.597Z"
   },
   {
    "duration": 154,
    "start_time": "2022-12-26T10:53:41.626Z"
   },
   {
    "duration": 14,
    "start_time": "2022-12-26T10:53:41.784Z"
   },
   {
    "duration": 37,
    "start_time": "2022-12-26T10:53:41.800Z"
   },
   {
    "duration": 27,
    "start_time": "2022-12-26T10:53:41.838Z"
   },
   {
    "duration": 20,
    "start_time": "2022-12-26T10:53:41.867Z"
   },
   {
    "duration": 22,
    "start_time": "2022-12-26T10:53:41.889Z"
   },
   {
    "duration": 49,
    "start_time": "2022-12-26T10:53:41.912Z"
   },
   {
    "duration": 35,
    "start_time": "2022-12-26T10:53:41.963Z"
   },
   {
    "duration": 27,
    "start_time": "2022-12-26T10:53:42.000Z"
   },
   {
    "duration": 21,
    "start_time": "2022-12-26T10:53:42.029Z"
   },
   {
    "duration": 22,
    "start_time": "2022-12-26T10:53:42.053Z"
   },
   {
    "duration": 93,
    "start_time": "2022-12-26T10:53:42.077Z"
   },
   {
    "duration": 3,
    "start_time": "2022-12-26T10:53:42.171Z"
   },
   {
    "duration": 22,
    "start_time": "2022-12-26T10:53:42.176Z"
   },
   {
    "duration": 11,
    "start_time": "2022-12-26T10:53:42.200Z"
   },
   {
    "duration": 14,
    "start_time": "2022-12-26T10:53:42.213Z"
   },
   {
    "duration": 18,
    "start_time": "2022-12-26T10:53:42.229Z"
   },
   {
    "duration": 18,
    "start_time": "2022-12-26T10:53:42.249Z"
   },
   {
    "duration": 13,
    "start_time": "2022-12-26T10:53:42.268Z"
   },
   {
    "duration": 9,
    "start_time": "2022-12-26T10:53:42.283Z"
   },
   {
    "duration": 26,
    "start_time": "2022-12-26T10:53:42.293Z"
   },
   {
    "duration": 24,
    "start_time": "2022-12-26T10:53:42.320Z"
   },
   {
    "duration": 32,
    "start_time": "2022-12-26T10:53:42.345Z"
   },
   {
    "duration": 24,
    "start_time": "2022-12-26T10:53:42.379Z"
   },
   {
    "duration": 73,
    "start_time": "2022-12-26T10:53:42.405Z"
   },
   {
    "duration": 10,
    "start_time": "2022-12-26T10:53:42.481Z"
   },
   {
    "duration": 21,
    "start_time": "2022-12-26T10:53:42.493Z"
   },
   {
    "duration": 31,
    "start_time": "2022-12-26T10:53:42.516Z"
   },
   {
    "duration": 1244,
    "start_time": "2022-12-26T10:55:13.822Z"
   },
   {
    "duration": 4,
    "start_time": "2022-12-26T10:55:15.068Z"
   },
   {
    "duration": 225,
    "start_time": "2022-12-26T10:55:15.073Z"
   },
   {
    "duration": 17,
    "start_time": "2022-12-26T10:55:15.300Z"
   },
   {
    "duration": 50,
    "start_time": "2022-12-26T10:55:15.319Z"
   },
   {
    "duration": 75,
    "start_time": "2022-12-26T10:55:15.371Z"
   },
   {
    "duration": 91,
    "start_time": "2022-12-26T10:55:15.448Z"
   },
   {
    "duration": 59,
    "start_time": "2022-12-26T10:55:15.541Z"
   },
   {
    "duration": 8,
    "start_time": "2022-12-26T10:55:15.602Z"
   },
   {
    "duration": 37,
    "start_time": "2022-12-26T10:55:15.614Z"
   },
   {
    "duration": 85,
    "start_time": "2022-12-26T10:55:15.654Z"
   },
   {
    "duration": 19,
    "start_time": "2022-12-26T10:55:15.741Z"
   },
   {
    "duration": 20,
    "start_time": "2022-12-26T10:55:15.763Z"
   },
   {
    "duration": 70,
    "start_time": "2022-12-26T10:55:15.785Z"
   },
   {
    "duration": 4,
    "start_time": "2022-12-26T10:55:15.858Z"
   },
   {
    "duration": 29,
    "start_time": "2022-12-26T10:55:15.864Z"
   },
   {
    "duration": 47,
    "start_time": "2022-12-26T10:55:15.895Z"
   },
   {
    "duration": 10,
    "start_time": "2022-12-26T10:55:15.944Z"
   },
   {
    "duration": 25,
    "start_time": "2022-12-26T10:55:15.956Z"
   },
   {
    "duration": 23,
    "start_time": "2022-12-26T10:55:15.984Z"
   },
   {
    "duration": 29,
    "start_time": "2022-12-26T10:55:16.010Z"
   },
   {
    "duration": 15,
    "start_time": "2022-12-26T10:55:16.041Z"
   },
   {
    "duration": 222,
    "start_time": "2022-12-26T10:55:16.058Z"
   },
   {
    "duration": 6,
    "start_time": "2022-12-26T10:55:16.283Z"
   },
   {
    "duration": 324,
    "start_time": "2022-12-26T10:55:16.290Z"
   },
   {
    "duration": 403,
    "start_time": "2022-12-26T10:55:16.616Z"
   },
   {
    "duration": 36,
    "start_time": "2022-12-26T10:55:17.021Z"
   },
   {
    "duration": 206,
    "start_time": "2022-12-26T10:55:17.063Z"
   },
   {
    "duration": 25,
    "start_time": "2022-12-26T10:55:17.271Z"
   },
   {
    "duration": 10,
    "start_time": "2022-12-26T10:55:17.298Z"
   },
   {
    "duration": 38,
    "start_time": "2022-12-26T10:55:17.309Z"
   },
   {
    "duration": 4,
    "start_time": "2022-12-26T10:55:17.349Z"
   },
   {
    "duration": 42,
    "start_time": "2022-12-26T10:55:17.355Z"
   },
   {
    "duration": 5,
    "start_time": "2022-12-26T10:55:17.399Z"
   },
   {
    "duration": 78,
    "start_time": "2022-12-26T10:55:17.406Z"
   },
   {
    "duration": 8,
    "start_time": "2022-12-26T10:55:17.485Z"
   },
   {
    "duration": 18,
    "start_time": "2022-12-26T10:55:17.494Z"
   },
   {
    "duration": 30,
    "start_time": "2022-12-26T10:55:17.514Z"
   },
   {
    "duration": 29,
    "start_time": "2022-12-26T10:55:17.545Z"
   },
   {
    "duration": 156,
    "start_time": "2022-12-26T10:55:17.576Z"
   },
   {
    "duration": 19,
    "start_time": "2022-12-26T10:55:17.734Z"
   },
   {
    "duration": 6,
    "start_time": "2022-12-26T10:55:17.755Z"
   },
   {
    "duration": 11,
    "start_time": "2022-12-26T10:55:17.763Z"
   },
   {
    "duration": 60,
    "start_time": "2022-12-26T10:55:17.776Z"
   },
   {
    "duration": 3,
    "start_time": "2022-12-26T10:55:17.838Z"
   },
   {
    "duration": 17,
    "start_time": "2022-12-26T10:55:17.843Z"
   },
   {
    "duration": 25,
    "start_time": "2022-12-26T10:55:17.863Z"
   },
   {
    "duration": 19,
    "start_time": "2022-12-26T10:55:17.935Z"
   },
   {
    "duration": 19,
    "start_time": "2022-12-26T10:55:17.955Z"
   },
   {
    "duration": 14,
    "start_time": "2022-12-26T10:55:17.976Z"
   },
   {
    "duration": 107,
    "start_time": "2022-12-26T10:55:17.992Z"
   },
   {
    "duration": 3,
    "start_time": "2022-12-26T10:55:18.101Z"
   },
   {
    "duration": 23,
    "start_time": "2022-12-26T10:55:18.106Z"
   },
   {
    "duration": 14,
    "start_time": "2022-12-26T10:55:18.130Z"
   },
   {
    "duration": 8,
    "start_time": "2022-12-26T10:55:18.146Z"
   },
   {
    "duration": 15,
    "start_time": "2022-12-26T10:55:18.155Z"
   },
   {
    "duration": 9,
    "start_time": "2022-12-26T10:55:18.172Z"
   },
   {
    "duration": 11,
    "start_time": "2022-12-26T10:55:18.183Z"
   },
   {
    "duration": 9,
    "start_time": "2022-12-26T10:55:18.195Z"
   },
   {
    "duration": 23,
    "start_time": "2022-12-26T10:55:18.206Z"
   },
   {
    "duration": 11,
    "start_time": "2022-12-26T10:55:18.231Z"
   },
   {
    "duration": 1098,
    "start_time": "2022-12-26T10:55:18.244Z"
   },
   {
    "duration": 0,
    "start_time": "2022-12-26T10:55:19.345Z"
   },
   {
    "duration": 0,
    "start_time": "2022-12-26T10:55:19.346Z"
   },
   {
    "duration": 0,
    "start_time": "2022-12-26T10:55:19.347Z"
   },
   {
    "duration": 0,
    "start_time": "2022-12-26T10:55:19.349Z"
   },
   {
    "duration": 0,
    "start_time": "2022-12-26T10:55:19.350Z"
   },
   {
    "duration": 10,
    "start_time": "2022-12-26T11:18:39.365Z"
   },
   {
    "duration": 195,
    "start_time": "2022-12-26T11:18:59.817Z"
   },
   {
    "duration": 7,
    "start_time": "2022-12-26T11:19:27.648Z"
   },
   {
    "duration": 200,
    "start_time": "2022-12-26T11:19:28.173Z"
   },
   {
    "duration": 2,
    "start_time": "2022-12-26T11:23:40.286Z"
   },
   {
    "duration": 803,
    "start_time": "2022-12-26T11:31:29.030Z"
   },
   {
    "duration": 12,
    "start_time": "2022-12-26T11:32:25.706Z"
   },
   {
    "duration": 7,
    "start_time": "2022-12-26T11:32:26.183Z"
   },
   {
    "duration": 5,
    "start_time": "2022-12-26T11:32:26.669Z"
   },
   {
    "duration": 76,
    "start_time": "2022-12-26T11:32:34.230Z"
   },
   {
    "duration": 7,
    "start_time": "2022-12-26T11:32:34.788Z"
   },
   {
    "duration": 3,
    "start_time": "2022-12-26T11:32:36.101Z"
   },
   {
    "duration": 44,
    "start_time": "2022-12-26T11:32:36.106Z"
   },
   {
    "duration": 5,
    "start_time": "2022-12-26T11:32:36.537Z"
   },
   {
    "duration": 4,
    "start_time": "2022-12-26T11:32:36.988Z"
   },
   {
    "duration": 8,
    "start_time": "2022-12-26T11:32:37.389Z"
   },
   {
    "duration": 7,
    "start_time": "2022-12-26T11:32:37.688Z"
   },
   {
    "duration": 4,
    "start_time": "2022-12-26T11:32:38.204Z"
   },
   {
    "duration": 5,
    "start_time": "2022-12-26T11:32:38.996Z"
   },
   {
    "duration": 6,
    "start_time": "2022-12-26T11:32:39.485Z"
   },
   {
    "duration": 10,
    "start_time": "2022-12-26T11:32:39.836Z"
   },
   {
    "duration": 6,
    "start_time": "2022-12-26T12:17:38.472Z"
   },
   {
    "duration": 13,
    "start_time": "2022-12-26T12:17:39.964Z"
   },
   {
    "duration": 6,
    "start_time": "2022-12-26T12:18:30.784Z"
   },
   {
    "duration": 10,
    "start_time": "2022-12-26T12:18:32.064Z"
   },
   {
    "duration": 6,
    "start_time": "2022-12-26T12:19:04.571Z"
   },
   {
    "duration": 10,
    "start_time": "2022-12-26T12:19:05.704Z"
   },
   {
    "duration": 6,
    "start_time": "2022-12-26T13:48:08.674Z"
   },
   {
    "duration": 9,
    "start_time": "2022-12-26T13:48:09.434Z"
   }
  ],
  "kernelspec": {
   "display_name": "Python 3 (ipykernel)",
   "language": "python",
   "name": "python3"
  },
  "language_info": {
   "codemirror_mode": {
    "name": "ipython",
    "version": 3
   },
   "file_extension": ".py",
   "mimetype": "text/x-python",
   "name": "python",
   "nbconvert_exporter": "python",
   "pygments_lexer": "ipython3",
   "version": "3.9.13"
  },
  "toc": {
   "base_numbering": 1,
   "nav_menu": {},
   "number_sections": true,
   "sideBar": true,
   "skip_h1_title": true,
   "title_cell": "Table of Contents",
   "title_sidebar": "Contents",
   "toc_cell": false,
   "toc_position": {},
   "toc_section_display": true,
   "toc_window_display": false
  }
 },
 "nbformat": 4,
 "nbformat_minor": 2
}
